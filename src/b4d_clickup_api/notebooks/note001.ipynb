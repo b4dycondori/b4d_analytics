{
 "cells": [
  {
   "cell_type": "code",
   "execution_count": 1,
   "metadata": {},
   "outputs": [],
   "source": [
    "from pyclickup import ClickUp\n",
    "clickup = ClickUp(\"pk_81504116_WSDP2TYT7JOIM90HAUDLY4HTDTWHLUQ0\")"
   ]
  },
  {
   "cell_type": "code",
   "execution_count": 2,
   "metadata": {},
   "outputs": [
    {
     "name": "stdout",
     "output_type": "stream",
     "text": [
      "<pyclickup.Team[9011868710] 'Bridge4Digital LATAM'>\n"
     ]
    }
   ],
   "source": [
    "main_team = clickup.teams[0]\n",
    "print(main_team)"
   ]
  },
  {
   "cell_type": "code",
   "execution_count": 8,
   "metadata": {},
   "outputs": [
    {
     "name": "stdout",
     "output_type": "stream",
     "text": [
      "<pyclickup.Space[90113131698] 'Negocios'>\n"
     ]
    }
   ],
   "source": [
    "main_space = main_team.spaces[0]\n",
    "print(main_space)"
   ]
  },
  {
   "cell_type": "code",
   "execution_count": 22,
   "metadata": {},
   "outputs": [
    {
     "name": "stdout",
     "output_type": "stream",
     "text": [
      "<pyclickup.Project[90114898184] 'CRM'>\n"
     ]
    }
   ],
   "source": [
    "main_project = main_space.projects[0]\n",
    "print(main_project)"
   ]
  },
  {
   "cell_type": "code",
   "execution_count": 40,
   "metadata": {},
   "outputs": [
    {
     "name": "stdout",
     "output_type": "stream",
     "text": [
      "[<pyclickup.Task[868cvmeqb] 'LABORATORIOS VITA S.A.'>, <pyclickup.Task[868cvmd6y] 'AVICOLA SALVADOREÑA'>, <pyclickup.Task[868cvmcc8] 'LABORATORIOS VIJOSA'>, <pyclickup.Task[868cvm8q7] 'LACTOLAC'>, <pyclickup.Task[868cvm4r3] 'LACTHOSA'>, <pyclickup.Task[868cvm3bx] 'HOLCIM EL SALVADOR'>, <pyclickup.Task[868cv9u0q] 'TERBOL B2C'>, <pyclickup.Task[868cv8grd] 'AXS FEXCO'>, <pyclickup.Task[868cv8auq] 'FAIR PLAY'>, <pyclickup.Task[868cv791d] 'MIXO (CAMBIO  BOT)'>, <pyclickup.Task[868cv786x] 'TIGO BOT CALLCENTER'>, <pyclickup.Task[868cv706b] 'TIGO B2B (CHRISTIAN'>, <pyclickup.Task[868cv5mqx] 'KICKOFF NESTLE'>, <pyclickup.Task[868cv5mb6] 'REUNION TIGO NOC'>, <pyclickup.Task[868cv5kzv] 'REUNION CUPONES TERBOL'>, <pyclickup.Task[868cv5hqz] 'REUNION TIGO CHRISTIAN BOT B2B'>, <pyclickup.Task[868cv5cfx] 'REUNION CX SOFIA(PROYECTO ENCUESTAS)'>, <pyclickup.Task[868cv5bny] 'REUNION MIXO'>, <pyclickup.Task[868cv5ang] 'REUNION PIL'>, <pyclickup.Task[868cv5aft] 'REUNION AIDISA'>, <pyclickup.Task[868cv59m0] 'EMBOL DESARROLLO'>, <pyclickup.Task[868cv598k] 'SINTESIS'>, <pyclickup.Task[868cuuh9v] 'SOFIA INTEGRACION'>, <pyclickup.Task[868cuugtx] 'NACIONAL SEGUROS'>, <pyclickup.Task[868cuug5v] 'AXS EQUIPAMIENTO'>, <pyclickup.Task[868cuuf45] 'BBO'>, <pyclickup.Task[868cuueu1] 'TADA (2DO BOT)'>, <pyclickup.Task[868cuuehp] 'AIDISA (MIXO)'>, <pyclickup.Task[868cuudhg] 'TIGO (JERONIMO)'>, <pyclickup.Task[868cuucw5] 'TIGO B2B (CHRISTIAN SAENZ)'>, <pyclickup.Task[868cuu98a] 'INDUSTRIAS LURI'>, <pyclickup.Task[868cuturr] 'EMBOL CLASIFICADOR DE CANALES'>, <pyclickup.Task[868cutu1v] 'AIDISA AUTOREPUESTOS POC'>, <pyclickup.Task[868cutrv6] 'NESTLE'>, <pyclickup.Task[868cuqp6b] 'DELIZIA'>, <pyclickup.Task[868cuqnj3] 'TIGO BUSINESS EVENTO'>, <pyclickup.Task[868crxxtq] 'LA SUPREMA MOLINO ANDINO'>, <pyclickup.Task[868crxu34] 'SIN FRONTERAS TOTTO'>, <pyclickup.Task[868crxtbc] 'COMPANEX'>, <pyclickup.Task[868ckg3ww] 'LABORATORIOS COFAR S.A.'>, <pyclickup.Task[868ckfzqa] 'BANCO INDUSTRIAL ESV'>, <pyclickup.Task[868ckfyk7] 'SOBOCE S.A.'>, <pyclickup.Task[868ckfy3j] 'DROGUERIA INTI S.A.'>, <pyclickup.Task[868ckfxde] 'MULTICINE'>, <pyclickup.Task[868ckfwq6] 'PROMUJER IFD'>, <pyclickup.Task[868ceamk5] 'TIGO B2C | ESV'>, <pyclickup.Task[868ce9hck] 'AEROMAN'>, <pyclickup.Task[868ce9eyk] 'CEPA'>, <pyclickup.Task[868ce99hw] 'PMU | AGRISAL'>, <pyclickup.Task[868ce995e] 'CRECER IFD'>, <pyclickup.Task[868cczazn] 'BANCOSOL'>, <pyclickup.Task[868ccqump] 'CINEMARK'>, <pyclickup.Task[868c0502g] 'BANCO UNION'>, <pyclickup.Task[868c04ttd] 'BANCO BISA'>, <pyclickup.Task[868byz516] 'AIDISA'>, <pyclickup.Task[868bt5tvh] 'BBO'>, <pyclickup.Task[868bt5t9m] 'CAINCO'>, <pyclickup.Task[868bt5pve] 'FAIRPLAY'>, <pyclickup.Task[868bt5p4n] 'TADA'>, <pyclickup.Task[868bt5nk9] 'PRIX'>, <pyclickup.Task[868bt5mju] 'COPELME'>, <pyclickup.Task[868bt5mah] 'MADEPA'>, <pyclickup.Task[868bt5jtb] 'ECONOMICO'>, <pyclickup.Task[868bt5jk7] 'FINILAGER'>, <pyclickup.Task[868bt5jey] 'VENADO'>, <pyclickup.Task[868bt3p5k] 'E Solutions TIGO'>, <pyclickup.Task[868bqac0d] 'PIL'>, <pyclickup.Task[868bqac09] 'EMBOL (CLASIFICACIÓN DE CANALES)'>, <pyclickup.Task[868bqac08] 'DELIZIA'>, <pyclickup.Task[868bqac06] 'SOFIA B2C'>, <pyclickup.Task[868bqac05] 'NESTLE'>]\n"
     ]
    }
   ],
   "source": [
    "print(main_project.lists[0].get_tasks())"
   ]
  },
  {
   "cell_type": "code",
   "execution_count": 23,
   "metadata": {},
   "outputs": [
    {
     "name": "stdout",
     "output_type": "stream",
     "text": [
      "[<pyclickup.Task[868cvmeqb] 'LABORATORIOS VITA S.A.'>, <pyclickup.Task[868cvmd6y] 'AVICOLA SALVADOREÑA'>, <pyclickup.Task[868cvmcc8] 'LABORATORIOS VIJOSA'>, <pyclickup.Task[868cvm8q7] 'LACTOLAC'>, <pyclickup.Task[868cvm4r3] 'LACTHOSA'>, <pyclickup.Task[868cvm3bx] 'HOLCIM EL SALVADOR'>, <pyclickup.Task[868cv9u0q] 'TERBOL B2C'>, <pyclickup.Task[868cv8grd] 'AXS FEXCO'>, <pyclickup.Task[868cv8auq] 'FAIR PLAY'>, <pyclickup.Task[868cv791d] 'MIXO (CAMBIO  BOT)'>, <pyclickup.Task[868cv786x] 'TIGO BOT CALLCENTER'>, <pyclickup.Task[868cv706b] 'TIGO B2B (CHRISTIAN'>, <pyclickup.Task[868cv5mqx] 'KICKOFF NESTLE'>, <pyclickup.Task[868cv5mb6] 'REUNION TIGO NOC'>, <pyclickup.Task[868cv5kzv] 'REUNION CUPONES TERBOL'>, <pyclickup.Task[868cv5hqz] 'REUNION TIGO CHRISTIAN BOT B2B'>, <pyclickup.Task[868cv5cfx] 'REUNION CX SOFIA(PROYECTO ENCUESTAS)'>, <pyclickup.Task[868cv5bny] 'REUNION MIXO'>, <pyclickup.Task[868cv5ang] 'REUNION PIL'>, <pyclickup.Task[868cv5aft] 'REUNION AIDISA'>, <pyclickup.Task[868cv59m0] 'EMBOL DESARROLLO'>, <pyclickup.Task[868cv598k] 'SINTESIS'>, <pyclickup.Task[868cuuh9v] 'SOFIA INTEGRACION'>, <pyclickup.Task[868cuugtx] 'NACIONAL SEGUROS'>, <pyclickup.Task[868cuug5v] 'AXS EQUIPAMIENTO'>, <pyclickup.Task[868cuuf45] 'BBO'>, <pyclickup.Task[868cuueu1] 'TADA (2DO BOT)'>, <pyclickup.Task[868cuuehp] 'AIDISA (MIXO)'>, <pyclickup.Task[868cuudhg] 'TIGO (JERONIMO)'>, <pyclickup.Task[868cuucw5] 'TIGO B2B (CHRISTIAN SAENZ)'>, <pyclickup.Task[868cuu98a] 'INDUSTRIAS LURI'>, <pyclickup.Task[868cuturr] 'EMBOL CLASIFICADOR DE CANALES'>, <pyclickup.Task[868cutu1v] 'AIDISA AUTOREPUESTOS POC'>, <pyclickup.Task[868cutrv6] 'NESTLE'>, <pyclickup.Task[868cuqp6b] 'DELIZIA'>, <pyclickup.Task[868cuqnj3] 'TIGO BUSINESS EVENTO'>, <pyclickup.Task[868crxxtq] 'LA SUPREMA MOLINO ANDINO'>, <pyclickup.Task[868crxu34] 'SIN FRONTERAS TOTTO'>, <pyclickup.Task[868crxtbc] 'COMPANEX'>, <pyclickup.Task[868ckg3ww] 'LABORATORIOS COFAR S.A.'>, <pyclickup.Task[868ckfzqa] 'BANCO INDUSTRIAL ESV'>, <pyclickup.Task[868ckfyk7] 'SOBOCE S.A.'>, <pyclickup.Task[868ckfy3j] 'DROGUERIA INTI S.A.'>, <pyclickup.Task[868ckfxde] 'MULTICINE'>, <pyclickup.Task[868ckfwq6] 'PROMUJER IFD'>, <pyclickup.Task[868ceamk5] 'TIGO B2C | ESV'>, <pyclickup.Task[868ce9hck] 'AEROMAN'>, <pyclickup.Task[868ce9eyk] 'CEPA'>, <pyclickup.Task[868ce99hw] 'PMU | AGRISAL'>, <pyclickup.Task[868ce995e] 'CRECER IFD'>, <pyclickup.Task[868cczazn] 'BANCOSOL'>, <pyclickup.Task[868ccqump] 'CINEMARK'>, <pyclickup.Task[868c0502g] 'BANCO UNION'>, <pyclickup.Task[868c04ttd] 'BANCO BISA'>, <pyclickup.Task[868byz516] 'AIDISA'>, <pyclickup.Task[868bt5tvh] 'BBO'>, <pyclickup.Task[868bt5t9m] 'CAINCO'>, <pyclickup.Task[868bt5pve] 'FAIRPLAY'>, <pyclickup.Task[868bt5p4n] 'TADA'>, <pyclickup.Task[868bt5nk9] 'PRIX'>, <pyclickup.Task[868bt5mju] 'COPELME'>, <pyclickup.Task[868bt5mah] 'MADEPA'>, <pyclickup.Task[868bt5jtb] 'ECONOMICO'>, <pyclickup.Task[868bt5jk7] 'FINILAGER'>, <pyclickup.Task[868bt5jey] 'VENADO'>, <pyclickup.Task[868bt3p5k] 'E Solutions TIGO'>, <pyclickup.Task[868bqac0d] 'PIL'>, <pyclickup.Task[868bqac09] 'EMBOL (CLASIFICACIÓN DE CANALES)'>, <pyclickup.Task[868bqac08] 'DELIZIA'>, <pyclickup.Task[868bqac06] 'SOFIA B2C'>, <pyclickup.Task[868bqac05] 'NESTLE'>]\n"
     ]
    }
   ],
   "source": [
    "all_tasks = main_project.get_all_tasks()\n",
    "print(all_tasks)"
   ]
  },
  {
   "cell_type": "code",
   "execution_count": 42,
   "metadata": {},
   "outputs": [
    {
     "name": "stdout",
     "output_type": "stream",
     "text": [
      "<pyclickup.Task[868cvmeqb] 'LABORATORIOS VITA S.A.'>\n"
     ]
    }
   ],
   "source": [
    "task_first = all_tasks[0]\n",
    "print(task_first)"
   ]
  },
  {
   "cell_type": "code",
   "execution_count": 44,
   "metadata": {},
   "outputs": [
    {
     "name": "stdout",
     "output_type": "stream",
     "text": [
      "Task Id          : 868cvmeqb\n",
      "Task Asigned     : [<pyclickup.User[81439189] 'Luis Nemtala'>, <pyclickup.User[81433673] 'Yerko Vargas'>]\n",
      "Task Creator     : <pyclickup.User[81439189] 'Luis Nemtala'>\n",
      "Task Date Created: 2025-02-28 20:20:57.875000\n",
      "Task Tags        : []\n",
      "Task Description : \n"
     ]
    }
   ],
   "source": [
    "print(f\"Task Id          : {task_first.id}\")\n",
    "print(f\"Task Asigned     : {task_first.assignees}\")\n",
    "print(f\"Task Creator     : {task_first.creator}\")\n",
    "print(f\"Task Date Created: {task_first.date_created}\")\n",
    "print(f\"Task Tags        : {task_first.tags}\")\n",
    "print(f\"Task Description : {task_first.description}\")"
   ]
  }
 ],
 "metadata": {
  "kernelspec": {
   "display_name": "fin_clickup-Z7EfOQGh",
   "language": "python",
   "name": "python3"
  },
  "language_info": {
   "codemirror_mode": {
    "name": "ipython",
    "version": 3
   },
   "file_extension": ".py",
   "mimetype": "text/x-python",
   "name": "python",
   "nbconvert_exporter": "python",
   "pygments_lexer": "ipython3",
   "version": "3.13.0"
  }
 },
 "nbformat": 4,
 "nbformat_minor": 2
}
