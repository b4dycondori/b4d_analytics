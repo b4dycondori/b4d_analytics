{
 "cells": [
  {
   "cell_type": "code",
   "execution_count": 1,
   "metadata": {},
   "outputs": [],
   "source": [
    "# Package Import\n",
    "import pandas as pd\n",
    "import numpy as np\n",
    "import re\n",
    "\n",
    "# Path\n",
    "path_raw = r'C:/Users/Usuario/Documents/b4d/data/raw/'\n",
    "path_processed = r'C:/Users/Usuario/Documents/b4d/data/processed/'\n",
    "\n",
    "# Name of file\n",
    "file_name = 'tigobo_connectly_report_v2_052025'\n",
    "\n",
    "file_name_base = 'tigobo_1804-Internet Inicial 2-Wpp'\n",
    "\n",
    "# File extension\n",
    "file_extension = '.csv'\n",
    "\n",
    "# Suffix to proceseed files\n",
    "suffix = '_clean'"
   ]
  },
  {
   "cell_type": "code",
   "execution_count": 2,
   "metadata": {},
   "outputs": [
    {
     "name": "stdout",
     "output_type": "stream",
     "text": [
      "Shape:  (615328, 8)\n"
     ]
    },
    {
     "name": "stderr",
     "output_type": "stream",
     "text": [
      "C:\\Users\\Usuario\\AppData\\Local\\Temp\\ipykernel_4704\\1447804892.py:6: DtypeWarning: Columns (10) have mixed types. Specify dtype option on import or set low_memory=False.\n",
      "  df = pd.read_csv(path_raw+file_name+file_extension, usecols=columns)\n"
     ]
    }
   ],
   "source": [
    "# Reading reporte csv\n",
    "# Columns\n",
    "columns = ['customer_external_id', 'campaign_name', 'dispatched_at', 'sent_at', 'delivered_at', 'read_at', 'error_code', 'error_msg']\n",
    "\n",
    "# Reading csv to dataframe\n",
    "df = pd.read_csv(path_raw+file_name+file_extension, usecols=columns)\n",
    "print(f\"Shape:  {df.shape}\")"
   ]
  },
  {
   "cell_type": "code",
   "execution_count": null,
   "metadata": {},
   "outputs": [],
   "source": [
    "# (Optional)\n",
    "# Reading base/original csv\n",
    "# Columns\n",
    "columns_base = ['PhoneNumber']\n",
    "\n",
    "# Reading csv to dataframe\n",
    "df_base = pd.read_csv(path_raw+file_name_base+file_extension, usecols=columns_base)\n",
    "print(f\"Shape:  {df_base.shape}\")\n"
   ]
  },
  {
   "cell_type": "code",
   "execution_count": null,
   "metadata": {},
   "outputs": [],
   "source": [
    "# (Optional)\n",
    "# Analysis 1.1\n",
    "# why some phone number was not sent the difussion message\n",
    "df_diff = df_base[~df_base['PhoneNumber'].isin(df['customer_external_id'])]\n",
    "print(f\"Shape:  {df_diff.shape}\")\n",
    "\n",
    "suffix_diff = '_not_merged'"
   ]
  },
  {
   "cell_type": "code",
   "execution_count": null,
   "metadata": {},
   "outputs": [],
   "source": [
    "# Fix 1.1 - Febrero\n",
    "# replace name test campaing in order to follow the rule\n",
    "#df['campaign_name'] = np.where(df['campaign_name']=='Cambio de caracteristicas de planes movil Postpago_Mega Plan 169_21022025', 'Cambio De Caracteristicas De Planes Movil Postpago Mega Plan 169 21022025 . Prueba',df['campaign_name'])\n",
    "#df.shape"
   ]
  },
  {
   "cell_type": "code",
   "execution_count": null,
   "metadata": {},
   "outputs": [],
   "source": [
    "# Fix 2.1\n",
    "# Exclude some campaigns beacuse it was error sending\n",
    "#df = df[df['campaign_name']!='Comunicacion Por Whatsapp Recordatorio Cambio De Caracteristicas Movil Mega Plan 180 Mega Plan 225 Mega Plan 299 Mega Plan 305 . Planes Movil Postpago Mega Plan 299 . 21 02 25 . Lote']\n",
    "#df.shape"
   ]
  },
  {
   "cell_type": "code",
   "execution_count": 3,
   "metadata": {},
   "outputs": [],
   "source": [
    "# parameter name campaign\n",
    "df['campaign_name'] = np.where(\n",
    "    df['campaign_name'] == 'Comunicacion Whatsapp . Aumento De Velocidad Hogar 01 05 . Full Tigo Plus Tv Medio B2b . 05 05 25 . 16 00 . Prueba copy 1', \n",
    "    'Comunicacion Whatsapp . Aumento De Velocidad Hogar 01 05 . Full Tigo Plus Tv Medio B2b . 05 05 25 . 16 00 . Lote 1',\n",
    "    df['campaign_name']\n",
    ")\n",
    "\n",
    "df['campaign_name'] = np.where(\n",
    "    df['campaign_name'] == 'Comunicacion Whatsapp . Cambio De Caracteristicas Hogar B2b . Internet Empresa 3 B2b . 21 05 25 . 15 30 . Prueba 1 copy 1', \n",
    "    'Comunicacion Whatsapp . Cambio De Caracteristicas Hogar B2b . Internet Empresa 3 B2b . 21 05 25 . 15 30 . Lote 1',\n",
    "    df['campaign_name']\n",
    ")\n",
    "\n",
    "df['campaign_name'] = np.where(\n",
    "    df['campaign_name'].str.upper() == 'COMUNICACION WHATSAPP . CAMBIO DE CARACTERISTICAS HOGAR . WIFI HOGAR ESENCIAL V0 . 19 05 25 . 10 30 . PRUEBA COPY 1',\n",
    "    'COMUNICACION WHATSAPP . CAMBIO DE CARACTERISTICAS HOGAR . WIFI HOGAR ESENCIAL V0 . 19 05 25 . 10 30 . LOTE 1',\n",
    "    df['campaign_name']\n",
    ")\n",
    "\n",
    "df['campaign_name'] = np.where(\n",
    "    df['campaign_name'].str.upper() == 'COMUNICACION WHATSAPP . CAMBIO DE CARACTERISTICAS HOGAR B2B . WIFI HOGAR AVANZADO B2B . 21 05 25 . 17 00 . PRUEBA COPY 1',\n",
    "    'COMUNICACION WHATSAPP . CAMBIO DE CARACTERISTICAS HOGAR B2B . WIFI HOGAR AVANZADO B2B . 21 05 25 . 17 00 . LOTE 1',\n",
    "    df['campaign_name']\n",
    ")"
   ]
  },
  {
   "cell_type": "code",
   "execution_count": 4,
   "metadata": {},
   "outputs": [],
   "source": [
    "# Upper name for all name campaigns\n",
    "df['campaign_name'] = df['campaign_name'].str.upper()"
   ]
  },
  {
   "cell_type": "code",
   "execution_count": 5,
   "metadata": {},
   "outputs": [],
   "source": [
    "# Formating the campaign name\n",
    "# Regexs\n",
    "#regex_1 = r'\\s*?\\.?\\s*?(BATCH|NORMAL|CX|LOTE|LOT|LO|COPY).*$'\n",
    "regex_1 = r'\\s*?\\.?\\s*?(BATCH|NORMAL|CX|LOTE|LOT|COPY).*$'\n",
    "regex_2 = r'\\.\\s\\d{2}$'\n",
    "regex_3 = r'\\s*?\\.?\\s*?(OK|ENVIO OK|ENVIO|PRUEBA INTERNA|PRUEBA)\\s?\\d*?$'\n",
    "regex_4 = r'\\.?\\s?PRUEBA\\s?'\n",
    "\n",
    "# Function to extraction string with regex\n",
    "def f_regex(data_str, regex, str_replace=''):\n",
    "    return re.sub(regex, str_replace, data_str, flags=re.IGNORECASE)\n",
    "\n",
    "# Applying the regex with the campaing name column\n",
    "df['campaign_name_base'] = df['campaign_name'].apply(lambda x: f_regex(x, regex_1))\n",
    "df['campaign_name_base'] = df['campaign_name_base'].apply(lambda x: f_regex(x, regex_2))\n",
    "df['campaign_name_base'] = df['campaign_name_base'].apply(lambda x: f_regex(x, regex_3))\n",
    "df['campaign_name_base'] = df['campaign_name_base'].apply(lambda x: f_regex(x, regex_4))\n",
    "\n",
    "# Verify if this campaign is test\n",
    "df['tipo'] = np.where(df['campaign_name'].str.contains('PRUEBA', na=False), 'PRUEBA', 'LOTE')\n",
    "\n",
    "# Filter to verify if this message was error\n",
    "# This filter was used in excel and below is equivalent with pandas\n",
    "# =O(ESBLANCO([@[error_code]]);NO(ESBLANCO([@[read_at]]));NO(ESBLANCO([@[delivered_at]]));NO(ESBLANCO([@[sent_at]])))\n",
    "filter_estado = (\n",
    "   # df['error_code'].isna() |                  \n",
    "    df['read_at'].notna() |                    \n",
    "    df['delivered_at'].notna() \n",
    "   # | df['sent_at'].notna()                      \n",
    ")\n",
    "df['estado'] = np.where(filter_estado, 'VERDADERO', 'FALSO' )\n",
    "\n",
    "# old code\n",
    "#df['estado'] = ~((df['error_code'] == '') | ~(df['error_code'].isna()))\n",
    "# df.dtypes"
   ]
  },
  {
   "cell_type": "code",
   "execution_count": null,
   "metadata": {},
   "outputs": [],
   "source": [
    "# Opcional\n",
    "# Exclude some campaigns beacuse it was error sending\n",
    "df_1 = df[df['campaign_name_base']=='COMUNICACION WHATSAPP CAMBIO DE CARACTERISTICAS HOGAR 01 05 . PLAN INTERNET INICIAL . 18 04 25 . 13 30']\n",
    "df_1.shape"
   ]
  },
  {
   "cell_type": "code",
   "execution_count": null,
   "metadata": {},
   "outputs": [],
   "source": [
    "\n",
    "df_diff = df_base[df_base['PhoneNumber'].isin(df_1['customer_external_id'])]\n",
    "print(f\"Shape:  {df_diff.shape}\")"
   ]
  },
  {
   "cell_type": "code",
   "execution_count": 6,
   "metadata": {},
   "outputs": [
    {
     "data": {
      "application/vnd.microsoft.datawrangler.viewer.v0+json": {
       "columns": [
        {
         "name": "index",
         "rawType": "int64",
         "type": "integer"
        },
        {
         "name": "campaign_name_base",
         "rawType": "object",
         "type": "string"
        },
        {
         "name": "LOTE",
         "rawType": "int64",
         "type": "integer"
        },
        {
         "name": "PRUEBA",
         "rawType": "int64",
         "type": "integer"
        },
        {
         "name": "All",
         "rawType": "int64",
         "type": "integer"
        }
       ],
       "ref": "8271afed-26a9-4470-ba76-b5b340805b8f",
       "rows": [
        [
         "0",
         "COMUNICACION POR WHATSAPP . CLASICO ESPANOL ESPN . 09 05 25 . 14 10",
         "238943",
         "4",
         "238947"
        ],
        [
         "1",
         "COMUNICACION WHATSAPP . AUMENTO DE VELOCIDAD HOGAR 01 05 . FULL TIGO PLUS TV MEDIO . 05 05 25 . 16 00",
         "0",
         "3",
         "3"
        ],
        [
         "2",
         "COMUNICACION WHATSAPP . AUMENTO DE VELOCIDAD HOGAR 01 05 . FULL TIGO PLUS TV MEDIO B2B . 05 05 25 . 16 00",
         "15",
         "0",
         "15"
        ],
        [
         "3",
         "COMUNICACION WHATSAPP . AUMENTO DE VELOCIDAD HOGAR 01 05 . FULL TIGO PLUS TV ULTRA B2B . 05 05 25 . 16 00",
         "7",
         "3",
         "10"
        ],
        [
         "4",
         "COMUNICACION WHATSAPP . CAMBIO DE CARACTERISTICAS HOGAR . FULL TIGO LITE . 19 05 25 . 10 30",
         "29725",
         "5",
         "29730"
        ],
        [
         "5",
         "COMUNICACION WHATSAPP . CAMBIO DE CARACTERISTICAS HOGAR . FULL TIGO LITE . 20 05 25 . 11 30",
         "31294",
         "0",
         "31294"
        ],
        [
         "6",
         "COMUNICACION WHATSAPP . CAMBIO DE CARACTERISTICAS HOGAR . FULL TIGO LITE . 22 05 25 . 13 00",
         "27",
         "0",
         "27"
        ],
        [
         "7",
         "COMUNICACION WHATSAPP . CAMBIO DE CARACTERISTICAS HOGAR . FULL TIGO LITE . 23 05 25 . 13 15",
         "1",
         "0",
         "1"
        ],
        [
         "8",
         "COMUNICACION WHATSAPP . CAMBIO DE CARACTERISTICAS HOGAR . FULL TIGO LITE . 24 05 25 . 10 00",
         "15",
         "4",
         "19"
        ],
        [
         "9",
         "COMUNICACION WHATSAPP . CAMBIO DE CARACTERISTICAS HOGAR . FULL TIGO LITE . 26 05 25 . 13 47",
         "144",
         "0",
         "144"
        ],
        [
         "10",
         "COMUNICACION WHATSAPP . CAMBIO DE CARACTERISTICAS HOGAR . INTERNET INICIAL . 19 05 25 . 10 30",
         "12136",
         "7",
         "12143"
        ],
        [
         "11",
         "COMUNICACION WHATSAPP . CAMBIO DE CARACTERISTICAS HOGAR . INTERNET INICIAL . 20 05 25 . 11 30",
         "94316",
         "0",
         "94316"
        ],
        [
         "12",
         "COMUNICACION WHATSAPP . CAMBIO DE CARACTERISTICAS HOGAR . INTERNET INICIAL . 21 05 25 . 14 30",
         "38998",
         "0",
         "38998"
        ],
        [
         "13",
         "COMUNICACION WHATSAPP . CAMBIO DE CARACTERISTICAS HOGAR . INTERNET INICIAL . 22 05 25 . 13 00",
         "26649",
         "0",
         "26649"
        ],
        [
         "14",
         "COMUNICACION WHATSAPP . CAMBIO DE CARACTERISTICAS HOGAR . INTERNET INICIAL . 23 05 25 . 13 15",
         "6",
         "0",
         "6"
        ],
        [
         "15",
         "COMUNICACION WHATSAPP . CAMBIO DE CARACTERISTICAS HOGAR . INTERNET INICIAL . 24 05 25 . 10 00",
         "87",
         "0",
         "87"
        ],
        [
         "16",
         "COMUNICACION WHATSAPP . CAMBIO DE CARACTERISTICAS HOGAR . PLAN INTERNET PLUS TV BASICO . 16 05 25 . 11 30",
         "1189",
         "8",
         "1197"
        ],
        [
         "17",
         "COMUNICACION WHATSAPP . CAMBIO DE CARACTERISTICAS HOGAR . PLAN INTERNET PLUS TV BASICO . 20 05 25 . 11 30",
         "1145",
         "0",
         "1145"
        ],
        [
         "18",
         "COMUNICACION WHATSAPP . CAMBIO DE CARACTERISTICAS HOGAR . PLAN INTERNET PLUS TV BASICO . 21 05 25 . 14 30",
         "1692",
         "0",
         "1692"
        ],
        [
         "19",
         "COMUNICACION WHATSAPP . CAMBIO DE CARACTERISTICAS HOGAR . PLAN INTERNET PLUS TV BASICO . 22 05 25 . 13 00",
         "1",
         "0",
         "1"
        ],
        [
         "20",
         "COMUNICACION WHATSAPP . CAMBIO DE CARACTERISTICAS HOGAR . PLAN INTERNET PLUS TV BASICO . 24 05 25 . 10 00",
         "9",
         "0",
         "9"
        ],
        [
         "21",
         "COMUNICACION WHATSAPP . CAMBIO DE CARACTERISTICAS HOGAR . WIFI HOGAR ESENCIAL V0 . 19 05 25 . 10 30",
         "27405",
         "5",
         "27410"
        ],
        [
         "22",
         "COMUNICACION WHATSAPP . CAMBIO DE CARACTERISTICAS HOGAR . WIFI HOGAR ESENCIAL V0 . 20 05 25 . 11 30",
         "27491",
         "0",
         "27491"
        ],
        [
         "23",
         "COMUNICACION WHATSAPP . CAMBIO DE CARACTERISTICAS HOGAR . WIFI HOGAR ESENCIAL V0 . 21 05 25 . 14 30",
         "19",
         "0",
         "19"
        ],
        [
         "24",
         "COMUNICACION WHATSAPP . CAMBIO DE CARACTERISTICAS HOGAR . WIFI HOGAR ESENCIAL V0 . 23 05 25 . 13 15",
         "18269",
         "0",
         "18269"
        ],
        [
         "25",
         "COMUNICACION WHATSAPP . CAMBIO DE CARACTERISTICAS HOGAR . WIFI HOGAR ESENCIAL V0 . 24 05 25 . 10 00",
         "801",
         "0",
         "801"
        ],
        [
         "26",
         "COMUNICACION WHATSAPP . CAMBIO DE CARACTERISTICAS HOGAR B2B . BOLSA EMPRESA PLUS 1 . 21 05 25 . 17 00",
         "18",
         "6",
         "24"
        ],
        [
         "27",
         "COMUNICACION WHATSAPP . CAMBIO DE CARACTERISTICAS HOGAR B2B . INTERNET EMPRESA 1 B2B . 21 05 25 . 15 30",
         "8",
         "7",
         "15"
        ],
        [
         "28",
         "COMUNICACION WHATSAPP . CAMBIO DE CARACTERISTICAS HOGAR B2B . INTERNET EMPRESA 3 B2B . 21 05 25 . 15 30",
         "1",
         "7",
         "8"
        ],
        [
         "29",
         "COMUNICACION WHATSAPP . CAMBIO DE CARACTERISTICAS HOGAR B2B . WIFI HOGAR AVANZADO B2B . 21 05 25 . 17 00",
         "4",
         "3",
         "7"
        ],
        [
         "30",
         "COMUNICACION WHATSAPP . CAMBIO DE CARACTERISTICAS HOGAR B2B . WIFI HOGAR ESENCIAL B2B . 22 05 25 . 13 00",
         "18",
         "3",
         "21"
        ],
        [
         "31",
         "COMUNICACION WHATSAPP . CAMBIO DE VELOCIDAD PLANES HOGAR . FULL TIGO LITE . 29 05 25 . 09 58",
         "144",
         "0",
         "144"
        ],
        [
         "32",
         "COMUNICACION WHATSAPP . CAMBIO DE VELOCIDAD PLANES HOGAR . PLAN INTERNET PLUS TV BASICO . 29 05 25 . 09 58",
         "23",
         "0",
         "23"
        ],
        [
         "33",
         "COMUNICACION WHATSAPP . CAMBIO DE VELOCIDAD PLANES HOGAR . WIFI HOGAR ESENCIAL V0 . 29 05 25 . 09 58",
         "112",
         "0",
         "112"
        ],
        [
         "34",
         "COMUNICACION WHATSAPP . FINAL DE LA CHAMPIONS LEAGUE . 30 05 25 . 08 41",
         "28649",
         "4",
         "28653"
        ],
        [
         "35",
         "COMUNICACION WHATSAPP . GESTION DTH 02 05 25 . FINAL CHAMPIONS LEAGUE . 29 05 25 . 15 53",
         "18371",
         "0",
         "18371"
        ],
        [
         "36",
         "COMUNICACION WHATSAPP . INCREMENTO DE VELOCIDAD PLANES B2B . PLAN INTERNET PLUS TV BASICO . 26 05 25 . 13 47",
         "23",
         "8",
         "31"
        ],
        [
         "37",
         "COMUNICACION WHATSAPP . INCREMENTO DE VELOCIDAD PLANES B2B . WIFI HOGAR ESENCIAL V0 . 26 05 25 . 13 47",
         "112",
         "4",
         "116"
        ],
        [
         "38",
         "COMUNICACION WHATSAPP . REZAGADOS MOVIL POST PAGO . MEGA PLAN 109 . 28 05 25 . 09 16",
         "0",
         "4",
         "4"
        ],
        [
         "39",
         "COMUNICACION WHATSAPP . REZAGADOS MOVIL POST PAGO . MEGA PLAN 129 . 28 05 25 . 09 16",
         "1",
         "0",
         "1"
        ],
        [
         "40",
         "COMUNICACION WHATSAPP . REZAGADOS MOVIL POST PAGO . MEGA PLAN 135 . 28 05 25 . 09 16",
         "6",
         "0",
         "6"
        ],
        [
         "41",
         "COMUNICACION WHATSAPP . REZAGADOS MOVIL POST PAGO . MEGA PLAN 145 . 28 05 25 . 09 16",
         "7",
         "0",
         "7"
        ],
        [
         "42",
         "COMUNICACION WHATSAPP . REZAGADOS MOVIL POST PAGO . MEGA PLAN 149 . 28 05 25 . 09 16",
         "32",
         "4",
         "36"
        ],
        [
         "43",
         "COMUNICACION WHATSAPP . REZAGADOS MOVIL POST PAGO . MEGA PLAN 165 . 28 05 25 . 09 16",
         "10",
         "0",
         "10"
        ],
        [
         "44",
         "COMUNICACION WHATSAPP . REZAGADOS MOVIL POST PAGO . MEGA PLAN 180 . 28 05 25 . 09 16",
         "14",
         "0",
         "14"
        ],
        [
         "45",
         "COMUNICACION WHATSAPP . REZAGADOS MOVIL POST PAGO . MEGA PLAN 189 . 28 05 25 . 09 16",
         "147",
         "4",
         "151"
        ],
        [
         "46",
         "COMUNICACION WHATSAPP . REZAGADOS MOVIL POST PAGO . MEGA PLAN 259 . 28 05 25 . 09 16",
         "7",
         "0",
         "7"
        ],
        [
         "47",
         "COMUNICACION WHATSAPP . REZAGADOS MOVIL POST PAGO . MEGA PLAN 269 . 28 05 25 . 09 16",
         "5",
         "0",
         "5"
        ],
        [
         "48",
         "COMUNICACION WHATSAPP . REZAGADOS MOVIL POST PAGO . MEGA PLAN 299 . 28 05 25 . 09 16",
         "5",
         "0",
         "5"
        ],
        [
         "49",
         "COMUNICACION WHATSAPP . REZAGADOS MOVIL POST PAGO . MEGA PLAN 305 . 28 05 25 . 09 16",
         "2",
         "0",
         "2"
        ]
       ],
       "shape": {
        "columns": 4,
        "rows": 61
       }
      },
      "text/html": [
       "<div>\n",
       "<style scoped>\n",
       "    .dataframe tbody tr th:only-of-type {\n",
       "        vertical-align: middle;\n",
       "    }\n",
       "\n",
       "    .dataframe tbody tr th {\n",
       "        vertical-align: top;\n",
       "    }\n",
       "\n",
       "    .dataframe thead th {\n",
       "        text-align: right;\n",
       "    }\n",
       "</style>\n",
       "<table border=\"1\" class=\"dataframe\">\n",
       "  <thead>\n",
       "    <tr style=\"text-align: right;\">\n",
       "      <th>tipo</th>\n",
       "      <th>campaign_name_base</th>\n",
       "      <th>LOTE</th>\n",
       "      <th>PRUEBA</th>\n",
       "      <th>All</th>\n",
       "    </tr>\n",
       "  </thead>\n",
       "  <tbody>\n",
       "    <tr>\n",
       "      <th>0</th>\n",
       "      <td>COMUNICACION POR WHATSAPP . CLASICO ESPANOL ES...</td>\n",
       "      <td>238943</td>\n",
       "      <td>4</td>\n",
       "      <td>238947</td>\n",
       "    </tr>\n",
       "    <tr>\n",
       "      <th>1</th>\n",
       "      <td>COMUNICACION WHATSAPP . AUMENTO DE VELOCIDAD H...</td>\n",
       "      <td>0</td>\n",
       "      <td>3</td>\n",
       "      <td>3</td>\n",
       "    </tr>\n",
       "    <tr>\n",
       "      <th>2</th>\n",
       "      <td>COMUNICACION WHATSAPP . AUMENTO DE VELOCIDAD H...</td>\n",
       "      <td>15</td>\n",
       "      <td>0</td>\n",
       "      <td>15</td>\n",
       "    </tr>\n",
       "    <tr>\n",
       "      <th>3</th>\n",
       "      <td>COMUNICACION WHATSAPP . AUMENTO DE VELOCIDAD H...</td>\n",
       "      <td>7</td>\n",
       "      <td>3</td>\n",
       "      <td>10</td>\n",
       "    </tr>\n",
       "    <tr>\n",
       "      <th>4</th>\n",
       "      <td>COMUNICACION WHATSAPP . CAMBIO DE CARACTERISTI...</td>\n",
       "      <td>29725</td>\n",
       "      <td>5</td>\n",
       "      <td>29730</td>\n",
       "    </tr>\n",
       "    <tr>\n",
       "      <th>...</th>\n",
       "      <td>...</td>\n",
       "      <td>...</td>\n",
       "      <td>...</td>\n",
       "      <td>...</td>\n",
       "    </tr>\n",
       "    <tr>\n",
       "      <th>56</th>\n",
       "      <td>COMUNICACION WHATSAPP REZAGADOS MOVIL POST PAG...</td>\n",
       "      <td>4</td>\n",
       "      <td>0</td>\n",
       "      <td>4</td>\n",
       "    </tr>\n",
       "    <tr>\n",
       "      <th>57</th>\n",
       "      <td>COMUNICACION WHATSAPP REZAGADOS MOVIL POST PAG...</td>\n",
       "      <td>1</td>\n",
       "      <td>0</td>\n",
       "      <td>1</td>\n",
       "    </tr>\n",
       "    <tr>\n",
       "      <th>58</th>\n",
       "      <td>COMUNICACION WHATSAPP REZAGADOS MOVIL POST PAG...</td>\n",
       "      <td>1</td>\n",
       "      <td>0</td>\n",
       "      <td>1</td>\n",
       "    </tr>\n",
       "    <tr>\n",
       "      <th>59</th>\n",
       "      <td>GESTION DTH . 01 05 25 . TIGO TV PRE PAGO . CL...</td>\n",
       "      <td>17089</td>\n",
       "      <td>0</td>\n",
       "      <td>17089</td>\n",
       "    </tr>\n",
       "    <tr>\n",
       "      <th>60</th>\n",
       "      <td>All</td>\n",
       "      <td>615235</td>\n",
       "      <td>93</td>\n",
       "      <td>615328</td>\n",
       "    </tr>\n",
       "  </tbody>\n",
       "</table>\n",
       "<p>61 rows × 4 columns</p>\n",
       "</div>"
      ],
      "text/plain": [
       "tipo                                 campaign_name_base    LOTE  PRUEBA  \\\n",
       "0     COMUNICACION POR WHATSAPP . CLASICO ESPANOL ES...  238943       4   \n",
       "1     COMUNICACION WHATSAPP . AUMENTO DE VELOCIDAD H...       0       3   \n",
       "2     COMUNICACION WHATSAPP . AUMENTO DE VELOCIDAD H...      15       0   \n",
       "3     COMUNICACION WHATSAPP . AUMENTO DE VELOCIDAD H...       7       3   \n",
       "4     COMUNICACION WHATSAPP . CAMBIO DE CARACTERISTI...   29725       5   \n",
       "..                                                  ...     ...     ...   \n",
       "56    COMUNICACION WHATSAPP REZAGADOS MOVIL POST PAG...       4       0   \n",
       "57    COMUNICACION WHATSAPP REZAGADOS MOVIL POST PAG...       1       0   \n",
       "58    COMUNICACION WHATSAPP REZAGADOS MOVIL POST PAG...       1       0   \n",
       "59    GESTION DTH . 01 05 25 . TIGO TV PRE PAGO . CL...   17089       0   \n",
       "60                                                  All  615235      93   \n",
       "\n",
       "tipo     All  \n",
       "0     238947  \n",
       "1          3  \n",
       "2         15  \n",
       "3         10  \n",
       "4      29730  \n",
       "..       ...  \n",
       "56         4  \n",
       "57         1  \n",
       "58         1  \n",
       "59     17089  \n",
       "60    615328  \n",
       "\n",
       "[61 rows x 4 columns]"
      ]
     },
     "execution_count": 6,
     "metadata": {},
     "output_type": "execute_result"
    }
   ],
   "source": [
    "# Count message for each campaigns\n",
    "#df.groupby('campaign_name_base', as_index=False).size()\n",
    "df_tmp = df.copy()\n",
    "df_tmp['dummy'] = 1\n",
    "result = pd.crosstab(\n",
    "        [df_tmp['campaign_name_base']], \n",
    "        df_tmp['tipo'], \n",
    "        margins=True\n",
    "    ).reset_index()\n",
    "result\n"
   ]
  },
  {
   "cell_type": "code",
   "execution_count": null,
   "metadata": {},
   "outputs": [],
   "source": [
    "# Total by error code\n",
    "#df.groupby(['error_code', 'error_msg'], as_index=False).size()\n",
    "\n",
    "df_tmp = df.copy()\n",
    "df_tmp['dummy'] = 1\n",
    "result = pd.crosstab(\n",
    "        [df_tmp['error_code'], df_tmp['error_msg']], \n",
    "        df_tmp['dummy'], \n",
    "        margins=True\n",
    "    ).reset_index()\n",
    "result\n"
   ]
  },
  {
   "cell_type": "code",
   "execution_count": null,
   "metadata": {},
   "outputs": [],
   "source": [
    "# Total by estado\n",
    "#df.groupby('estado', as_index=False).size()\n",
    "\n",
    "df_tmp = df.copy()\n",
    "df_tmp['dummy'] = 1\n",
    "result = pd.crosstab([df_tmp['estado']],df_tmp['dummy'],margins=True)\n",
    "result"
   ]
  },
  {
   "cell_type": "code",
   "execution_count": null,
   "metadata": {},
   "outputs": [],
   "source": [
    "# Change error code\n",
    "# Its not important\n",
    "# df['error_code'] = np.where(df['error_code']=='ERROR_CODE_NOT_ELIGIBLE_FOR_DELIVERY',131049,df['error_code'])\n",
    "# df.shape"
   ]
  },
  {
   "cell_type": "code",
   "execution_count": null,
   "metadata": {},
   "outputs": [],
   "source": [
    "# Format type of data column\n",
    "df['sent_at'] = pd.to_datetime(df['sent_at'], errors='coerce')\n",
    "df['dispatched_at'] = pd.to_datetime(df['dispatched_at'], errors='coerce')\n",
    "df['delivered_at'] = pd.to_datetime(df['delivered_at'], errors='coerce')\n",
    "df['read_at'] = pd.to_datetime(df['read_at'], errors='coerce')\n",
    "df['error_code'] = np.floor(pd.to_numeric(df['error_code'], errors='coerce')).astype('Int64') #df['error_code'].astype('Int64')\n",
    "\n",
    "#df['Tipo'] = np.where(df['tipo'], \"PRUEBA\", \"LOTE\")\n",
    "#df['Estado'] = np.where(df['estado'], \"VERDADERO\", \"FALSO\")"
   ]
  },
  {
   "cell_type": "code",
   "execution_count": null,
   "metadata": {},
   "outputs": [],
   "source": [
    "# drop column\n",
    "df.drop('campaign_name', axis=1, inplace=True)\n",
    "\n",
    "# reorder columns \n",
    "df = df[['customer_external_id', 'campaign_name_base', 'dispatched_at', 'sent_at',\n",
    "       'delivered_at', 'read_at', 'error_code', 'error_msg', 'estado', 'tipo']]\n",
    "df.shape"
   ]
  },
  {
   "cell_type": "code",
   "execution_count": null,
   "metadata": {},
   "outputs": [],
   "source": [
    "df.tail(2)"
   ]
  },
  {
   "cell_type": "code",
   "execution_count": null,
   "metadata": {},
   "outputs": [],
   "source": [
    "# format datetime\n",
    "df['sent_at'] = df['sent_at'].dt.strftime('%d/%m/%Y %H:%M')\n",
    "df['dispatched_at'] = df['dispatched_at'].dt.strftime('%d/%m/%Y %H:%M')\n",
    "df['delivered_at'] = df['delivered_at'].dt.strftime('%d/%m/%Y %H:%M')\n",
    "df['read_at'] = df['read_at'].dt.strftime('%d/%m/%Y %H:%M')"
   ]
  },
  {
   "cell_type": "code",
   "execution_count": null,
   "metadata": {},
   "outputs": [],
   "source": [
    "# Export as csv\n",
    "df.to_csv(path_processed+file_name+suffix+file_extension)"
   ]
  },
  {
   "cell_type": "code",
   "execution_count": null,
   "metadata": {},
   "outputs": [],
   "source": [
    "# (Opcional)\n",
    "# Export as csv\n",
    "df_diff.to_csv(path_processed+file_name_base+suffix_diff+file_extension)"
   ]
  }
 ],
 "metadata": {
  "kernelspec": {
   "display_name": "b4d_analytics-Yg60_lpz",
   "language": "python",
   "name": "python3"
  },
  "language_info": {
   "codemirror_mode": {
    "name": "ipython",
    "version": 3
   },
   "file_extension": ".py",
   "mimetype": "text/x-python",
   "name": "python",
   "nbconvert_exporter": "python",
   "pygments_lexer": "ipython3",
   "version": "3.13.0"
  }
 },
 "nbformat": 4,
 "nbformat_minor": 2
}
