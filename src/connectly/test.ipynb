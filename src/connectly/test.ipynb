{
 "cells": [
  {
   "cell_type": "code",
   "execution_count": 8,
   "id": "b3557c43",
   "metadata": {},
   "outputs": [
    {
     "name": "stdout",
     "output_type": "stream",
     "text": [
      "2025-05-29 11:51:50.730082-04:00\n",
      "2025-05-29\n",
      "11:30:00\n",
      "False\n"
     ]
    }
   ],
   "source": [
    "from datetime import datetime, timezone\n",
    "from pytz import timezone as timezone2\n",
    "\n",
    "target_tz = timezone2('America/La_Paz')\n",
    "current_datetime = datetime.now(target_tz)\n",
    "hour_closing = current_datetime.replace(hour=11, minute=30, second=0, microsecond=0)\n",
    "\n",
    "print(current_datetime)\n",
    "print(current_datetime.date())\n",
    "\n",
    "print(hour_closing.strftime(\"%H:%M:%S\"))\n",
    "print(current_datetime < hour_closing)"
   ]
  },
  {
   "cell_type": "code",
   "execution_count": 11,
   "id": "b4bfe39a",
   "metadata": {},
   "outputs": [
    {
     "name": "stdout",
     "output_type": "stream",
     "text": [
      "<class 'datetime.datetime'> 2022-06-27 13:48:34\n",
      "<class 'datetime.datetime'> 2022-06-27 13:48:34+00:00\n"
     ]
    }
   ],
   "source": [
    "event_datetime = datetime.fromtimestamp(int(1656352114))\n",
    "print(type(event_datetime), event_datetime)\n",
    "\n",
    "\n",
    "event_datetime_aware = event_datetime.replace(tzinfo=timezone.utc)\n",
    "print(type(event_datetime_aware), event_datetime_aware)"
   ]
  }
 ],
 "metadata": {
  "kernelspec": {
   "display_name": "b4d_analytics-Yg60_lpz",
   "language": "python",
   "name": "python3"
  },
  "language_info": {
   "codemirror_mode": {
    "name": "ipython",
    "version": 3
   },
   "file_extension": ".py",
   "mimetype": "text/x-python",
   "name": "python",
   "nbconvert_exporter": "python",
   "pygments_lexer": "ipython3",
   "version": "3.13.0"
  }
 },
 "nbformat": 4,
 "nbformat_minor": 5
}
