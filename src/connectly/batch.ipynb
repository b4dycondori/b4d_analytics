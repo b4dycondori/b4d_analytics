{
 "cells": [
  {
   "cell_type": "code",
   "execution_count": 1,
   "id": "431e7605",
   "metadata": {},
   "outputs": [],
   "source": [
    "import pandas as pd\n",
    "import numpy as np\n",
    "\n",
    "path_raw = r'C:/Users/Usuario/Documents/b4d/reports/tigobo/May/Comunicacion WhatsApp . Cambio de caracteristicas Hogar . Wifi Hogar Esencial v0 . 23 05 25 . 13 15/'\n",
    "file_name = '2325 Wifi Hogar Esencial v0'\n",
    "file_extension = '.xlsx'\n",
    "suffix = \"_processed\"\n",
    "\n",
    "df = pd.read_excel(path_raw+file_name+file_extension)\n",
    "# df.info()"
   ]
  },
  {
   "cell_type": "code",
   "execution_count": 2,
   "id": "791f1d2e",
   "metadata": {},
   "outputs": [],
   "source": [
    "first_number = df.columns[0]\n",
    "last_number = df[first_number].iloc[-1]\n",
    "\n",
    "df['phone_number'] = np.roll(df[first_number], shift=1)\n",
    "\n",
    "df.loc[df.shape[0]+1, 'phone_number']=first_number\n",
    "\n",
    "df = df.drop(first_number, axis=1)\n",
    "\n",
    "# Because before to use shift, it converts to float type data\n",
    "df['phone_number'] = df['phone_number'].astype(int)\n",
    "# To concat the prefix number phone country\n",
    "df['phone_number'] = df['phone_number'].astype(str)"
   ]
  },
  {
   "cell_type": "code",
   "execution_count": 3,
   "id": "4ccbc0e9",
   "metadata": {},
   "outputs": [],
   "source": [
    "# Add prefix country phone number\n",
    "df['phone_number'] = \"591\" + df['phone_number']"
   ]
  },
  {
   "cell_type": "code",
   "execution_count": 4,
   "id": "20340663",
   "metadata": {},
   "outputs": [],
   "source": [
    "# Split lotes by size lote\n",
    "lote_size = 9000\n",
    "lotes_qty = int(np.ceil(len(df) / lote_size))\n",
    "\n",
    "for i in range(lotes_qty):\n",
    "    start = i * lote_size\n",
    "    end = (i + 1) * lote_size\n",
    "    lote_data = df['phone_number'].iloc[start:end].tolist()\n",
    "    df[f'lote_{i+1}'] = pd.Series(lote_data)"
   ]
  },
  {
   "cell_type": "code",
   "execution_count": 5,
   "id": "f25675eb",
   "metadata": {},
   "outputs": [],
   "source": [
    "file_to_export = path_raw + file_name + suffix + file_extension\n",
    "\n",
    "df.to_excel(file_to_export, index=False)"
   ]
  }
 ],
 "metadata": {
  "kernelspec": {
   "display_name": "tigobo_connectly_report-xkmJBJb_",
   "language": "python",
   "name": "python3"
  },
  "language_info": {
   "codemirror_mode": {
    "name": "ipython",
    "version": 3
   },
   "file_extension": ".py",
   "mimetype": "text/x-python",
   "name": "python",
   "nbconvert_exporter": "python",
   "pygments_lexer": "ipython3",
   "version": "3.13.0"
  }
 },
 "nbformat": 4,
 "nbformat_minor": 5
}
