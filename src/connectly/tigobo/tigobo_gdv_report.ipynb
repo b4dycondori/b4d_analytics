{
 "cells": [
  {
   "cell_type": "code",
   "execution_count": 1,
   "metadata": {},
   "outputs": [],
   "source": [
    "# Package Import\n",
    "import pandas as pd\n",
    "import numpy as np\n",
    "import re\n",
    "\n",
    "# Path Files\n",
    "path_raw = r'C:/Users/Usuario/Documents/b4d/data/raw/'\n",
    "path_processed = r'C:/Users/Usuario/Documents/b4d/data/processed/'\n",
    "\n",
    "# Name of file\n",
    "file_name = 'tigobo_connectly_report_v2_0625'\n",
    "\n",
    "file_name_base = 'tigobo_wa_checking.xlsx'\n",
    "\n",
    "# File extension\n",
    "file_extension = '.csv'\n",
    "\n",
    "# Suffix to proceseed files\n",
    "suffix = '_clean'"
   ]
  },
  {
   "cell_type": "code",
   "execution_count": 2,
   "metadata": {},
   "outputs": [
    {
     "name": "stdout",
     "output_type": "stream",
     "text": [
      "Shape:  (34338, 8)\n"
     ]
    }
   ],
   "source": [
    "# Reading reporte csv\n",
    "# Columns\n",
    "columns = ['customer_external_id', 'campaign_name', 'dispatched_at', 'sent_at', 'delivered_at', 'read_at', 'error_code', 'error_msg']\n",
    "\n",
    "# Reading csv to dataframe\n",
    "df = pd.read_csv(path_raw+file_name+file_extension, usecols=columns)\n",
    "print(f\"Shape:  {df.shape}\")"
   ]
  },
  {
   "cell_type": "code",
   "execution_count": null,
   "metadata": {},
   "outputs": [],
   "source": [
    "# (Optional)\n",
    "# Reading base/original csv\n",
    "# Columns\n",
    "columns_base = ['number_phone_clean']\n",
    "\n",
    "# Reading csv to dataframe\n",
    "df_base = pd.read_csv(path_raw+file_name_base+file_extension, usecols=columns_base, delimiter=';')\n",
    "print(f\"Shape:  {df_base.shape}\")\n"
   ]
  },
  {
   "cell_type": "code",
   "execution_count": 3,
   "metadata": {},
   "outputs": [
    {
     "name": "stdout",
     "output_type": "stream",
     "text": [
      "Shape:  (124, 14)\n"
     ]
    }
   ],
   "source": [
    "df_base = pd.read_excel(path_raw+file_name_base)\n",
    "print(f\"Shape:  {df_base.shape}\")"
   ]
  },
  {
   "cell_type": "code",
   "execution_count": 4,
   "metadata": {},
   "outputs": [],
   "source": [
    "df_base['Email Date'] = pd.to_datetime(df_base['Email Date'], errors='coerce')\n",
    "df_base['Email Date Month'] = df_base['Email Date'].dt.strftime('%m')"
   ]
  },
  {
   "cell_type": "code",
   "execution_count": 5,
   "metadata": {},
   "outputs": [],
   "source": [
    "\n",
    "df_base_current_month = df_base[df_base['Email Date Month'] == '06']"
   ]
  },
  {
   "cell_type": "code",
   "execution_count": 6,
   "metadata": {},
   "outputs": [
    {
     "name": "stderr",
     "output_type": "stream",
     "text": [
      "C:\\Users\\Usuario\\AppData\\Local\\Temp\\ipykernel_2252\\317722480.py:1: SettingWithCopyWarning: \n",
      "A value is trying to be set on a copy of a slice from a DataFrame.\n",
      "Try using .loc[row_indexer,col_indexer] = value instead\n",
      "\n",
      "See the caveats in the documentation: https://pandas.pydata.org/pandas-docs/stable/user_guide/indexing.html#returning-a-view-versus-a-copy\n",
      "  df_base_current_month['Campana'] = df_base_current_month['Campana'].str.upper()\n"
     ]
    }
   ],
   "source": [
    "df_base_current_month['Campana'] = df_base_current_month['Campana'].str.upper()"
   ]
  },
  {
   "cell_type": "code",
   "execution_count": null,
   "metadata": {},
   "outputs": [],
   "source": [
    "# (Optional)\n",
    "# Analysis 1.1\n",
    "# why some phone number was not sent the difussion message\n",
    "df_diff = df_base[~df_base['number_phone_clean'].isin(df['customer_external_id'])]\n",
    "print(f\"Shape:  {df_diff.shape}\")\n",
    "\n",
    "# suffix_diff = '_not_merged'"
   ]
  },
  {
   "cell_type": "code",
   "execution_count": null,
   "metadata": {},
   "outputs": [],
   "source": [
    "# Fix 1.1 - Febrero\n",
    "# replace name test campaing in order to follow the rule\n",
    "#df['campaign_name'] = np.where(df['campaign_name']=='Cambio de caracteristicas de planes movil Postpago_Mega Plan 169_21022025', 'Cambio De Caracteristicas De Planes Movil Postpago Mega Plan 169 21022025 . Prueba',df['campaign_name'])\n",
    "#df.shape"
   ]
  },
  {
   "cell_type": "code",
   "execution_count": null,
   "metadata": {},
   "outputs": [],
   "source": [
    "# Fix 2.1\n",
    "# Exclude some campaigns beacuse it was error sending\n",
    "#df = df[df['campaign_name']!='Comunicacion Por Whatsapp Recordatorio Cambio De Caracteristicas Movil Mega Plan 180 Mega Plan 225 Mega Plan 299 Mega Plan 305 . Planes Movil Postpago Mega Plan 299 . 21 02 25 . Lote']\n",
    "#df.shape"
   ]
  },
  {
   "cell_type": "code",
   "execution_count": null,
   "metadata": {},
   "outputs": [],
   "source": [
    "# (Optional)\n",
    "# Change name campaigns\n",
    "df['campaign_name'] = np.where(\n",
    "    df['campaign_name'] == 'Comunicacion Whatsapp . Cambio De Caracteristicas Hogar . Full Tigo Lite . 24 05 25 . 10 00 . Prueba',\n",
    "    'COMUNICACION WHATSAPP . Incremento de velocidad planes B2B . FULL TIGO LITE . 26 05 25 . 13 47 . Prueba',\n",
    "    df['campaign_name']\n",
    ")\n",
    "\n",
    "df['campaign_name'] = np.where(\n",
    "    df['campaign_name'] == 'Comunicacion Whatsapp . Cambio De Caracteristicas Hogar . Full Tigo Lite . 26 05 25 . 13 47 . Lote 1',\n",
    "    'COMUNICACION WHATSAPP . Incremento de velocidad planes B2B . FULL TIGO LITE . 26 05 25 . 13 47 . Lote 1',\n",
    "    df['campaign_name']\n",
    ")\n",
    "\n",
    "\n",
    "df['campaign_name'] = np.where(\n",
    "    df['campaign_name'].str.upper() == 'COMUNICACION WHATSAPP . AUMENTO DE VELOCIDAD HOGAR 01 05 . FULL TIGO PLUS TV MEDIO . 05 05 25 . 16 00 . PRUEBA', \n",
    "    'COMUNICACION WHATSAPP . AUMENTO DE VELOCIDAD HOGAR 01 05 . FULL TIGO PLUS TV MEDIO B2B . 05 05 25 . 16 00 . PRUEBA',\n",
    "    df['campaign_name']\n",
    ")\n",
    "\n",
    "df['campaign_name'] = np.where(\n",
    "    df['campaign_name'] == 'Comunicacion Whatsapp . Aumento De Velocidad Hogar 01 05 . Full Tigo Plus Tv Medio B2b . 05 05 25 . 16 00 . Prueba copy 1', \n",
    "    'Comunicacion Whatsapp . Aumento De Velocidad Hogar 01 05 . Full Tigo Plus Tv Medio B2b . 05 05 25 . 16 00 . Lote 1',\n",
    "    df['campaign_name']\n",
    ")\n",
    "\n",
    "df['campaign_name'] = np.where(\n",
    "    df['campaign_name'] == 'Comunicacion Whatsapp . Cambio De Caracteristicas Hogar B2b . Internet Empresa 3 B2b . 21 05 25 . 15 30 . Prueba 1 copy 1', \n",
    "    'Comunicacion Whatsapp . Cambio De Caracteristicas Hogar B2b . Internet Empresa 3 B2b . 21 05 25 . 15 30 . Lote 1',\n",
    "    df['campaign_name']\n",
    ")\n",
    "\n",
    "df['campaign_name'] = np.where(\n",
    "    df['campaign_name'].str.upper() == 'COMUNICACION WHATSAPP . CAMBIO DE CARACTERISTICAS HOGAR . WIFI HOGAR ESENCIAL V0 . 19 05 25 . 10 30 . PRUEBA COPY 1',\n",
    "    'COMUNICACION WHATSAPP . CAMBIO DE CARACTERISTICAS HOGAR . WIFI HOGAR ESENCIAL V0 . 19 05 25 . 10 30 . LOTE 1',\n",
    "    df['campaign_name']\n",
    ")\n",
    "\n",
    "df['campaign_name'] = np.where(\n",
    "    df['campaign_name'].str.upper() == 'COMUNICACION WHATSAPP . CAMBIO DE CARACTERISTICAS HOGAR B2B . WIFI HOGAR AVANZADO B2B . 21 05 25 . 17 00 . PRUEBA COPY 1',\n",
    "    'COMUNICACION WHATSAPP . CAMBIO DE CARACTERISTICAS HOGAR B2B . WIFI HOGAR AVANZADO B2B . 21 05 25 . 17 00 . LOTE 1',\n",
    "    df['campaign_name']\n",
    ")"
   ]
  },
  {
   "cell_type": "code",
   "execution_count": 7,
   "metadata": {},
   "outputs": [],
   "source": [
    "# Upper name for all name campaigns\n",
    "df['campaign_name'] = df['campaign_name'].str.upper()"
   ]
  },
  {
   "cell_type": "code",
   "execution_count": null,
   "metadata": {},
   "outputs": [],
   "source": [
    "# Formating the campaign name\n",
    "# Regexs\n",
    "#regex_1 = r'\\s*?\\.?\\s*?(BATCH|NORMAL|CX|LOTE|LOT|LO|COPY).*$'\n",
    "regex_1 = r'\\s*?\\.?\\s*?(BATCH|NORMAL|CX|LOTE|LOT|COPY).*$'\n",
    "regex_2 = r'\\.\\s\\d{2}$'\n",
    "regex_3 = r'\\s*?\\.?\\s*?(OK|ENVIO OK|ENVIO|PRUEBA INTERNA|PRUEBA)\\s?\\d*?$'\n",
    "regex_4 = r'\\.?\\s?PRUEBA\\s?'\n",
    "\n",
    "# Function to extraction string with regex\n",
    "def f_regex(data_str, regex, str_replace=''):\n",
    "    return re.sub(regex, str_replace, data_str, flags=re.IGNORECASE)\n",
    "\n",
    "# Applying the regex with the campaing name column\n",
    "df['campaign_name_base'] = df['campaign_name'].apply(lambda x: f_regex(x, regex_1))\n",
    "df['campaign_name_base'] = df['campaign_name_base'].apply(lambda x: f_regex(x, regex_2))\n",
    "df['campaign_name_base'] = df['campaign_name_base'].apply(lambda x: f_regex(x, regex_3))\n",
    "df['campaign_name_base'] = df['campaign_name_base'].apply(lambda x: f_regex(x, regex_4))\n",
    "\n",
    "# Verify if this campaign is test\n",
    "df['tipo'] = np.where(df['campaign_name'].str.contains('PRUEBA', na=False), 'PRUEBA', 'LOTE')\n",
    "\n",
    "# Filter to verify if this message was error\n",
    "# This filter was used in excel and below is equivalent with pandas\n",
    "# =O(ESBLANCO([@[error_code]]);NO(ESBLANCO([@[read_at]]));NO(ESBLANCO([@[delivered_at]]));NO(ESBLANCO([@[sent_at]])))\n",
    "filter_estado = (\n",
    "    # df['error_code'].isna() |                  \n",
    "    df['read_at'].notna() |                    \n",
    "    df['delivered_at'].notna() \n",
    "   # | df['sent_at'].notna()                      \n",
    ")\n",
    "df['estado'] = np.where(filter_estado, 'VERDADERO', 'FALSO' )\n",
    "\n",
    "# old code\n",
    "#df['estado'] = ~((df['error_code'] == '') | ~(df['error_code'].isna()))\n",
    "# df.dtypes"
   ]
  },
  {
   "cell_type": "code",
   "execution_count": 9,
   "metadata": {},
   "outputs": [],
   "source": [
    "df_final = df.merge(df_base_current_month, left_on='campaign_name_base', right_on='Campana', how='inner')"
   ]
  },
  {
   "cell_type": "code",
   "execution_count": 10,
   "metadata": {},
   "outputs": [],
   "source": [
    "df_final = df_final.drop_duplicates()"
   ]
  },
  {
   "cell_type": "code",
   "execution_count": null,
   "metadata": {},
   "outputs": [],
   "source": [
    "# (Opcional)\n",
    "# Exclude some campaigns beacuse it was error sending\n",
    "df_1 = df[df['campaign_name_base']=='COMUNICACION WHATSAPP CAMBIO DE CARACTERISTICAS HOGAR 01 05 . PLAN INTERNET INICIAL . 18 04 25 . 13 30']\n",
    "df_1.shape"
   ]
  },
  {
   "cell_type": "code",
   "execution_count": null,
   "metadata": {},
   "outputs": [],
   "source": [
    "# (Optional)\n",
    "df_diff = df_base[df_base['PhoneNumber'].isin(df_1['customer_external_id'])]\n",
    "print(f\"Shape:  {df_diff.shape}\")"
   ]
  },
  {
   "cell_type": "code",
   "execution_count": null,
   "metadata": {},
   "outputs": [],
   "source": [
    "df_final_empty = df_final[~df_final['Campana'].notna()]"
   ]
  },
  {
   "cell_type": "code",
   "execution_count": null,
   "metadata": {},
   "outputs": [],
   "source": [
    "# Count message for each campaigns\n",
    "#df.groupby('campaign_name_base', as_index=False).size()\n",
    "df_tmp = df_final.copy()\n",
    "df_tmp['dummy'] = 1\n",
    "result = pd.crosstab(\n",
    "        [df_tmp['campaign_name_base']], \n",
    "        df_tmp['tipo'], \n",
    "        margins=True\n",
    "    ).reset_index()\n",
    "result\n"
   ]
  },
  {
   "cell_type": "code",
   "execution_count": null,
   "metadata": {},
   "outputs": [],
   "source": [
    "df_tmp = df_final.copy()\n",
    "df_tmp['dummy'] = 1\n",
    "result = pd.crosstab(\n",
    "        [df_tmp['campaign_name_base']], \n",
    "        df_tmp['tipo'], \n",
    "        margins=True\n",
    "    ).reset_index()\n",
    "result"
   ]
  },
  {
   "cell_type": "code",
   "execution_count": null,
   "metadata": {},
   "outputs": [],
   "source": [
    "# Total by error code\n",
    "#df.groupby(['error_code', 'error_msg'], as_index=False).size()\n",
    "\n",
    "df_tmp = df_final.copy()\n",
    "df_tmp['dummy'] = 1\n",
    "result = pd.crosstab(\n",
    "        [df_tmp['error_code'], df_tmp['error_msg']], \n",
    "        df_tmp['dummy'], \n",
    "        margins=True\n",
    "    ).reset_index()\n",
    "result\n"
   ]
  },
  {
   "cell_type": "code",
   "execution_count": 11,
   "metadata": {},
   "outputs": [
    {
     "data": {
      "application/vnd.microsoft.datawrangler.viewer.v0+json": {
       "columns": [
        {
         "name": "estado",
         "rawType": "object",
         "type": "string"
        },
        {
         "name": "1",
         "rawType": "int64",
         "type": "integer"
        },
        {
         "name": "All",
         "rawType": "int64",
         "type": "integer"
        }
       ],
       "ref": "c9ae6af4-5a7d-4843-98ae-e8a02b850768",
       "rows": [
        [
         "FALSO",
         "10223",
         "10223"
        ],
        [
         "VERDADERO",
         "24115",
         "24115"
        ],
        [
         "All",
         "34338",
         "34338"
        ]
       ],
       "shape": {
        "columns": 2,
        "rows": 3
       }
      },
      "text/html": [
       "<div>\n",
       "<style scoped>\n",
       "    .dataframe tbody tr th:only-of-type {\n",
       "        vertical-align: middle;\n",
       "    }\n",
       "\n",
       "    .dataframe tbody tr th {\n",
       "        vertical-align: top;\n",
       "    }\n",
       "\n",
       "    .dataframe thead th {\n",
       "        text-align: right;\n",
       "    }\n",
       "</style>\n",
       "<table border=\"1\" class=\"dataframe\">\n",
       "  <thead>\n",
       "    <tr style=\"text-align: right;\">\n",
       "      <th>dummy</th>\n",
       "      <th>1</th>\n",
       "      <th>All</th>\n",
       "    </tr>\n",
       "    <tr>\n",
       "      <th>estado</th>\n",
       "      <th></th>\n",
       "      <th></th>\n",
       "    </tr>\n",
       "  </thead>\n",
       "  <tbody>\n",
       "    <tr>\n",
       "      <th>FALSO</th>\n",
       "      <td>10223</td>\n",
       "      <td>10223</td>\n",
       "    </tr>\n",
       "    <tr>\n",
       "      <th>VERDADERO</th>\n",
       "      <td>24115</td>\n",
       "      <td>24115</td>\n",
       "    </tr>\n",
       "    <tr>\n",
       "      <th>All</th>\n",
       "      <td>34338</td>\n",
       "      <td>34338</td>\n",
       "    </tr>\n",
       "  </tbody>\n",
       "</table>\n",
       "</div>"
      ],
      "text/plain": [
       "dummy          1    All\n",
       "estado                 \n",
       "FALSO      10223  10223\n",
       "VERDADERO  24115  24115\n",
       "All        34338  34338"
      ]
     },
     "execution_count": 11,
     "metadata": {},
     "output_type": "execute_result"
    }
   ],
   "source": [
    "# Total by estado\n",
    "df_tmp = df_final.copy()\n",
    "df_tmp['dummy'] = 1\n",
    "result = pd.crosstab([df_tmp['estado']],df_tmp['dummy'],margins=True)\n",
    "result"
   ]
  },
  {
   "cell_type": "code",
   "execution_count": null,
   "metadata": {},
   "outputs": [],
   "source": [
    "# Change error code\n",
    "# Its not important\n",
    "# df['error_code'] = np.where(df['error_code']=='ERROR_CODE_NOT_ELIGIBLE_FOR_DELIVERY',131049,df['error_code'])\n",
    "# df.shape"
   ]
  },
  {
   "cell_type": "code",
   "execution_count": 12,
   "metadata": {},
   "outputs": [],
   "source": [
    "# Format type of data column\n",
    "df_final['sent_at'] = pd.to_datetime(df_final['sent_at'], errors='coerce')\n",
    "df_final['dispatched_at'] = pd.to_datetime(df_final['dispatched_at'], errors='coerce')\n",
    "df_final['delivered_at'] = pd.to_datetime(df_final['delivered_at'], errors='coerce')\n",
    "df_final['read_at'] = pd.to_datetime(df_final['read_at'], errors='coerce')\n",
    "df_final['error_code'] = np.floor(pd.to_numeric(df_final['error_code'], errors='coerce')).astype('Int64') #df['error_code'].astype('Int64')\n",
    "\n",
    "#df['Tipo'] = np.where(df['tipo'], \"PRUEBA\", \"LOTE\")\n",
    "#df['Estado'] = np.where(df['estado'], \"VERDADERO\", \"FALSO\")"
   ]
  },
  {
   "cell_type": "code",
   "execution_count": 13,
   "metadata": {},
   "outputs": [
    {
     "data": {
      "text/plain": [
       "(34338, 14)"
      ]
     },
     "execution_count": 13,
     "metadata": {},
     "output_type": "execute_result"
    }
   ],
   "source": [
    "# drop column\n",
    "df_final.drop('campaign_name', axis=1, inplace=True)\n",
    "\n",
    "# reorder columns \n",
    "df_final = df_final[['customer_external_id', 'campaign_name_base', 'dispatched_at', 'sent_at',\n",
    "       'delivered_at', 'read_at', 'error_code', 'error_msg', 'estado', 'tipo', 'Email Date', 'Email Hour', 'Tipo', 'Author']]\n",
    "df_final.shape"
   ]
  },
  {
   "cell_type": "code",
   "execution_count": null,
   "metadata": {},
   "outputs": [],
   "source": [
    "df.tail(2)"
   ]
  },
  {
   "cell_type": "code",
   "execution_count": 14,
   "metadata": {},
   "outputs": [],
   "source": [
    "# format datetime\n",
    "df_final['sent_at'] = df_final['sent_at'].dt.strftime('%d/%m/%Y %H:%M')\n",
    "df_final['dispatched_at'] = df_final['dispatched_at'].dt.strftime('%d/%m/%Y %H:%M')\n",
    "df_final['delivered_at'] = df_final['delivered_at'].dt.strftime('%d/%m/%Y %H:%M')\n",
    "df_final['read_at'] = df_final['read_at'].dt.strftime('%d/%m/%Y %H:%M')"
   ]
  },
  {
   "cell_type": "code",
   "execution_count": 15,
   "metadata": {},
   "outputs": [],
   "source": [
    "# Export as csv\n",
    "df_final.to_csv(path_processed+file_name+suffix+file_extension, index=False)"
   ]
  },
  {
   "cell_type": "code",
   "execution_count": null,
   "metadata": {},
   "outputs": [],
   "source": [
    "# (Opcional)\n",
    "# Export as csv\n",
    "df_diff.to_csv(path_processed+file_name_base+suffix_diff+file_extension)"
   ]
  }
 ],
 "metadata": {
  "kernelspec": {
   "display_name": "b4d_analytics-Yg60_lpz",
   "language": "python",
   "name": "python3"
  },
  "language_info": {
   "codemirror_mode": {
    "name": "ipython",
    "version": 3
   },
   "file_extension": ".py",
   "mimetype": "text/x-python",
   "name": "python",
   "nbconvert_exporter": "python",
   "pygments_lexer": "ipython3",
   "version": "3.13.0"
  }
 },
 "nbformat": 4,
 "nbformat_minor": 2
}
