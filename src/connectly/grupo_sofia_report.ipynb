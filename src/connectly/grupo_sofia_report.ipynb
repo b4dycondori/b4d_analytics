{
 "cells": [
  {
   "cell_type": "code",
   "execution_count": 22,
   "metadata": {},
   "outputs": [],
   "source": [
    "# Package Import\n",
    "import pandas as pd\n",
    "import numpy as np\n",
    "import re\n",
    "import json \n",
    "\n",
    "# Path\n",
    "path_raw = r'C:/Users/Usuario/Documents/b4d/data/raw/'\n",
    "path_processed = r'C:/Users/Usuario/Documents/b4d/data/processed/'\n",
    "\n",
    "# Name of file\n",
    "file_name = 'grupo_sofia_connectly_report_v2'\n",
    "\n",
    "# file_name_base = 'tigobo_1804-Internet Inicial 2-Wpp'\n",
    "\n",
    "# File extension\n",
    "file_extension = '.csv'\n",
    "\n",
    "# Suffix to proceseed files\n",
    "suffix = '_clean'"
   ]
  },
  {
   "cell_type": "code",
   "execution_count": null,
   "metadata": {},
   "outputs": [],
   "source": [
    "df_original = pd.read_csv(path_raw+file_name+file_extension)\n"
   ]
  },
  {
   "cell_type": "code",
   "execution_count": 23,
   "metadata": {},
   "outputs": [
    {
     "name": "stdout",
     "output_type": "stream",
     "text": [
      "Shape:  (2887, 9)\n"
     ]
    }
   ],
   "source": [
    "# Reading reporte csv\n",
    "# Columns\n",
    "columns = ['customer_external_id', 'campaign_name', 'dispatched_at', 'sent_at', 'delivered_at', 'read_at', 'error_code', 'error_msg', 'link_clicks']\n",
    "\n",
    "# Reading csv to dataframe\n",
    "df = pd.read_csv(path_raw+file_name+file_extension, usecols=columns)\n",
    "print(f\"Shape:  {df.shape}\")"
   ]
  },
  {
   "cell_type": "code",
   "execution_count": null,
   "metadata": {},
   "outputs": [],
   "source": [
    "# (Optional)\n",
    "# Reading base/original csv\n",
    "# Columns\n",
    "columns_base = ['PhoneNumber']\n",
    "\n",
    "# Reading csv to dataframe\n",
    "df_base = pd.read_csv(path_raw+file_name_base+file_extension, usecols=columns_base)\n",
    "print(f\"Shape:  {df_base.shape}\")\n"
   ]
  },
  {
   "cell_type": "code",
   "execution_count": null,
   "metadata": {},
   "outputs": [],
   "source": [
    "# (Optional)\n",
    "# Analysis 1.1\n",
    "# why some phone number was not sent the difussion message\n",
    "df_diff = df_base[~df_base['PhoneNumber'].isin(df['customer_external_id'])]\n",
    "print(f\"Shape:  {df_diff.shape}\")\n",
    "\n",
    "suffix_diff = '_not_merged'"
   ]
  },
  {
   "cell_type": "code",
   "execution_count": null,
   "metadata": {},
   "outputs": [],
   "source": [
    "# Fix 1.1 - Febrero\n",
    "# replace name test campaing in order to follow the rule\n",
    "#df['campaign_name'] = np.where(df['campaign_name']=='Cambio de caracteristicas de planes movil Postpago_Mega Plan 169_21022025', 'Cambio De Caracteristicas De Planes Movil Postpago Mega Plan 169 21022025 . Prueba',df['campaign_name'])\n",
    "#df.shape"
   ]
  },
  {
   "cell_type": "code",
   "execution_count": null,
   "metadata": {},
   "outputs": [],
   "source": [
    "# Fix 2.1\n",
    "# Exclude some campaigns beacuse it was error sending\n",
    "#df = df[df['campaign_name']!='Comunicacion Por Whatsapp Recordatorio Cambio De Caracteristicas Movil Mega Plan 180 Mega Plan 225 Mega Plan 299 Mega Plan 305 . Planes Movil Postpago Mega Plan 299 . 21 02 25 . Lote']\n",
    "#df.shape"
   ]
  },
  {
   "cell_type": "code",
   "execution_count": null,
   "metadata": {},
   "outputs": [],
   "source": [
    "#\n",
    "df = df[df['campaign_name'].isin(['Datos Empresa Oc Mensajeria . Bridgeconnectly web . 23 05 25 . Prueba', 'Datos Empresa Oc Mensajeria . Bridgeconnectly Wapp . 23 05 25 . Lote2', 'Datos Empresa Oc Mensajeria . Bridgeconnectly wapp . 23 05 25 . lote1'])]"
   ]
  },
  {
   "cell_type": "code",
   "execution_count": 24,
   "metadata": {},
   "outputs": [],
   "source": [
    "# Upper name for all name campaigns\n",
    "df['campaign_name'] = df['campaign_name'].str.upper()"
   ]
  },
  {
   "cell_type": "code",
   "execution_count": null,
   "metadata": {},
   "outputs": [],
   "source": [
    "# Formating the campaign name\n",
    "# Regexs\n",
    "#regex_1 = r'\\s*?\\.?\\s*?(BATCH|NORMAL|CX|LOTE|LOT|LO|COPY).*$'\n",
    "regex_1 = r'\\s*?\\.?\\s*?(BATCH|NORMAL|CX|LOTE|LOT|COPY).*$'\n",
    "regex_2 = r'\\.\\s\\d{2}$'\n",
    "regex_3 = r'\\s*?\\.?\\s*?(OK|ENVIO OK|ENVIO|PRUEBA INTERNA|PRUEBA)\\s?\\d*?$'\n",
    "regex_4 = r'\\.?\\s?PRUEBA\\s?'\n",
    "\n",
    "# Function to extraction string with regex\n",
    "def f_regex(data_str, regex, str_replace=''):\n",
    "    return re.sub(regex, str_replace, data_str, flags=re.IGNORECASE)\n",
    "\n",
    "# Applying the regex with the campaing name column\n",
    "df['campaign_name_base'] = df['campaign_name'].apply(lambda x: f_regex(x, regex_1))\n",
    "df['campaign_name_base'] = df['campaign_name_base'].apply(lambda x: f_regex(x, regex_2))\n",
    "df['campaign_name_base'] = df['campaign_name_base'].apply(lambda x: f_regex(x, regex_3))\n",
    "df['campaign_name_base'] = df['campaign_name_base'].apply(lambda x: f_regex(x, regex_4))\n",
    "\n",
    "# Filter to verify if this message was error\n",
    "# This filter was used in excel and below is equivalent with pandas\n",
    "# =O(ESBLANCO([@[error_code]]);NO(ESBLANCO([@[read_at]]));NO(ESBLANCO([@[delivered_at]]));NO(ESBLANCO([@[sent_at]])))\n",
    "filter_delivered = (\n",
    "   # df['error_code'].isna() |                  \n",
    "    df['read_at'].notna() |                    \n",
    "    df['delivered_at'].notna() \n",
    "   # | df['sent_at'].notna()                      \n",
    ")\n",
    "df['delivered'] = np.where(filter_delivered, 'TRUE', 'FALSE')\n",
    "\n",
    "df['read'] = np.where(df['read_at'].notna(), 'TRUE', 'FALSE')\n",
    "\n",
    "# old code\n",
    "#df['estado'] = ~((df['error_code'] == '') | ~(df['error_code'].isna()))\n",
    "# df.dtypes"
   ]
  },
  {
   "cell_type": "code",
   "execution_count": null,
   "metadata": {},
   "outputs": [],
   "source": [
    "# Verify if this campaign is test\n",
    "# df['tipo'] = np.where(df['campaign_name'].str.contains('PRUEBA', na=False), 'PRUEBA', 'LOTE')\n",
    "\n",
    "df['tipo'] = np.where(\n",
    "     df['campaign_name'].isin([\n",
    "        'ENCUESTA SOFIA . 25 06 25 . PRUEBA3',\n",
    "        'ENCUESTA SOFIA . 25 06 25 . PRUEBA2',\n",
    "        'ENCUESTA SOFIA . 25 06 25 . PRUEBA1'\n",
    "    ]),\n",
    "    'PRUEBA',\n",
    "    'LOTE'\n",
    ")"
   ]
  },
  {
   "cell_type": "code",
   "execution_count": null,
   "metadata": {},
   "outputs": [],
   "source": [
    "# regex_5 = r'Compra por Whatsapp'\n",
    "\n",
    "# df['buy_wsp'] = np.where(df['link_clicks'].str.contains(regex_5, case=True, regex=True, na=False), 'TRUE', 'FALSE')\n",
    "\n",
    "# regex_6 = r'Compra por web'\n",
    "\n",
    "# df['buy_web'] = np.where(df['link_clicks'].str.contains(regex_6, case=True, regex=True, na=False), 'TRUE', 'FALSE')"
   ]
  },
  {
   "cell_type": "code",
   "execution_count": 27,
   "metadata": {},
   "outputs": [],
   "source": [
    "df['link_clicks'] = df['link_clicks'].astype(str)"
   ]
  },
  {
   "cell_type": "code",
   "execution_count": 28,
   "metadata": {},
   "outputs": [],
   "source": [
    "def get_first_name(json_str):\n",
    "    try:\n",
    "        data = json.loads(json_str)\n",
    "        data_sorted = sorted(data, key=lambda x: x[\"ts\"])\n",
    "        return data_sorted[0][\"name\"] if isinstance(data_sorted, list) and len(data_sorted) > 0 else None\n",
    "    except (json.JSONDecodeError, KeyError):\n",
    "        return None\n",
    "    \n",
    "df['survey_status'] = np.where(df['link_clicks'].apply(get_first_name) == \"Responder encuesta\", \"TRUE\", \"FALSE\")\n",
    "# df['buy_web'] = np.where(df['link_clicks'].apply(get_first_name) == \"Compra por web\", \"TRUE\", \"FALSE\")"
   ]
  },
  {
   "cell_type": "code",
   "execution_count": 29,
   "metadata": {},
   "outputs": [],
   "source": [
    "\n",
    "df[\"button_survey_count\"] = df[\"link_clicks\"].apply(\n",
    "    lambda x: sum(1 for event in json.loads(x) if isinstance(event, dict) and event[\"name\"] == \"Responder encuesta\")\n",
    "    if x != 'nan' and pd.notna(x) and x.strip() != \"\" else 0\n",
    ")\n",
    "\n",
    "# df[\"buy_web_count\"] = df[\"link_clicks\"].apply(\n",
    "#     lambda x: sum(1 for event in json.loads(x) if isinstance(event, dict) and event[\"name\"] == \"Compra por web\")\n",
    "#     if x != 'nan' and pd.notna(x) and x.strip() != \"\" else 0\n",
    "# )"
   ]
  },
  {
   "cell_type": "code",
   "execution_count": 30,
   "metadata": {},
   "outputs": [],
   "source": [
    "# \n",
    "# df['engagement'] = df[\"buy_wsp_count\"] + df[\"buy_web_count\"]\n",
    "df['engagement'] = df[\"button_survey_count\"]"
   ]
  },
  {
   "cell_type": "code",
   "execution_count": 31,
   "metadata": {},
   "outputs": [],
   "source": [
    "# \n",
    "def date_assign(name):\n",
    "    if name in ['ENCUESTA SOFIA . 25 06 25 . PRUEBA4']:\n",
    "        return pd.to_datetime('2025-06-26 16:30')\n",
    "    elif name in ['ENCUESTA SOFIA . 25 06 25 . PRUEBA3']:\n",
    "        return pd.to_datetime('2025-06-26 16:30')\n",
    "    elif name in ['ENCUESTA SOFIA . 25 06 25 . PRUEBA2']:\n",
    "        return pd.to_datetime('2025-06-26 16:30')\n",
    "    elif name in ['ENCUESTA SOFIA . 25 06 25 . PRUEBA1']:\n",
    "        return pd.to_datetime('2025-06-26 16:30')\n",
    "    else:\n",
    "        return pd.NaT \n",
    "    \n",
    "df['date'] = df['campaign_name'].apply(date_assign)"
   ]
  },
  {
   "cell_type": "code",
   "execution_count": 32,
   "metadata": {},
   "outputs": [],
   "source": [
    "df['day'] = df['date'].dt.day_name(locale='es_ES')\n",
    "df['hour'] = df['date'].dt.strftime('%H:%M:%S')"
   ]
  },
  {
   "cell_type": "code",
   "execution_count": null,
   "metadata": {},
   "outputs": [],
   "source": [
    "# Count message for each campaigns\n",
    "#df.groupby('campaign_name_base', as_index=False).size()\n",
    "df_tmp = df.copy()\n",
    "df_tmp['dummy'] = 1\n",
    "result = pd.crosstab(\n",
    "        [df_tmp['campaign_name_base']], \n",
    "        df_tmp['tipo'], \n",
    "        margins=True\n",
    "    ).reset_index()\n",
    "result\n"
   ]
  },
  {
   "cell_type": "code",
   "execution_count": null,
   "metadata": {},
   "outputs": [],
   "source": [
    "# Total by error code\n",
    "#df.groupby(['error_code', 'error_msg'], as_index=False).size()\n",
    "\n",
    "df_tmp = df.copy()\n",
    "df_tmp['dummy'] = 1\n",
    "result = pd.crosstab(\n",
    "        [df_tmp['error_code'], df_tmp['error_msg']], \n",
    "        df_tmp['dummy'], \n",
    "        margins=True\n",
    "    ).reset_index()\n",
    "result\n"
   ]
  },
  {
   "cell_type": "code",
   "execution_count": null,
   "metadata": {},
   "outputs": [],
   "source": [
    "# Total by estado\n",
    "#df.groupby('estado', as_index=False).size()\n",
    "\n",
    "df_tmp = df.copy()\n",
    "df_tmp['dummy'] = 1\n",
    "result = pd.crosstab([df_tmp['estado']],df_tmp['dummy'],margins=True)\n",
    "result"
   ]
  },
  {
   "cell_type": "code",
   "execution_count": null,
   "metadata": {},
   "outputs": [],
   "source": [
    "# Change error code\n",
    "# Its not important\n",
    "# df['error_code'] = np.where(df['error_code']=='ERROR_CODE_NOT_ELIGIBLE_FOR_DELIVERY',131049,df['error_code'])\n",
    "# df.shape"
   ]
  },
  {
   "cell_type": "code",
   "execution_count": 33,
   "metadata": {},
   "outputs": [],
   "source": [
    "# Format type of data column\n",
    "df['sent_at'] = pd.to_datetime(df['sent_at'], errors='coerce')\n",
    "df['dispatched_at'] = pd.to_datetime(df['dispatched_at'], errors='coerce')\n",
    "df['delivered_at'] = pd.to_datetime(df['delivered_at'], errors='coerce')\n",
    "df['read_at'] = pd.to_datetime(df['read_at'], errors='coerce')\n",
    "df['date'] = pd.to_datetime(df['date'], errors='coerce')\n",
    "df['error_code'] = np.floor(pd.to_numeric(df['error_code'], errors='coerce')).astype('Int64') #df['error_code'].astype('Int64')\n",
    "\n",
    "#df['Tipo'] = np.where(df['tipo'], \"PRUEBA\", \"LOTE\")\n",
    "#df['Estado'] = np.where(df['estado'], \"VERDADERO\", \"FALSO\")"
   ]
  },
  {
   "cell_type": "code",
   "execution_count": 34,
   "metadata": {},
   "outputs": [
    {
     "data": {
      "text/plain": [
       "(2887, 18)"
      ]
     },
     "execution_count": 34,
     "metadata": {},
     "output_type": "execute_result"
    }
   ],
   "source": [
    "# drop column\n",
    "df.drop('campaign_name', axis=1, inplace=True)\n",
    "\n",
    "# reorder columns \n",
    "df = df[['customer_external_id', 'campaign_name_base', 'tipo', 'dispatched_at', 'sent_at',\n",
    "       'delivered_at', 'read_at', 'error_code', 'error_msg', 'link_clicks', 'delivered',\n",
    "       'read', 'engagement', 'survey_status', 'button_survey_count', 'date', 'day', 'hour']]\n",
    "df.shape"
   ]
  },
  {
   "cell_type": "code",
   "execution_count": 35,
   "metadata": {},
   "outputs": [
    {
     "data": {
      "application/vnd.microsoft.datawrangler.viewer.v0+json": {
       "columns": [
        {
         "name": "index",
         "rawType": "int64",
         "type": "integer"
        },
        {
         "name": "customer_external_id",
         "rawType": "int64",
         "type": "integer"
        },
        {
         "name": "campaign_name_base",
         "rawType": "object",
         "type": "string"
        },
        {
         "name": "tipo",
         "rawType": "object",
         "type": "string"
        },
        {
         "name": "dispatched_at",
         "rawType": "datetime64[ns]",
         "type": "datetime"
        },
        {
         "name": "sent_at",
         "rawType": "datetime64[ns]",
         "type": "datetime"
        },
        {
         "name": "delivered_at",
         "rawType": "datetime64[ns]",
         "type": "datetime"
        },
        {
         "name": "read_at",
         "rawType": "datetime64[ns]",
         "type": "datetime"
        },
        {
         "name": "error_code",
         "rawType": "Int64",
         "type": "integer"
        },
        {
         "name": "error_msg",
         "rawType": "object",
         "type": "unknown"
        },
        {
         "name": "link_clicks",
         "rawType": "object",
         "type": "string"
        },
        {
         "name": "delivered",
         "rawType": "object",
         "type": "string"
        },
        {
         "name": "read",
         "rawType": "object",
         "type": "string"
        },
        {
         "name": "engagement",
         "rawType": "int64",
         "type": "integer"
        },
        {
         "name": "survey_status",
         "rawType": "object",
         "type": "string"
        },
        {
         "name": "button_survey_count",
         "rawType": "int64",
         "type": "integer"
        },
        {
         "name": "date",
         "rawType": "datetime64[ns]",
         "type": "datetime"
        },
        {
         "name": "day",
         "rawType": "object",
         "type": "string"
        },
        {
         "name": "hour",
         "rawType": "object",
         "type": "string"
        }
       ],
       "ref": "d9a72052-94d2-4960-9f3f-4957185d8a83",
       "rows": [
        [
         "2885",
         "59179987603",
         "ENCUESTA SOFIA . 25 06 25",
         "LOTE",
         "2025-06-26 16:30:08.225000",
         "2025-06-26 16:30:10.827000",
         "2025-06-26 16:30:15.891000",
         null,
         null,
         null,
         "nan",
         "TRUE",
         "FALSE",
         "0",
         "FALSE",
         "0",
         "2025-06-26 16:30:00",
         "Jueves",
         "16:30:00"
        ],
        [
         "2886",
         "915917749048",
         "ENCUESTA SOFIA . 25 06 25",
         "LOTE",
         "2025-06-26 16:31:06.085000",
         null,
         null,
         null,
         "131026",
         "Message undeliverable",
         "nan",
         "FALSE",
         "FALSE",
         "0",
         "FALSE",
         "0",
         "2025-06-26 16:30:00",
         "Jueves",
         "16:30:00"
        ]
       ],
       "shape": {
        "columns": 18,
        "rows": 2
       }
      },
      "text/html": [
       "<div>\n",
       "<style scoped>\n",
       "    .dataframe tbody tr th:only-of-type {\n",
       "        vertical-align: middle;\n",
       "    }\n",
       "\n",
       "    .dataframe tbody tr th {\n",
       "        vertical-align: top;\n",
       "    }\n",
       "\n",
       "    .dataframe thead th {\n",
       "        text-align: right;\n",
       "    }\n",
       "</style>\n",
       "<table border=\"1\" class=\"dataframe\">\n",
       "  <thead>\n",
       "    <tr style=\"text-align: right;\">\n",
       "      <th></th>\n",
       "      <th>customer_external_id</th>\n",
       "      <th>campaign_name_base</th>\n",
       "      <th>tipo</th>\n",
       "      <th>dispatched_at</th>\n",
       "      <th>sent_at</th>\n",
       "      <th>delivered_at</th>\n",
       "      <th>read_at</th>\n",
       "      <th>error_code</th>\n",
       "      <th>error_msg</th>\n",
       "      <th>link_clicks</th>\n",
       "      <th>delivered</th>\n",
       "      <th>read</th>\n",
       "      <th>engagement</th>\n",
       "      <th>survey_status</th>\n",
       "      <th>button_survey_count</th>\n",
       "      <th>date</th>\n",
       "      <th>day</th>\n",
       "      <th>hour</th>\n",
       "    </tr>\n",
       "  </thead>\n",
       "  <tbody>\n",
       "    <tr>\n",
       "      <th>2885</th>\n",
       "      <td>59179987603</td>\n",
       "      <td>ENCUESTA SOFIA . 25 06 25</td>\n",
       "      <td>LOTE</td>\n",
       "      <td>2025-06-26 16:30:08.225</td>\n",
       "      <td>2025-06-26 16:30:10.827</td>\n",
       "      <td>2025-06-26 16:30:15.891</td>\n",
       "      <td>NaT</td>\n",
       "      <td>&lt;NA&gt;</td>\n",
       "      <td>NaN</td>\n",
       "      <td>nan</td>\n",
       "      <td>TRUE</td>\n",
       "      <td>FALSE</td>\n",
       "      <td>0</td>\n",
       "      <td>FALSE</td>\n",
       "      <td>0</td>\n",
       "      <td>2025-06-26 16:30:00</td>\n",
       "      <td>Jueves</td>\n",
       "      <td>16:30:00</td>\n",
       "    </tr>\n",
       "    <tr>\n",
       "      <th>2886</th>\n",
       "      <td>915917749048</td>\n",
       "      <td>ENCUESTA SOFIA . 25 06 25</td>\n",
       "      <td>LOTE</td>\n",
       "      <td>2025-06-26 16:31:06.085</td>\n",
       "      <td>NaT</td>\n",
       "      <td>NaT</td>\n",
       "      <td>NaT</td>\n",
       "      <td>131026</td>\n",
       "      <td>Message undeliverable</td>\n",
       "      <td>nan</td>\n",
       "      <td>FALSE</td>\n",
       "      <td>FALSE</td>\n",
       "      <td>0</td>\n",
       "      <td>FALSE</td>\n",
       "      <td>0</td>\n",
       "      <td>2025-06-26 16:30:00</td>\n",
       "      <td>Jueves</td>\n",
       "      <td>16:30:00</td>\n",
       "    </tr>\n",
       "  </tbody>\n",
       "</table>\n",
       "</div>"
      ],
      "text/plain": [
       "      customer_external_id         campaign_name_base  tipo  \\\n",
       "2885           59179987603  ENCUESTA SOFIA . 25 06 25  LOTE   \n",
       "2886          915917749048  ENCUESTA SOFIA . 25 06 25  LOTE   \n",
       "\n",
       "               dispatched_at                 sent_at            delivered_at  \\\n",
       "2885 2025-06-26 16:30:08.225 2025-06-26 16:30:10.827 2025-06-26 16:30:15.891   \n",
       "2886 2025-06-26 16:31:06.085                     NaT                     NaT   \n",
       "\n",
       "     read_at  error_code              error_msg link_clicks delivered   read  \\\n",
       "2885     NaT        <NA>                    NaN         nan      TRUE  FALSE   \n",
       "2886     NaT      131026  Message undeliverable         nan     FALSE  FALSE   \n",
       "\n",
       "      engagement survey_status  button_survey_count                date  \\\n",
       "2885           0         FALSE                    0 2025-06-26 16:30:00   \n",
       "2886           0         FALSE                    0 2025-06-26 16:30:00   \n",
       "\n",
       "         day      hour  \n",
       "2885  Jueves  16:30:00  \n",
       "2886  Jueves  16:30:00  "
      ]
     },
     "execution_count": 35,
     "metadata": {},
     "output_type": "execute_result"
    }
   ],
   "source": [
    "df.tail(2)"
   ]
  },
  {
   "cell_type": "code",
   "execution_count": 36,
   "metadata": {},
   "outputs": [],
   "source": [
    "# format datetime\n",
    "df['sent_at'] = df['sent_at'].dt.strftime('%Y-%m-%d %H:%M:%S')\n",
    "df['dispatched_at'] = df['dispatched_at'].dt.strftime('%Y-%m-%d %H:%M:%S')\n",
    "df['delivered_at'] = df['delivered_at'].dt.strftime('%Y-%m-%d %H:%M:%S')\n",
    "df['read_at'] = df['read_at'].dt.strftime('%Y-%m-%d %H:%M:%S')\n",
    "df['date'] = df['date'].dt.strftime('%Y-%m-%d %H:%M:%S')"
   ]
  },
  {
   "cell_type": "code",
   "execution_count": 37,
   "metadata": {},
   "outputs": [],
   "source": [
    "# Export as csv\n",
    "# df.to_csv(path_processed+file_name+suffix+file_extension, encoding='utf-8', index=False)\n",
    "\n",
    "df.to_excel(path_processed+file_name+suffix+'.xlsx', index=False)\n"
   ]
  },
  {
   "cell_type": "code",
   "execution_count": null,
   "metadata": {},
   "outputs": [],
   "source": [
    "# (Opcional)\n",
    "# Export as csv\n",
    "df_diff.to_csv(path_processed+file_name_base+suffix_diff+file_extension)"
   ]
  }
 ],
 "metadata": {
  "kernelspec": {
   "display_name": "b4d_analytics-Yg60_lpz",
   "language": "python",
   "name": "python3"
  },
  "language_info": {
   "codemirror_mode": {
    "name": "ipython",
    "version": 3
   },
   "file_extension": ".py",
   "mimetype": "text/x-python",
   "name": "python",
   "nbconvert_exporter": "python",
   "pygments_lexer": "ipython3",
   "version": "3.13.0"
  }
 },
 "nbformat": 4,
 "nbformat_minor": 2
}
