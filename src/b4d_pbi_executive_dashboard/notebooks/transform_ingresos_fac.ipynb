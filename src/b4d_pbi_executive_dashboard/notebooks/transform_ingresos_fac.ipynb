{
 "cells": [
  {
   "cell_type": "code",
   "execution_count": 1,
   "id": "0ab34ab5",
   "metadata": {},
   "outputs": [],
   "source": [
    "import pandas as pd\n",
    "\n",
    "path_raw = r'C:/Users/Usuario/Documents/b4d/data/raw/'\n",
    "path_processed = r'C:/Users/Usuario/Documents/b4d/data/processed/'\n",
    "\n",
    "file_name = 'b4d_INGRESOS ENE 24 - MAY 25'\n",
    "file_ext = '.xlsx'\n",
    "\n",
    "df = pd.read_excel(path_raw+file_name+file_ext)"
   ]
  },
  {
   "cell_type": "code",
   "execution_count": null,
   "id": "8103444a",
   "metadata": {},
   "outputs": [],
   "source": [
    "df.columns"
   ]
  },
  {
   "cell_type": "code",
   "execution_count": 2,
   "id": "7bece45c",
   "metadata": {},
   "outputs": [
    {
     "data": {
      "application/vnd.microsoft.datawrangler.viewer.v0+json": {
       "columns": [
        {
         "name": "index",
         "rawType": "int64",
         "type": "integer"
        },
        {
         "name": "CLIENTE",
         "rawType": "object",
         "type": "string"
        },
        {
         "name": "TIPO",
         "rawType": "object",
         "type": "unknown"
        },
        {
         "name": "TIPO DE VENTA",
         "rawType": "object",
         "type": "unknown"
        },
        {
         "name": "SERVICIO",
         "rawType": "object",
         "type": "string"
        },
        {
         "name": "DATETIME",
         "rawType": "object",
         "type": "unknown"
        },
        {
         "name": "VALUE",
         "rawType": "float64",
         "type": "float"
        }
       ],
       "ref": "b5813290-7570-40db-89aa-633a0c0134fa",
       "rows": [
        [
         "0",
         "TRIPLEX LTDA.",
         null,
         "MRC",
         "SMART WIFI",
         "2024-01-01 00:00:00",
         "1553.2"
        ],
        [
         "1",
         "E.T.V. S.A.",
         null,
         "OTC",
         "IMPLEMENTACIÓN BRIDGE LOGISTICS",
         "2024-01-01 00:00:00",
         "0.0"
        ],
        [
         "2",
         "E.T.V. S.A.",
         null,
         "MRC",
         "BRIDGE LOGISTICS",
         "2024-01-01 00:00:00",
         "0.0"
        ],
        [
         "3",
         "ENTEL S.A. ",
         null,
         null,
         "SISTEMA HÍBRIDO DE DISTRIBUCIÓN DE COBERTURA",
         "2024-01-01 00:00:00",
         "0.0"
        ],
        [
         "4",
         "SINTESIS S.A. ",
         null,
         "TRX",
         "META",
         "2024-01-01 00:00:00",
         "0.0"
        ],
        [
         "5",
         "AIDISA BOLIVIA S.A. ",
         null,
         "MRC",
         "SOLUCIÓN OMNICANALIDAD/LICENCIAS + NRO. WPP + SOPORTE",
         "2024-01-01 00:00:00",
         "4000.0"
        ],
        [
         "6",
         "AIDISA BOLIVIA S.A. ",
         null,
         "TRX",
         "META",
         "2024-01-01 00:00:00",
         "0.0"
        ],
        [
         "7",
         "CERVEYA S.R.L.",
         null,
         "MRC",
         "SOLUCIÓN OMNICANALIDAD/LICENCIAS + NRO. WPP + SOPORTE",
         "2024-01-01 00:00:00",
         "2100.0"
        ],
        [
         "8",
         "LA PROMOTORA ENTIDAD FINANCIERA DE VIVIENDA",
         null,
         "MRC",
         "SOLUCIÓN OMNICANALIDAD/LICENCIAS + NRO. WPP + SOPORTE",
         "2024-01-01 00:00:00",
         "4539.49"
        ],
        [
         "9",
         "GRANJA AVICOLA INTEGRAL SOFIA LTDA.",
         null,
         "OTC",
         "IMPLEMENTACIÓN DIGITAL S1",
         "2024-01-01 00:00:00",
         "0.0"
        ],
        [
         "10",
         "GRANJA AVICOLA INTEGRAL SOFIA LTDA.",
         null,
         "MRC",
         "SOLUCIÓN OMNICANALIDAD/LICENCIAS + NRO. WPP + SOPORTE",
         "2024-01-01 00:00:00",
         "3233.16"
        ],
        [
         "11",
         "GRANJA AVICOLA INTEGRAL SOFIA LTDA.",
         null,
         "MRC",
         "CASOS GESTIONADOS FIJO",
         "2024-01-01 00:00:00",
         "4658.38"
        ],
        [
         "12",
         "GRANJA AVICOLA INTEGRAL SOFIA LTDA.",
         null,
         "TRX",
         "CASOS GESTIONADOS EXCEDENTE",
         "2024-01-01 00:00:00",
         "0.0"
        ],
        [
         "13",
         "GRANJA AVICOLA INTEGRAL SOFIA LTDA.",
         null,
         "MRC",
         "C-COMMERCE FIJO",
         "2024-01-01 00:00:00",
         "0.0"
        ],
        [
         "14",
         "GRANJA AVICOLA INTEGRAL SOFIA LTDA.",
         null,
         "TRX",
         "C-COMMERCE EXCEDENTE",
         "2024-01-01 00:00:00",
         "0.0"
        ],
        [
         "15",
         "GRANJA AVICOLA INTEGRAL SOFIA LTDA.",
         null,
         "TRX",
         "META",
         "2024-01-01 00:00:00",
         "0.0"
        ],
        [
         "16",
         "TERBOL S.A. ",
         null,
         "OTC",
         "IMPLEMENTACIÓN DIGITAL S1",
         "2024-01-01 00:00:00",
         "0.0"
        ],
        [
         "17",
         "TERBOL S.A. ",
         null,
         "MRC",
         "SOLUCIÓN OMNICANALIDAD/LICENCIAS + NRO. WPP + SOPORTE",
         "2024-01-01 00:00:00",
         "0.0"
        ],
        [
         "18",
         "TERBOL S.A. ",
         null,
         "MRC",
         "CASOS GESTIONADOS FIJO",
         "2024-01-01 00:00:00",
         "0.0"
        ],
        [
         "19",
         "TERBOL S.A. ",
         null,
         "TRX",
         "CASOS GESTIONADOS EXCEDENTE",
         "2024-01-01 00:00:00",
         "0.0"
        ],
        [
         "20",
         "TERBOL S.A. ",
         null,
         "MRC",
         "C-COMMERCE FIJO",
         "2024-01-01 00:00:00",
         "0.0"
        ],
        [
         "21",
         "TERBOL S.A. ",
         null,
         "TRX",
         "C-COMMERCE EXCEDENTE",
         "2024-01-01 00:00:00",
         "0.0"
        ],
        [
         "22",
         "TERBOL S.A. ",
         null,
         "TRX",
         "META",
         "2024-01-01 00:00:00",
         "0.0"
        ],
        [
         "23",
         "TERMINAL DE BUSES COCHABAMBA S.A.",
         null,
         "MRC",
         "SMART WIFI",
         "2024-01-01 00:00:00",
         "765.0"
        ],
        [
         "24",
         "EMBOL S.A. ",
         null,
         "MRC",
         "SOLUCIÓN OMNICANALIDAD/NRO. DE WPP + SOPORTE",
         "2024-01-01 00:00:00",
         "0.0"
        ],
        [
         "25",
         "EMBOL S.A. ",
         null,
         "TRX",
         "META",
         "2024-01-01 00:00:00",
         "0.0"
        ],
        [
         "26",
         "RODUGA INVERSIONES S.A.",
         null,
         "OTC",
         "IMPLEMENTACIÓN DIGITAL S1",
         "2024-01-01 00:00:00",
         "0.0"
        ],
        [
         "27",
         "ARRENDAMIENTOS BELEN S.A.",
         null,
         "MRC",
         "SMART WIFI",
         "2024-01-01 00:00:00",
         "1812.8"
        ],
        [
         "28",
         "PIL ANDINA S.A.",
         null,
         "OTC",
         "IMPLEMENTACIÓN DIGITAL S1",
         "2024-01-01 00:00:00",
         "44394.06"
        ],
        [
         "29",
         "PIL ANDINA S.A.",
         null,
         "MRC",
         "SOLUCIÓN OMNICANALIDAD/LICENCIAS + NRO. WPP + SOPORTE",
         "2024-01-01 00:00:00",
         "16653.38"
        ],
        [
         "30",
         "PIL ANDINA S.A.",
         null,
         "MRC",
         "CASOS GESTIONADOS FIJO",
         "2024-01-01 00:00:00",
         "0.0"
        ],
        [
         "31",
         "PIL ANDINA S.A.",
         null,
         "TRX",
         "CASOS GESTIONADOS EXCEDENTE",
         "2024-01-01 00:00:00",
         "0.0"
        ],
        [
         "32",
         "PIL ANDINA S.A.",
         null,
         "MRC",
         "C-COMMERCE FIJO",
         "2024-01-01 00:00:00",
         "0.0"
        ],
        [
         "33",
         "PIL ANDINA S.A.",
         null,
         "TRX",
         "C-COMMERCE EXCEDENTE",
         "2024-01-01 00:00:00",
         "0.0"
        ],
        [
         "34",
         "PIL ANDINA S.A.",
         null,
         "TRX",
         "META",
         "2024-01-01 00:00:00",
         "0.0"
        ],
        [
         "35",
         "PIL ANDINA S.A.",
         null,
         "TRX",
         "KOKO CAMPAÑA",
         "2024-01-01 00:00:00",
         "36191.28"
        ],
        [
         "36",
         "KETAL S.A.",
         null,
         "OTC",
         "IMPLEMENTACIÓN SMART WIFI",
         "2024-01-01 00:00:00",
         "0.0"
        ],
        [
         "37",
         "KETAL S.A.",
         null,
         "MRC",
         "SMART WIFI",
         "2024-01-01 00:00:00",
         "4351.37"
        ],
        [
         "38",
         "HAKATECHNOLOGIES S.A.",
         null,
         "OTC",
         "IMPLEMENTACIÓN SMART WIFI",
         "2024-01-01 00:00:00",
         "0.0"
        ],
        [
         "39",
         "HAKATECHNOLOGIES S.A.",
         null,
         "OTC",
         "INSTALACIÓN CAMARAS 4K",
         "2024-01-01 00:00:00",
         "0.0"
        ],
        [
         "40",
         "HAKATECHNOLOGIES S.A.",
         null,
         "MRC",
         "SMART WIFI",
         "2024-01-01 00:00:00",
         "12335.33"
        ],
        [
         "41",
         "HAKATECHNOLOGIES S.A.",
         null,
         "MRC",
         "CAMARAS ",
         "2024-01-01 00:00:00",
         "0.0"
        ],
        [
         "42",
         "TELEFONICA CELULAR DE BOLIVIA S.A.",
         "SAC",
         "MRC",
         "SMART WIFI/WEBFILTERING",
         "2024-01-01 00:00:00",
         "8622.0"
        ],
        [
         "43",
         "TELEFONICA CELULAR DE BOLIVIA S.A.",
         "SAC",
         "MRC",
         "SMART WIFI/SERVICIO QR",
         "2024-01-01 00:00:00",
         "5600.0"
        ],
        [
         "44",
         "TELEFONICA CELULAR DE BOLIVIA S.A.",
         "MKT",
         "MRC",
         "SMART WIFI/TOTEMS",
         "2024-01-01 00:00:00",
         "18792.0"
        ],
        [
         "45",
         "TELEFONICA CELULAR DE BOLIVIA S.A.",
         "MKT",
         "MRC",
         "SMART WIFI/EQUIPOS",
         "2024-01-01 00:00:00",
         "13123.0"
        ],
        [
         "46",
         "TELEFONICA CELULAR DE BOLIVIA S.A.",
         "BUSINESS",
         "MRC",
         "SMART WIFI/WEBFILTERING + EQUIPOS",
         "2024-01-01 00:00:00",
         "104142.42"
        ],
        [
         "47",
         "TELEFONICA CELULAR DE BOLIVIA S.A.",
         "WPP ",
         "MRC",
         "SOLUCIÓN OMNICANALIDAD/ENVIOS PROACTIVOS FIJO",
         "2024-01-01 00:00:00",
         "7500.0"
        ],
        [
         "48",
         "TELEFONICA CELULAR DE BOLIVIA S.A.",
         "WPP - DTH",
         "TRX",
         "SOLUCIÓN OMNICANALIDAD/ENVIOS PROACTIVOS EXCEDENTE",
         "2024-01-01 00:00:00",
         "0.0"
        ],
        [
         "49",
         "TELEFONICA CELULAR DE BOLIVIA S.A.",
         "WPP - GTV",
         "TRX",
         "SOLUCIÓN OMNICANALIDAD/ENVIOS PROACTIVOS EXCEDENTE",
         "2024-01-01 00:00:00",
         "2530.59"
        ]
       ],
       "shape": {
        "columns": 6,
        "rows": 850
       }
      },
      "text/html": [
       "<div>\n",
       "<style scoped>\n",
       "    .dataframe tbody tr th:only-of-type {\n",
       "        vertical-align: middle;\n",
       "    }\n",
       "\n",
       "    .dataframe tbody tr th {\n",
       "        vertical-align: top;\n",
       "    }\n",
       "\n",
       "    .dataframe thead th {\n",
       "        text-align: right;\n",
       "    }\n",
       "</style>\n",
       "<table border=\"1\" class=\"dataframe\">\n",
       "  <thead>\n",
       "    <tr style=\"text-align: right;\">\n",
       "      <th></th>\n",
       "      <th>CLIENTE</th>\n",
       "      <th>TIPO</th>\n",
       "      <th>TIPO DE VENTA</th>\n",
       "      <th>SERVICIO</th>\n",
       "      <th>DATETIME</th>\n",
       "      <th>VALUE</th>\n",
       "    </tr>\n",
       "  </thead>\n",
       "  <tbody>\n",
       "    <tr>\n",
       "      <th>0</th>\n",
       "      <td>TRIPLEX LTDA.</td>\n",
       "      <td>NaN</td>\n",
       "      <td>MRC</td>\n",
       "      <td>SMART WIFI</td>\n",
       "      <td>2024-01-01 00:00:00</td>\n",
       "      <td>1553.20</td>\n",
       "    </tr>\n",
       "    <tr>\n",
       "      <th>1</th>\n",
       "      <td>E.T.V. S.A.</td>\n",
       "      <td>NaN</td>\n",
       "      <td>OTC</td>\n",
       "      <td>IMPLEMENTACIÓN BRIDGE LOGISTICS</td>\n",
       "      <td>2024-01-01 00:00:00</td>\n",
       "      <td>0.00</td>\n",
       "    </tr>\n",
       "    <tr>\n",
       "      <th>2</th>\n",
       "      <td>E.T.V. S.A.</td>\n",
       "      <td>NaN</td>\n",
       "      <td>MRC</td>\n",
       "      <td>BRIDGE LOGISTICS</td>\n",
       "      <td>2024-01-01 00:00:00</td>\n",
       "      <td>0.00</td>\n",
       "    </tr>\n",
       "    <tr>\n",
       "      <th>3</th>\n",
       "      <td>ENTEL S.A.</td>\n",
       "      <td>NaN</td>\n",
       "      <td>NaN</td>\n",
       "      <td>SISTEMA HÍBRIDO DE DISTRIBUCIÓN DE COBERTURA</td>\n",
       "      <td>2024-01-01 00:00:00</td>\n",
       "      <td>0.00</td>\n",
       "    </tr>\n",
       "    <tr>\n",
       "      <th>4</th>\n",
       "      <td>SINTESIS S.A.</td>\n",
       "      <td>NaN</td>\n",
       "      <td>TRX</td>\n",
       "      <td>META</td>\n",
       "      <td>2024-01-01 00:00:00</td>\n",
       "      <td>0.00</td>\n",
       "    </tr>\n",
       "    <tr>\n",
       "      <th>...</th>\n",
       "      <td>...</td>\n",
       "      <td>...</td>\n",
       "      <td>...</td>\n",
       "      <td>...</td>\n",
       "      <td>...</td>\n",
       "      <td>...</td>\n",
       "    </tr>\n",
       "    <tr>\n",
       "      <th>845</th>\n",
       "      <td>TELEFONICA CELULAR DE BOLIVIA S.A.</td>\n",
       "      <td>MKT</td>\n",
       "      <td>MRC</td>\n",
       "      <td>SMART WIFI/EQUIPOS</td>\n",
       "      <td>2025-05-01 00:00:00</td>\n",
       "      <td>14073.00</td>\n",
       "    </tr>\n",
       "    <tr>\n",
       "      <th>846</th>\n",
       "      <td>TELEFONICA CELULAR DE BOLIVIA S.A.</td>\n",
       "      <td>BUSINESS</td>\n",
       "      <td>MRC</td>\n",
       "      <td>SMART WIFI/WEBFILTERING + EQUIPOS</td>\n",
       "      <td>2025-05-01 00:00:00</td>\n",
       "      <td>0.00</td>\n",
       "    </tr>\n",
       "    <tr>\n",
       "      <th>847</th>\n",
       "      <td>TELEFONICA CELULAR DE BOLIVIA S.A.</td>\n",
       "      <td>WPP</td>\n",
       "      <td>MRC</td>\n",
       "      <td>SOLUCIÓN OMNICANALIDAD/ENVIOS PROACTIVOS FIJO</td>\n",
       "      <td>2025-05-01 00:00:00</td>\n",
       "      <td>2545.00</td>\n",
       "    </tr>\n",
       "    <tr>\n",
       "      <th>848</th>\n",
       "      <td>TELEFONICA CELULAR DE BOLIVIA S.A.</td>\n",
       "      <td>WPP - DTH</td>\n",
       "      <td>TRX</td>\n",
       "      <td>SOLUCIÓN OMNICANALIDAD/ENVIOS PROACTIVOS EXCED...</td>\n",
       "      <td>2025-05-01 00:00:00</td>\n",
       "      <td>57984.23</td>\n",
       "    </tr>\n",
       "    <tr>\n",
       "      <th>849</th>\n",
       "      <td>TELEFONICA CELULAR DE BOLIVIA S.A.</td>\n",
       "      <td>WPP - GTV</td>\n",
       "      <td>TRX</td>\n",
       "      <td>SOLUCIÓN OMNICANALIDAD/ENVIOS PROACTIVOS EXCED...</td>\n",
       "      <td>2025-05-01 00:00:00</td>\n",
       "      <td>1041017.00</td>\n",
       "    </tr>\n",
       "  </tbody>\n",
       "</table>\n",
       "<p>850 rows × 6 columns</p>\n",
       "</div>"
      ],
      "text/plain": [
       "                                CLIENTE       TIPO TIPO DE VENTA  \\\n",
       "0                         TRIPLEX LTDA.        NaN           MRC   \n",
       "1                           E.T.V. S.A.        NaN           OTC   \n",
       "2                           E.T.V. S.A.        NaN           MRC   \n",
       "3                           ENTEL S.A.         NaN           NaN   \n",
       "4                        SINTESIS S.A.         NaN           TRX   \n",
       "..                                  ...        ...           ...   \n",
       "845  TELEFONICA CELULAR DE BOLIVIA S.A.        MKT           MRC   \n",
       "846  TELEFONICA CELULAR DE BOLIVIA S.A.   BUSINESS           MRC   \n",
       "847  TELEFONICA CELULAR DE BOLIVIA S.A.       WPP            MRC   \n",
       "848  TELEFONICA CELULAR DE BOLIVIA S.A.  WPP - DTH           TRX   \n",
       "849  TELEFONICA CELULAR DE BOLIVIA S.A.  WPP - GTV           TRX   \n",
       "\n",
       "                                              SERVICIO             DATETIME  \\\n",
       "0                                           SMART WIFI  2024-01-01 00:00:00   \n",
       "1                      IMPLEMENTACIÓN BRIDGE LOGISTICS  2024-01-01 00:00:00   \n",
       "2                                     BRIDGE LOGISTICS  2024-01-01 00:00:00   \n",
       "3         SISTEMA HÍBRIDO DE DISTRIBUCIÓN DE COBERTURA  2024-01-01 00:00:00   \n",
       "4                                                 META  2024-01-01 00:00:00   \n",
       "..                                                 ...                  ...   \n",
       "845                                 SMART WIFI/EQUIPOS  2025-05-01 00:00:00   \n",
       "846                  SMART WIFI/WEBFILTERING + EQUIPOS  2025-05-01 00:00:00   \n",
       "847      SOLUCIÓN OMNICANALIDAD/ENVIOS PROACTIVOS FIJO  2025-05-01 00:00:00   \n",
       "848  SOLUCIÓN OMNICANALIDAD/ENVIOS PROACTIVOS EXCED...  2025-05-01 00:00:00   \n",
       "849  SOLUCIÓN OMNICANALIDAD/ENVIOS PROACTIVOS EXCED...  2025-05-01 00:00:00   \n",
       "\n",
       "          VALUE  \n",
       "0       1553.20  \n",
       "1          0.00  \n",
       "2          0.00  \n",
       "3          0.00  \n",
       "4          0.00  \n",
       "..          ...  \n",
       "845    14073.00  \n",
       "846        0.00  \n",
       "847     2545.00  \n",
       "848    57984.23  \n",
       "849  1041017.00  \n",
       "\n",
       "[850 rows x 6 columns]"
      ]
     },
     "execution_count": 2,
     "metadata": {},
     "output_type": "execute_result"
    }
   ],
   "source": [
    "df_melted = pd.melt(\n",
    "    df,\n",
    "    id_vars=[\"CLIENTE\", 'TIPO', 'TIPO DE VENTA', 'SERVICIO'],\n",
    "    value_vars=[col for col in df.columns if col != \"CLIENTE\"],\n",
    "    var_name=\"DATETIME\",\n",
    "    value_name=\"VALUE\"\n",
    ")\n",
    "df_melted"
   ]
  },
  {
   "cell_type": "code",
   "execution_count": 3,
   "id": "6baef851",
   "metadata": {},
   "outputs": [],
   "source": [
    "df_melted[\"DATETIME\"] = pd.to_datetime(df_melted[\"DATETIME\"])\n",
    "\n",
    "df_melted[\"DATE\"] = df_melted[\"DATETIME\"].dt.strftime(\"%Y-%m-%d\")\n",
    "df_melted[\"YEAR\"] = df_melted[\"DATETIME\"].dt.year\n",
    "df_melted[\"MONTH\"] = df_melted[\"DATETIME\"].dt.month\n",
    "\n",
    "df_melted['VALUE'] = df_melted['VALUE'].astype(float)"
   ]
  },
  {
   "cell_type": "code",
   "execution_count": 4,
   "id": "0d3dadb3",
   "metadata": {},
   "outputs": [],
   "source": [
    "df_melted.to_excel(path_processed+file_name+'_clean'+file_ext, index=False)\n"
   ]
  }
 ],
 "metadata": {
  "kernelspec": {
   "display_name": "b4d_analytics-Yg60_lpz",
   "language": "python",
   "name": "python3"
  },
  "language_info": {
   "codemirror_mode": {
    "name": "ipython",
    "version": 3
   },
   "file_extension": ".py",
   "mimetype": "text/x-python",
   "name": "python",
   "nbconvert_exporter": "python",
   "pygments_lexer": "ipython3",
   "version": "3.13.0"
  }
 },
 "nbformat": 4,
 "nbformat_minor": 5
}
