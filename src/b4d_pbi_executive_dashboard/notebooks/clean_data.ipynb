{
 "cells": [
  {
   "cell_type": "code",
   "execution_count": 1,
   "id": "e201ae0a",
   "metadata": {},
   "outputs": [],
   "source": [
    "import pandas as pd\n",
    "import numpy as np\n",
    "import re\n",
    "\n",
    "# Path\n",
    "path_raw = r'C:/Users/Usuario/Documents/b4d/data/raw/'\n",
    "path_processed = r'C:/Users/Usuario/Documents/b4d/data/processed/'\n",
    "\n",
    "\n",
    "file_name_1 = 'b4d_cartera_032625_2.2'\n",
    "file_name_2 = 'b4d_abril'\n",
    "file_name_3 = 'b4d_clickup_mayo_1'\n",
    "ext = '.xlsx'\n",
    "\n",
    "file_name_4 = 'b4d_cartera_010425_3'\n",
    "ext_1 = '.csv'\n"
   ]
  },
  {
   "cell_type": "code",
   "execution_count": 2,
   "id": "866670b2",
   "metadata": {},
   "outputs": [],
   "source": [
    "df_1 = pd.read_excel(path_raw+file_name_1+ext)\n",
    "df_2 = pd.read_excel(path_raw+file_name_2+ext)\n",
    "df_3 = pd.read_excel(path_raw+file_name_3+ext)\n",
    "\n",
    "\n",
    "df_4 = pd.read_csv(path_raw+file_name_4+ext_1, delimiter=';')\n"
   ]
  },
  {
   "cell_type": "code",
   "execution_count": 3,
   "id": "efdc4d9b",
   "metadata": {},
   "outputs": [
    {
     "data": {
      "text/plain": [
       "Index(['id', 'state', 'created_date', 'updated_date', 'deleted_date',\n",
       "       'task_id', 'name', 'creator', 'assignees', 'status',\n",
       "       'estimated_mrc_value', 'estimated_otc_value', 'estimated_trx_value',\n",
       "       'country', 'type', 'opportunity_type', 'vertical', 'priority',\n",
       "       'phone_number', 'contact', 'last_contact', 'email',\n",
       "       'cartera_created_date', 'cartera_start_date', 'cartera_due_date',\n",
       "       'cartera_closing_estimated_date', 'space', 'cliente'],\n",
       "      dtype='object')"
      ]
     },
     "execution_count": 3,
     "metadata": {},
     "output_type": "execute_result"
    }
   ],
   "source": [
    "df_1.columns"
   ]
  },
  {
   "cell_type": "code",
   "execution_count": null,
   "id": "c5a18420",
   "metadata": {},
   "outputs": [],
   "source": [
    "df_1.rename({'task_id': 'cartera_key', 'name': 'cartera_name', 'space': 'space_id'})"
   ]
  },
  {
   "cell_type": "code",
   "execution_count": null,
   "id": "9bd5d87f",
   "metadata": {},
   "outputs": [],
   "source": [
    "df_1[['cartera_key', 'cartera_name', 'assignees', 'status', 'estimated_mrc_value', 'estimated_otc_value', \n",
    "  'estimated_trx_value', 'country', 'type', 'opportunity_type', 'vertical', 'priority', 'space_id', 'cliente',\n",
    "  'cartera_closing_date', 'cartera_closing_estimated_date', 'cartera_created_date', 'cartera_due_date', 'cartera_start_date'\n",
    "  ]] # 'fec_date', 'fact_date' 'assign',"
   ]
  },
  {
   "cell_type": "code",
   "execution_count": null,
   "id": "a9585e10",
   "metadata": {},
   "outputs": [],
   "source": [
    "import datetime\n",
    "\n",
    "df_1['fec_date'] = datetime.datetime(2025, 2, 1)"
   ]
  },
  {
   "cell_type": "code",
   "execution_count": null,
   "id": "52d57d83",
   "metadata": {},
   "outputs": [],
   "source": [
    "df_4[['cartera_key', 'cartera_name', 'assignees', 'assign', 'status', 'estimated_mrc_value', 'estimated_otc_value', \n",
    "  'estimated_trx_value', 'country', 'type', 'opportunity_type', 'vertical', 'priority', 'space_id', 'cliente',\n",
    "  'cartera_closing_date', 'cartera_closing_estimated_date', 'cartera_created_date', 'cartera_due_date', 'cartera_start_date', \n",
    "  'fec_date', 'fact_date']]"
   ]
  }
 ],
 "metadata": {
  "kernelspec": {
   "display_name": "b4d_analytics-Yg60_lpz",
   "language": "python",
   "name": "python3"
  },
  "language_info": {
   "codemirror_mode": {
    "name": "ipython",
    "version": 3
   },
   "file_extension": ".py",
   "mimetype": "text/x-python",
   "name": "python",
   "nbconvert_exporter": "python",
   "pygments_lexer": "ipython3",
   "version": "3.13.0"
  }
 },
 "nbformat": 4,
 "nbformat_minor": 5
}
