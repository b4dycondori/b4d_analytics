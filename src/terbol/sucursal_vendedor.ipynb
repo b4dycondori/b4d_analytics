{
 "cells": [
  {
   "cell_type": "code",
   "execution_count": 7,
   "id": "2c960623",
   "metadata": {},
   "outputs": [],
   "source": [
    "import pandas as pd\n",
    "import numpy as np\n",
    "import re\n",
    "\n",
    "# Path\n",
    "path_raw = r'C:/Users/Usuario/Documents/b4d/data/raw/'\n",
    "path_processed = r'C:/Users/Usuario/Documents/b4d/data/processed/'\n",
    "\n",
    "# Name of file\n",
    "file_name = 'terbol_clientes_número_ejecutivos_1.xlsx'\n",
    "\n",
    "# file_name_base = 'tigobo_wa_checking.xlsx'\n",
    "\n",
    "# File extension\n",
    "# file_extension = '.csv'\n",
    "\n",
    "# Suffix to proceseed files\n",
    "suffix = '_clean'"
   ]
  },
  {
   "cell_type": "code",
   "execution_count": 8,
   "id": "ca2f3b3d",
   "metadata": {},
   "outputs": [],
   "source": [
    "\n",
    "df = pd.read_excel(path_raw+file_name)\n"
   ]
  },
  {
   "cell_type": "code",
   "execution_count": 9,
   "id": "8e709fb2",
   "metadata": {},
   "outputs": [
    {
     "data": {
      "text/plain": [
       "Index(['GERENCIA', 'SUPERVISOR', 'VENDEDOR', 'IDCLI', 'IDSUC.', 'CLIENTE',\n",
       "       'LABORATORIO', 'NUMERO VENDEDOR', 'CORREO ELECTRONICO'],\n",
       "      dtype='object')"
      ]
     },
     "execution_count": 9,
     "metadata": {},
     "output_type": "execute_result"
    }
   ],
   "source": [
    "df.columns"
   ]
  },
  {
   "cell_type": "code",
   "execution_count": null,
   "id": "17b60416",
   "metadata": {},
   "outputs": [
    {
     "data": {
      "application/vnd.microsoft.datawrangler.viewer.v0+json": {
       "columns": [
        {
         "name": "index",
         "rawType": "int64",
         "type": "integer"
        },
        {
         "name": "CLIENTE",
         "rawType": "object",
         "type": "string"
        },
        {
         "name": "VENDEDOR",
         "rawType": "int64",
         "type": "integer"
        }
       ],
       "ref": "d16ad182-4234-4b0a-ac7e-3101bb7d5ead",
       "rows": [
        [
         "0",
         "ABDON CABRERA OLGUIN - FARMACIA FARMAGOD",
         "1"
        ],
        [
         "1",
         "ABDON ESCOBAR CALZADILLA - FARMACIA THELMA -  DR. ABDON EL TOR",
         "1"
        ],
        [
         "2",
         "ABEL QUECAÑA POLICARPIO - ABEL QUECAÑA POLICARPIO",
         "1"
        ],
        [
         "3",
         "ABELARDO ESPINOZA REYNAGA - FARMACIA GABOSAN",
         "1"
        ],
        [
         "4",
         "ABIGAIL CALLAPA CARI DE MOLINA - DIVINA FARMA",
         "1"
        ],
        [
         "5",
         "ABIGAIL CARMEN CHOQUE FLORES - FARMACIA ABYFARMA",
         "1"
        ],
        [
         "6",
         "ABIGAIL CONTRERAS OLIVERA - \"FARMA LEANDRO\"",
         "1"
        ],
        [
         "7",
         "ABIGAIL KATERIN LIMACHI NINA - FARMACIA ARCANGEL MIGUEL",
         "1"
        ],
        [
         "8",
         "ABIGAIL PRISCILA ESCOBAR NINA - FARMACIA SANAVIDFARMA",
         "1"
        ],
        [
         "9",
         "ABIGAIL SOLIS SANCHEZ - FARMACIA ABIFARMA",
         "2"
        ],
        [
         "10",
         "ABIGAIL TAMBO MAMANI - FARMACIA RENE SANA SANA",
         "1"
        ],
        [
         "11",
         "ABRAHAM YAZIR ANIBARRO DIAZ - FARMACIA MAYEL - CHARAGUA",
         "1"
        ],
        [
         "12",
         "ABRAHAN ESCALERA VILLARROEL - FARMACIA HIPERPHARMA",
         "1"
        ],
        [
         "13",
         "ABRAHAN LOZA ARAUCO - FARMACIA LOZA",
         "1"
        ],
        [
         "14",
         "ABRAHAN WEIBE BUECKERT",
         "1"
        ],
        [
         "15",
         "ABRIL FABIOLA MEDINA ZAMBRANA - FARMACIA FARMA INVESTIG",
         "1"
        ],
        [
         "16",
         "ADALBERTA SONIA CHALAR MAMANI - FARMACIA DOMINGO SAVIO",
         "1"
        ],
        [
         "17",
         "ADALBERTO MAMANI MORALES - FARMACIA ALTO YAPACANI",
         "1"
        ],
        [
         "18",
         "ADAN FERNANDEZ CONDORI - FARMACIENCIA",
         "1"
        ],
        [
         "19",
         "ADELA ALVARADO FLORES - FARMACIA NAWEL",
         "1"
        ],
        [
         "20",
         "ADELA CAMACONI YONIMA - FARMACIA LOS REYES",
         "1"
        ],
        [
         "21",
         "ADELA CARATA SANCHEZ - FARMACIA LA ECONOMICA",
         "1"
        ],
        [
         "22",
         "ADELA CARRILLO MANCILLA - FARMACIA VALENTISHADAY",
         "1"
        ],
        [
         "23",
         "ADELA DURAN CLAROS - FARMACIA SAGRADO CORAZONDE DIOS R",
         "1"
        ],
        [
         "24",
         "ADELA HERRERA SEGOVIA - FARMACIA SEBITAS",
         "1"
        ],
        [
         "25",
         "ADELAIDA CHOQUE VEDIA - FARMACIA ANGEL PIERRE",
         "1"
        ],
        [
         "26",
         "ADELI VILLARROEL ORTIZ - FARMACIA ADELY",
         "3"
        ],
        [
         "27",
         "ADEMAR HENRRY PONCE CONDORI - FARMACIA EL DORADO",
         "1"
        ],
        [
         "28",
         "ADHEMAR JUVERT PALLARICO FLORES - FARMACIA AROMA",
         "1"
        ],
        [
         "29",
         "ADOLIA BENAVIDEZ M. - FARMACIA BEYMONT",
         "1"
        ],
        [
         "30",
         "ADRIAN BARRON CHAVEZ - FARMACIA CONSULAB",
         "1"
        ],
        [
         "31",
         "ADRIAN MARCELO MANTILLA URIA - FARMACIA M&M",
         "1"
        ],
        [
         "32",
         "ADRIAN PADILLA TAPIA - TUMEDICALFARMA",
         "1"
        ],
        [
         "33",
         "ADRIANA ALEJANDRA ORTIZ LASSO - FARMACIA FAMADRI",
         "1"
        ],
        [
         "34",
         "ADRIANA ELOISA MUÑOZ JUSTINIANO - FARMACIA ISABELLAA",
         "1"
        ],
        [
         "35",
         "ADRIANA HEREDIA VARGAS - FARMACIA OPTIMED",
         "1"
        ],
        [
         "36",
         "ADRIANA JELEMI LLANOS ROMERO - CENTERFARMA M & A",
         "2"
        ],
        [
         "37",
         "ADRIANA PAOLA CARITA PATTY - FARMACIA PROFARMA",
         "1"
        ],
        [
         "38",
         "AGAPITO CONDORI QUISPE - FARMACIA LIBERTAD",
         "1"
        ],
        [
         "39",
         "AHELIN CAROLINA NAVARRO SALINAS - FARMACIA LITORAL",
         "1"
        ],
        [
         "40",
         "AIDA AMPARO BECERRA DE CORONADO - FARMACIA CREDIFARMA",
         "1"
        ],
        [
         "41",
         "AIDA GAITE AGUIRRE - FARMACIA BRUNO",
         "1"
        ],
        [
         "42",
         "AIDA JALDIN ORELLANA - FARMACIA AIDA",
         "1"
        ],
        [
         "43",
         "AIDA LIZETH CAMACHO JAEN - FARMACIA FARMACOM",
         "1"
        ],
        [
         "44",
         "AIDA LUZ ROSAS VILLCA - FARMACIA MARIA AUXILIADORA",
         "1"
        ],
        [
         "45",
         "AIDA MAMANI GUTIERREZ DE FUERTES",
         "1"
        ],
        [
         "46",
         "AIDA VERA GONZALES - FARMACIA VERAFAR",
         "1"
        ],
        [
         "47",
         "AIDE COSSIO ANDRADE - FARMACIA FARMACOSS",
         "1"
        ],
        [
         "48",
         "AIDEE NELY ALBIS CORONADO - FARMACIA ALBIMED",
         "1"
        ],
        [
         "49",
         "AIDEE OLLISCO CHOQUE - FARMACIA FARMAIDEE",
         "1"
        ]
       ],
       "shape": {
        "columns": 2,
        "rows": 4447
       }
      },
      "text/html": [
       "<div>\n",
       "<style scoped>\n",
       "    .dataframe tbody tr th:only-of-type {\n",
       "        vertical-align: middle;\n",
       "    }\n",
       "\n",
       "    .dataframe tbody tr th {\n",
       "        vertical-align: top;\n",
       "    }\n",
       "\n",
       "    .dataframe thead th {\n",
       "        text-align: right;\n",
       "    }\n",
       "</style>\n",
       "<table border=\"1\" class=\"dataframe\">\n",
       "  <thead>\n",
       "    <tr style=\"text-align: right;\">\n",
       "      <th></th>\n",
       "      <th>CLIENTE</th>\n",
       "      <th>VENDEDOR</th>\n",
       "    </tr>\n",
       "  </thead>\n",
       "  <tbody>\n",
       "    <tr>\n",
       "      <th>0</th>\n",
       "      <td>ABDON CABRERA OLGUIN - FARMACIA FARMAGOD</td>\n",
       "      <td>1</td>\n",
       "    </tr>\n",
       "    <tr>\n",
       "      <th>1</th>\n",
       "      <td>ABDON ESCOBAR CALZADILLA - FARMACIA THELMA -  ...</td>\n",
       "      <td>1</td>\n",
       "    </tr>\n",
       "    <tr>\n",
       "      <th>2</th>\n",
       "      <td>ABEL QUECAÑA POLICARPIO - ABEL QUECAÑA POLICARPIO</td>\n",
       "      <td>1</td>\n",
       "    </tr>\n",
       "    <tr>\n",
       "      <th>3</th>\n",
       "      <td>ABELARDO ESPINOZA REYNAGA - FARMACIA GABOSAN</td>\n",
       "      <td>1</td>\n",
       "    </tr>\n",
       "    <tr>\n",
       "      <th>4</th>\n",
       "      <td>ABIGAIL CALLAPA CARI DE MOLINA - DIVINA FARMA</td>\n",
       "      <td>1</td>\n",
       "    </tr>\n",
       "    <tr>\n",
       "      <th>...</th>\n",
       "      <td>...</td>\n",
       "      <td>...</td>\n",
       "    </tr>\n",
       "    <tr>\n",
       "      <th>4442</th>\n",
       "      <td>ZULMA RELOS MAMANI - FARMACIA FARMATODO 1</td>\n",
       "      <td>1</td>\n",
       "    </tr>\n",
       "    <tr>\n",
       "      <th>4443</th>\n",
       "      <td>ZULMA ROMERO MOYA - FARMACIA SAN ANTONIO</td>\n",
       "      <td>1</td>\n",
       "    </tr>\n",
       "    <tr>\n",
       "      <th>4444</th>\n",
       "      <td>ZULMA VIVIANA OTTERBURG PEDRAZA - FARMACIA CARLES</td>\n",
       "      <td>1</td>\n",
       "    </tr>\n",
       "    <tr>\n",
       "      <th>4445</th>\n",
       "      <td>ZUNILDA AGUILAR TRIVEÑO - NOVAVIDA</td>\n",
       "      <td>1</td>\n",
       "    </tr>\n",
       "    <tr>\n",
       "      <th>4446</th>\n",
       "      <td>ÁNGELA MERCADO SOSA - FARMACIA FARMALIX</td>\n",
       "      <td>1</td>\n",
       "    </tr>\n",
       "  </tbody>\n",
       "</table>\n",
       "<p>4447 rows × 2 columns</p>\n",
       "</div>"
      ],
      "text/plain": [
       "                                                CLIENTE  VENDEDOR\n",
       "0              ABDON CABRERA OLGUIN - FARMACIA FARMAGOD         1\n",
       "1     ABDON ESCOBAR CALZADILLA - FARMACIA THELMA -  ...         1\n",
       "2     ABEL QUECAÑA POLICARPIO - ABEL QUECAÑA POLICARPIO         1\n",
       "3          ABELARDO ESPINOZA REYNAGA - FARMACIA GABOSAN         1\n",
       "4         ABIGAIL CALLAPA CARI DE MOLINA - DIVINA FARMA         1\n",
       "...                                                 ...       ...\n",
       "4442          ZULMA RELOS MAMANI - FARMACIA FARMATODO 1         1\n",
       "4443           ZULMA ROMERO MOYA - FARMACIA SAN ANTONIO         1\n",
       "4444  ZULMA VIVIANA OTTERBURG PEDRAZA - FARMACIA CARLES         1\n",
       "4445                 ZUNILDA AGUILAR TRIVEÑO - NOVAVIDA         1\n",
       "4446            ÁNGELA MERCADO SOSA - FARMACIA FARMALIX         1\n",
       "\n",
       "[4447 rows x 2 columns]"
      ]
     },
     "execution_count": 13,
     "metadata": {},
     "output_type": "execute_result"
    }
   ],
   "source": [
    "result = df.groupby('CLIENTE', as_index=False)['VENDEDOR'].nunique()\n",
    "result"
   ]
  },
  {
   "cell_type": "code",
   "execution_count": 14,
   "id": "996b010d",
   "metadata": {},
   "outputs": [
    {
     "data": {
      "text/plain": [
       "Index(['CLIENTE', 'VENDEDOR'], dtype='object')"
      ]
     },
     "execution_count": 14,
     "metadata": {},
     "output_type": "execute_result"
    }
   ],
   "source": [
    "result.columns"
   ]
  },
  {
   "cell_type": "code",
   "execution_count": 15,
   "id": "e684f838",
   "metadata": {},
   "outputs": [
    {
     "data": {
      "application/vnd.microsoft.datawrangler.viewer.v0+json": {
       "columns": [
        {
         "name": "index",
         "rawType": "int64",
         "type": "integer"
        },
        {
         "name": "CLIENTE",
         "rawType": "object",
         "type": "string"
        },
        {
         "name": "VENDEDOR",
         "rawType": "int64",
         "type": "integer"
        }
       ],
       "ref": "d61b31eb-5ec3-4cac-bed6-69b0e5d8e72e",
       "rows": [
        [
         "9",
         "ABIGAIL SOLIS SANCHEZ - FARMACIA ABIFARMA",
         "2"
        ],
        [
         "26",
         "ADELI VILLARROEL ORTIZ - FARMACIA ADELY",
         "3"
        ],
        [
         "36",
         "ADRIANA JELEMI LLANOS ROMERO - CENTERFARMA M & A",
         "2"
        ],
        [
         "72",
         "ALEJANDRA ODALIZ VALDEZ ILLANES - FARMACIA LEANDRO",
         "2"
        ],
        [
         "73",
         "ALEJANDRA ROCHA GARCIA - FARMACIA PRIVILEGIO",
         "2"
        ],
        [
         "99",
         "ALICIA PANOZO GUZMAN - FARMACIA LANDIVAR",
         "3"
        ],
        [
         "113",
         "ALVINA CANAZA LIMACHI - FARMACIA BIO FAR JIRET",
         "2"
        ],
        [
         "120",
         "AMANDA FLOR SALAZAR IGNACIO - FARMACIA JUAREZ II",
         "2"
        ],
        [
         "130",
         "ANA BELLA BALCAZAR GUTIERREZ - FARMACIA SANATODO",
         "2"
        ],
        [
         "132",
         "ANA CECILIA BAURA ROJAS - FARMACIA YESHUA",
         "2"
        ],
        [
         "134",
         "ANA CRISTINA SUAREZ TORRICO - FARMACIA.ANA ROSA",
         "2"
        ],
        [
         "162",
         "ANA MARIA HURTADO ARANDIA - FARMACIA 24 DE SEPTIEMBRE",
         "2"
        ],
        [
         "174",
         "ANA MARISOL AVILA CALDERON - FARMACIA MARY",
         "2"
        ],
        [
         "178",
         "ANA PAOLA ZAPATA PLAZA - FARMACIA ANA PAOLA",
         "2"
        ],
        [
         "207",
         "ANGELA BUSTAMANTE SOLIZ - FARMACIA ANABEL",
         "2"
        ],
        [
         "240",
         "ARCELIA SEJAS GARCIA - JAZZIEL GARCIA",
         "2"
        ],
        [
         "250",
         "ARIEL TOLA CACERES - SUPER FARMACIA",
         "2"
        ],
        [
         "292",
         "BEATRIZ MOREJON HUARACHI - FARMACIA RETOÑO",
         "2"
        ],
        [
         "303",
         "BEIBA CABRERA BRAVO - FARMACIA FARMACABRERA",
         "2"
        ],
        [
         "305",
         "BELISSA FABIANA BAUTISTA BARBA - FARMACIA B & B",
         "3"
        ],
        [
         "332",
         "BERTHA VALENCIA CUTIPA - FARMACIA B.VALENCIA -C",
         "2"
        ],
        [
         "343",
         "BETTY LEIGUE VELEZ - FARMACIA QUIJARRO",
         "2"
        ],
        [
         "344",
         "BETTY MAMANI ARANCIBIA - FARMACIA IAN",
         "2"
        ],
        [
         "361",
         "BLANCA ISABEL HEVIA Y VACA PAZ - FARMACIA IBERICA",
         "2"
        ],
        [
         "391",
         "CALEB CRISTIAN CESPEDES AGREDA - FARMACIA YAHWEH",
         "2"
        ],
        [
         "411",
         "CARLA EVA CONDORI CARDENAS - FARMACIA CAREVA",
         "2"
        ],
        [
         "423",
         "CARLA PATRICIA CARLO SOTO - FARMACIA SALUD Y VIGOR",
         "2"
        ],
        [
         "457",
         "CARMEN ENY GOMEZ PEÑA - FARMACIA PROFARMA M Y K",
         "2"
        ],
        [
         "484",
         "CARMEN ROZA LLENEZ MATURANO - FARMACIA LLENEZ",
         "2"
        ],
        [
         "515",
         "CECILIA ELIZABET OLGA MOLINA NAVAJAS - FARMACIA IMPERIAL",
         "2"
        ],
        [
         "517",
         "CEDENFI S.R.L. - FCIA CEDENFI S.R.L.",
         "2"
        ],
        [
         "521",
         "CELIA CLAURE CAMPOS - FARMACIA KENNEDY",
         "2"
        ],
        [
         "553",
         "CINTHIA CORDOVA SOTO - FARMACIA SAN ANDRES",
         "2"
        ],
        [
         "554",
         "CINTHIA ESCALERA HERRERA - FARMACIA WALGREEN",
         "2"
        ],
        [
         "559",
         "CINTHIA PATRICIA ORELLANA HUANCA - FARMACIA ORELLAN",
         "2"
        ],
        [
         "572",
         "CINTIA MARTINEZ TORREJON - FARMACIA COPACABANA",
         "2"
        ],
        [
         "600",
         "CLAUDIA LENKA BORDA QUIROGA - FARMACIA NAYDI",
         "2"
        ],
        [
         "602",
         "CLAUDIA LIZETH LIZARRAGA MORALES - FARMACIA JOBEMAT",
         "2"
        ],
        [
         "631",
         "CLEYDI FLORES CAYO - FARMACIA CLEYDI",
         "2"
        ],
        [
         "660",
         "CORINA PORCO CALLA - FARMACIA SOMOS FARMA",
         "2"
        ],
        [
         "666",
         "CRISTHIAN ERICK LOREDO CHILE - FARMACIA.CRISTEL",
         "2"
        ],
        [
         "749",
         "DAVID CARRASCO GONZALES - FARMACIA BUENA VISTA SUC.II",
         "3"
        ],
        [
         "772",
         "DEDAMIA VELASCO MOSQUERA - FARMACIA ROMERAL",
         "2"
        ],
        [
         "779",
         "DEISY MERY FLORERO ORELLANA - FARMACIA LUZ DE SAN ANTONIO",
         "2"
        ],
        [
         "782",
         "DELCY ZURITA QUISPE - FARMACIA 4 DE MARZO",
         "2"
        ],
        [
         "813",
         "DEYSI DANITZA MAMANI MAYTA - FARMACIA EL VIVE",
         "2"
        ],
        [
         "815",
         "DEYSI JIMENES ARNEZ - FARMACIA ARNEZ",
         "2"
        ],
        [
         "827",
         "DILMA LEDY RODRIGUEZ ROCHA - FARMACIA RONY",
         "2"
        ],
        [
         "829",
         "DILMA MENESES CUELLAR - FARMACIA DILMA",
         "2"
        ],
        [
         "849",
         "DORA MONTAÑO ALAVE - FARMACIA FARMA STAR",
         "2"
        ]
       ],
       "shape": {
        "columns": 2,
        "rows": 247
       }
      },
      "text/html": [
       "<div>\n",
       "<style scoped>\n",
       "    .dataframe tbody tr th:only-of-type {\n",
       "        vertical-align: middle;\n",
       "    }\n",
       "\n",
       "    .dataframe tbody tr th {\n",
       "        vertical-align: top;\n",
       "    }\n",
       "\n",
       "    .dataframe thead th {\n",
       "        text-align: right;\n",
       "    }\n",
       "</style>\n",
       "<table border=\"1\" class=\"dataframe\">\n",
       "  <thead>\n",
       "    <tr style=\"text-align: right;\">\n",
       "      <th></th>\n",
       "      <th>CLIENTE</th>\n",
       "      <th>VENDEDOR</th>\n",
       "    </tr>\n",
       "  </thead>\n",
       "  <tbody>\n",
       "    <tr>\n",
       "      <th>9</th>\n",
       "      <td>ABIGAIL SOLIS SANCHEZ - FARMACIA ABIFARMA</td>\n",
       "      <td>2</td>\n",
       "    </tr>\n",
       "    <tr>\n",
       "      <th>26</th>\n",
       "      <td>ADELI VILLARROEL ORTIZ - FARMACIA ADELY</td>\n",
       "      <td>3</td>\n",
       "    </tr>\n",
       "    <tr>\n",
       "      <th>36</th>\n",
       "      <td>ADRIANA JELEMI LLANOS ROMERO - CENTERFARMA M &amp; A</td>\n",
       "      <td>2</td>\n",
       "    </tr>\n",
       "    <tr>\n",
       "      <th>72</th>\n",
       "      <td>ALEJANDRA ODALIZ VALDEZ ILLANES - FARMACIA LEA...</td>\n",
       "      <td>2</td>\n",
       "    </tr>\n",
       "    <tr>\n",
       "      <th>73</th>\n",
       "      <td>ALEJANDRA ROCHA GARCIA - FARMACIA PRIVILEGIO</td>\n",
       "      <td>2</td>\n",
       "    </tr>\n",
       "    <tr>\n",
       "      <th>...</th>\n",
       "      <td>...</td>\n",
       "      <td>...</td>\n",
       "    </tr>\n",
       "    <tr>\n",
       "      <th>4386</th>\n",
       "      <td>YUBINKA MICHELE CAMPOS FRANCO - FARMACIA TUFARMY</td>\n",
       "      <td>2</td>\n",
       "    </tr>\n",
       "    <tr>\n",
       "      <th>4387</th>\n",
       "      <td>YUDIH CHINO COTA - FARMACIA SANTA CATARINA</td>\n",
       "      <td>2</td>\n",
       "    </tr>\n",
       "    <tr>\n",
       "      <th>4391</th>\n",
       "      <td>YUDYT MELANIA URREGO ORTIZ - FARMACIA MIA</td>\n",
       "      <td>3</td>\n",
       "    </tr>\n",
       "    <tr>\n",
       "      <th>4426</th>\n",
       "      <td>ZULLMA CORONADO SERRUDO - FARMACIA ANTOFAGASTA</td>\n",
       "      <td>2</td>\n",
       "    </tr>\n",
       "    <tr>\n",
       "      <th>4427</th>\n",
       "      <td>ZULLMA HERBAS OLIVERA - FARMAMIGOS</td>\n",
       "      <td>2</td>\n",
       "    </tr>\n",
       "  </tbody>\n",
       "</table>\n",
       "<p>247 rows × 2 columns</p>\n",
       "</div>"
      ],
      "text/plain": [
       "                                                CLIENTE  VENDEDOR\n",
       "9             ABIGAIL SOLIS SANCHEZ - FARMACIA ABIFARMA         2\n",
       "26              ADELI VILLARROEL ORTIZ - FARMACIA ADELY         3\n",
       "36     ADRIANA JELEMI LLANOS ROMERO - CENTERFARMA M & A         2\n",
       "72    ALEJANDRA ODALIZ VALDEZ ILLANES - FARMACIA LEA...         2\n",
       "73         ALEJANDRA ROCHA GARCIA - FARMACIA PRIVILEGIO         2\n",
       "...                                                 ...       ...\n",
       "4386   YUBINKA MICHELE CAMPOS FRANCO - FARMACIA TUFARMY         2\n",
       "4387         YUDIH CHINO COTA - FARMACIA SANTA CATARINA         2\n",
       "4391          YUDYT MELANIA URREGO ORTIZ - FARMACIA MIA         3\n",
       "4426     ZULLMA CORONADO SERRUDO - FARMACIA ANTOFAGASTA         2\n",
       "4427                 ZULLMA HERBAS OLIVERA - FARMAMIGOS         2\n",
       "\n",
       "[247 rows x 2 columns]"
      ]
     },
     "execution_count": 15,
     "metadata": {},
     "output_type": "execute_result"
    }
   ],
   "source": [
    "result = result[result['VENDEDOR']>1]\n",
    "result"
   ]
  },
  {
   "cell_type": "code",
   "execution_count": null,
   "id": "a9151160",
   "metadata": {},
   "outputs": [
    {
     "data": {
      "application/vnd.microsoft.datawrangler.viewer.v0+json": {
       "columns": [
        {
         "name": "index",
         "rawType": "int64",
         "type": "integer"
        },
        {
         "name": "IDSUC.",
         "rawType": "int64",
         "type": "integer"
        },
        {
         "name": "CLIENTE",
         "rawType": "int64",
         "type": "integer"
        }
       ],
       "ref": "aa06d31c-c344-44b1-a197-3fca00fa0c06",
       "rows": [],
       "shape": {
        "columns": 2,
        "rows": 0
       }
      },
      "text/html": [
       "<div>\n",
       "<style scoped>\n",
       "    .dataframe tbody tr th:only-of-type {\n",
       "        vertical-align: middle;\n",
       "    }\n",
       "\n",
       "    .dataframe tbody tr th {\n",
       "        vertical-align: top;\n",
       "    }\n",
       "\n",
       "    .dataframe thead th {\n",
       "        text-align: right;\n",
       "    }\n",
       "</style>\n",
       "<table border=\"1\" class=\"dataframe\">\n",
       "  <thead>\n",
       "    <tr style=\"text-align: right;\">\n",
       "      <th></th>\n",
       "      <th>IDSUC.</th>\n",
       "      <th>CLIENTE</th>\n",
       "    </tr>\n",
       "  </thead>\n",
       "  <tbody>\n",
       "  </tbody>\n",
       "</table>\n",
       "</div>"
      ],
      "text/plain": [
       "Empty DataFrame\n",
       "Columns: [IDSUC., CLIENTE]\n",
       "Index: []"
      ]
     },
     "execution_count": 18,
     "metadata": {},
     "output_type": "execute_result"
    }
   ],
   "source": [
    "# Un Id sucursal no tiene mas de un cliente\n",
    "result = df.groupby('IDSUC.', as_index=False)['CLIENTE'].nunique()\n",
    "result = result[result['CLIENTE']>1]\n",
    "result"
   ]
  },
  {
   "cell_type": "code",
   "execution_count": null,
   "id": "6adfa5bd",
   "metadata": {},
   "outputs": [
    {
     "data": {
      "application/vnd.microsoft.datawrangler.viewer.v0+json": {
       "columns": [
        {
         "name": "index",
         "rawType": "int64",
         "type": "integer"
        },
        {
         "name": "IDSUC.",
         "rawType": "int64",
         "type": "integer"
        },
        {
         "name": "LABORATORIO",
         "rawType": "object",
         "type": "string"
        },
        {
         "name": "VENDEDOR",
         "rawType": "int64",
         "type": "integer"
        }
       ],
       "ref": "c013eae0-c62a-485d-bcd7-4b6d1f4c0cf9",
       "rows": [],
       "shape": {
        "columns": 3,
        "rows": 0
       }
      },
      "text/html": [
       "<div>\n",
       "<style scoped>\n",
       "    .dataframe tbody tr th:only-of-type {\n",
       "        vertical-align: middle;\n",
       "    }\n",
       "\n",
       "    .dataframe tbody tr th {\n",
       "        vertical-align: top;\n",
       "    }\n",
       "\n",
       "    .dataframe thead th {\n",
       "        text-align: right;\n",
       "    }\n",
       "</style>\n",
       "<table border=\"1\" class=\"dataframe\">\n",
       "  <thead>\n",
       "    <tr style=\"text-align: right;\">\n",
       "      <th></th>\n",
       "      <th>IDSUC.</th>\n",
       "      <th>LABORATORIO</th>\n",
       "      <th>VENDEDOR</th>\n",
       "    </tr>\n",
       "  </thead>\n",
       "  <tbody>\n",
       "  </tbody>\n",
       "</table>\n",
       "</div>"
      ],
      "text/plain": [
       "Empty DataFrame\n",
       "Columns: [IDSUC., LABORATORIO, VENDEDOR]\n",
       "Index: []"
      ]
     },
     "execution_count": 22,
     "metadata": {},
     "output_type": "execute_result"
    }
   ],
   "source": [
    "# No existe sucursal lab asignado mas de un vendedor\n",
    "result = df.groupby(['IDSUC.', 'LABORATORIO'], as_index=False)['VENDEDOR'].nunique()\n",
    "result = result[result['VENDEDOR']>1]\n",
    "result"
   ]
  },
  {
   "cell_type": "code",
   "execution_count": 26,
   "id": "b75db2b3",
   "metadata": {},
   "outputs": [
    {
     "data": {
      "application/vnd.microsoft.datawrangler.viewer.v0+json": {
       "columns": [
        {
         "name": "index",
         "rawType": "int64",
         "type": "integer"
        },
        {
         "name": "VENDEDOR",
         "rawType": "object",
         "type": "string"
        },
        {
         "name": "LABORATORIO",
         "rawType": "object",
         "type": "string"
        },
        {
         "name": "GERENCIA",
         "rawType": "int64",
         "type": "integer"
        },
        {
         "name": "SUPERVISOR",
         "rawType": "int64",
         "type": "integer"
        },
        {
         "name": "IDCLI",
         "rawType": "int64",
         "type": "integer"
        },
        {
         "name": "IDSUC.",
         "rawType": "int64",
         "type": "integer"
        },
        {
         "name": "CLIENTE",
         "rawType": "int64",
         "type": "integer"
        },
        {
         "name": "NUMERO VENDEDOR",
         "rawType": "int64",
         "type": "integer"
        },
        {
         "name": "CORREO ELECTRONICO",
         "rawType": "int64",
         "type": "integer"
        }
       ],
       "ref": "d0b9be1e-3fe6-4ac6-bd81-0251715d4f5f",
       "rows": [
        [
         "0",
         "ADALID VELIZ TORRICO",
         "MEGALABS",
         "1",
         "1",
         "80",
         "80",
         "80",
         "1",
         "1"
        ],
        [
         "1",
         "ADALID VELIZ TORRICO",
         "NESTLE",
         "1",
         "1",
         "125",
         "125",
         "125",
         "1",
         "1"
        ],
        [
         "2",
         "ADALID VELIZ TORRICO",
         "TERBOL",
         "1",
         "1",
         "125",
         "125",
         "125",
         "1",
         "1"
        ],
        [
         "3",
         "ALEX MOISES MALDONADO ROSPILLOSA",
         "MEGALABS",
         "1",
         "1",
         "67",
         "67",
         "67",
         "1",
         "1"
        ],
        [
         "4",
         "ALEX MOISES MALDONADO ROSPILLOSA",
         "NESTLE",
         "1",
         "1",
         "100",
         "100",
         "100",
         "1",
         "1"
        ],
        [
         "5",
         "ALEX MOISES MALDONADO ROSPILLOSA",
         "TERBOL",
         "1",
         "1",
         "100",
         "100",
         "100",
         "1",
         "1"
        ],
        [
         "6",
         "ALFONSO GERARDO ROJAS BARRETO - EXTERNO",
         "MEGALABS",
         "1",
         "1",
         "72",
         "72",
         "72",
         "1",
         "1"
        ],
        [
         "7",
         "ALFONSO GERARDO ROJAS BARRETO - EXTERNO",
         "NESTLE",
         "1",
         "1",
         "109",
         "109",
         "109",
         "1",
         "1"
        ],
        [
         "8",
         "ALFONSO GERARDO ROJAS BARRETO - EXTERNO",
         "TECNOFARMA",
         "1",
         "1",
         "90",
         "90",
         "90",
         "1",
         "1"
        ],
        [
         "9",
         "ALFONSO GERARDO ROJAS BARRETO - EXTERNO",
         "TERBOL",
         "1",
         "1",
         "109",
         "109",
         "109",
         "1",
         "1"
        ],
        [
         "10",
         "ARIEL CECILIO HURTADO BURGOS",
         "MEGALABS",
         "1",
         "1",
         "62",
         "62",
         "62",
         "1",
         "1"
        ],
        [
         "11",
         "ARIEL CECILIO HURTADO BURGOS",
         "NESTLE",
         "1",
         "1",
         "64",
         "65",
         "64",
         "1",
         "1"
        ],
        [
         "12",
         "ARIEL CECILIO HURTADO BURGOS",
         "TECNOFARMA",
         "1",
         "1",
         "63",
         "64",
         "63",
         "1",
         "1"
        ],
        [
         "13",
         "ARIEL CECILIO HURTADO BURGOS",
         "TERBOL",
         "1",
         "1",
         "64",
         "65",
         "64",
         "1",
         "1"
        ],
        [
         "14",
         "CARLA NATALY ESPINOZA LEON",
         "MEGALABS",
         "1",
         "1",
         "49",
         "51",
         "49",
         "1",
         "1"
        ],
        [
         "15",
         "CARLA NATALY ESPINOZA LEON",
         "NESTLE",
         "1",
         "1",
         "82",
         "83",
         "82",
         "1",
         "1"
        ],
        [
         "16",
         "CARLA NATALY ESPINOZA LEON",
         "TERBOL",
         "1",
         "1",
         "82",
         "83",
         "82",
         "1",
         "1"
        ],
        [
         "17",
         "CARLOS GUIDO BAUTISTA ROJAS",
         "MEGALABS",
         "1",
         "1",
         "65",
         "65",
         "65",
         "1",
         "1"
        ],
        [
         "18",
         "CARLOS GUIDO BAUTISTA ROJAS",
         "NESTLE",
         "1",
         "1",
         "86",
         "86",
         "86",
         "1",
         "1"
        ],
        [
         "19",
         "CARLOS GUIDO BAUTISTA ROJAS",
         "TERBOL",
         "1",
         "1",
         "86",
         "86",
         "86",
         "1",
         "1"
        ],
        [
         "20",
         "CARLOS IVAN VACA HUMALLA",
         "MEGALABS",
         "1",
         "1",
         "37",
         "37",
         "37",
         "1",
         "1"
        ],
        [
         "21",
         "CARLOS IVAN VACA HUMALLA",
         "NESTLE",
         "1",
         "1",
         "40",
         "40",
         "40",
         "1",
         "1"
        ],
        [
         "22",
         "CARLOS IVAN VACA HUMALLA",
         "TERBOL",
         "1",
         "1",
         "40",
         "40",
         "40",
         "1",
         "1"
        ],
        [
         "23",
         "CARLOS NESTOR FLORES ZAMBRANA",
         "MEGALABS",
         "1",
         "1",
         "81",
         "81",
         "81",
         "1",
         "1"
        ],
        [
         "24",
         "CARLOS NESTOR FLORES ZAMBRANA",
         "NESTLE",
         "1",
         "1",
         "81",
         "81",
         "81",
         "1",
         "1"
        ],
        [
         "25",
         "CARLOS NESTOR FLORES ZAMBRANA",
         "TERBOL",
         "1",
         "1",
         "80",
         "80",
         "80",
         "1",
         "1"
        ],
        [
         "26",
         "CIRILO BERNARDO CONDORI",
         "MEGALABS",
         "1",
         "1",
         "54",
         "54",
         "54",
         "1",
         "1"
        ],
        [
         "27",
         "CIRILO BERNARDO CONDORI",
         "NESTLE",
         "1",
         "1",
         "79",
         "79",
         "79",
         "1",
         "1"
        ],
        [
         "28",
         "CIRILO BERNARDO CONDORI",
         "TECNOFARMA",
         "1",
         "1",
         "73",
         "73",
         "73",
         "1",
         "1"
        ],
        [
         "29",
         "CIRILO BERNARDO CONDORI",
         "TERBOL",
         "1",
         "1",
         "79",
         "79",
         "79",
         "1",
         "1"
        ],
        [
         "30",
         "CRISTIAN GROVER CERVANTES SERRUDO",
         "MEGALABS",
         "1",
         "1",
         "78",
         "78",
         "78",
         "1",
         "1"
        ],
        [
         "31",
         "CRISTIAN GROVER CERVANTES SERRUDO",
         "NESTLE",
         "1",
         "1",
         "84",
         "84",
         "84",
         "1",
         "1"
        ],
        [
         "32",
         "CRISTIAN GROVER CERVANTES SERRUDO",
         "TERBOL",
         "1",
         "1",
         "84",
         "84",
         "84",
         "1",
         "1"
        ],
        [
         "33",
         "CRISTIAN REYES ROCHA ARDAYA",
         "TECNOFARMA",
         "1",
         "1",
         "46",
         "46",
         "46",
         "1",
         "1"
        ],
        [
         "34",
         "DANIELA CANEDO VIA",
         "MEGALABS",
         "1",
         "1",
         "54",
         "54",
         "54",
         "1",
         "1"
        ],
        [
         "35",
         "DANIELA CANEDO VIA",
         "NESTLE",
         "1",
         "1",
         "67",
         "67",
         "67",
         "1",
         "1"
        ],
        [
         "36",
         "DANIELA CANEDO VIA",
         "TECNOFARMA",
         "1",
         "1",
         "52",
         "52",
         "52",
         "1",
         "1"
        ],
        [
         "37",
         "DANIELA CANEDO VIA",
         "TERBOL",
         "1",
         "1",
         "66",
         "66",
         "66",
         "1",
         "1"
        ],
        [
         "38",
         "DARWIN PERALTA TUERO",
         "MEGALABS",
         "1",
         "1",
         "59",
         "59",
         "59",
         "1",
         "1"
        ],
        [
         "39",
         "DARWIN PERALTA TUERO",
         "NESTLE",
         "1",
         "1",
         "63",
         "63",
         "63",
         "1",
         "1"
        ],
        [
         "40",
         "DARWIN PERALTA TUERO",
         "TERBOL",
         "1",
         "1",
         "63",
         "63",
         "63",
         "1",
         "1"
        ],
        [
         "41",
         "DULBER MENACHO ARRIAZA - EXTERNO",
         "MEGALABS",
         "1",
         "1",
         "78",
         "78",
         "78",
         "1",
         "1"
        ],
        [
         "42",
         "DULBER MENACHO ARRIAZA - EXTERNO",
         "NESTLE",
         "1",
         "1",
         "83",
         "83",
         "83",
         "1",
         "1"
        ],
        [
         "43",
         "DULBER MENACHO ARRIAZA - EXTERNO",
         "TECNOFARMA",
         "1",
         "1",
         "71",
         "71",
         "71",
         "1",
         "1"
        ],
        [
         "44",
         "DULBER MENACHO ARRIAZA - EXTERNO",
         "TERBOL",
         "1",
         "1",
         "83",
         "83",
         "83",
         "1",
         "1"
        ],
        [
         "45",
         "EDER REINALDO VACA MORENO - EXTERNO",
         "MEGALABS",
         "1",
         "1",
         "53",
         "54",
         "53",
         "1",
         "1"
        ],
        [
         "46",
         "EDER REINALDO VACA MORENO - EXTERNO",
         "NESTLE",
         "1",
         "1",
         "75",
         "76",
         "75",
         "1",
         "1"
        ],
        [
         "47",
         "EDER REINALDO VACA MORENO - EXTERNO",
         "TECNOFARMA",
         "1",
         "1",
         "66",
         "67",
         "66",
         "1",
         "1"
        ],
        [
         "48",
         "EDER REINALDO VACA MORENO - EXTERNO",
         "TERBOL",
         "1",
         "1",
         "75",
         "76",
         "75",
         "1",
         "1"
        ],
        [
         "49",
         "EDGAR DANIEL TEJERINA LEON",
         "MEGALABS",
         "1",
         "1",
         "77",
         "77",
         "77",
         "1",
         "1"
        ]
       ],
       "shape": {
        "columns": 9,
        "rows": 200
       }
      },
      "text/html": [
       "<div>\n",
       "<style scoped>\n",
       "    .dataframe tbody tr th:only-of-type {\n",
       "        vertical-align: middle;\n",
       "    }\n",
       "\n",
       "    .dataframe tbody tr th {\n",
       "        vertical-align: top;\n",
       "    }\n",
       "\n",
       "    .dataframe thead th {\n",
       "        text-align: right;\n",
       "    }\n",
       "</style>\n",
       "<table border=\"1\" class=\"dataframe\">\n",
       "  <thead>\n",
       "    <tr style=\"text-align: right;\">\n",
       "      <th></th>\n",
       "      <th>VENDEDOR</th>\n",
       "      <th>LABORATORIO</th>\n",
       "      <th>GERENCIA</th>\n",
       "      <th>SUPERVISOR</th>\n",
       "      <th>IDCLI</th>\n",
       "      <th>IDSUC.</th>\n",
       "      <th>CLIENTE</th>\n",
       "      <th>NUMERO VENDEDOR</th>\n",
       "      <th>CORREO ELECTRONICO</th>\n",
       "    </tr>\n",
       "  </thead>\n",
       "  <tbody>\n",
       "    <tr>\n",
       "      <th>0</th>\n",
       "      <td>ADALID VELIZ TORRICO</td>\n",
       "      <td>MEGALABS</td>\n",
       "      <td>1</td>\n",
       "      <td>1</td>\n",
       "      <td>80</td>\n",
       "      <td>80</td>\n",
       "      <td>80</td>\n",
       "      <td>1</td>\n",
       "      <td>1</td>\n",
       "    </tr>\n",
       "    <tr>\n",
       "      <th>1</th>\n",
       "      <td>ADALID VELIZ TORRICO</td>\n",
       "      <td>NESTLE</td>\n",
       "      <td>1</td>\n",
       "      <td>1</td>\n",
       "      <td>125</td>\n",
       "      <td>125</td>\n",
       "      <td>125</td>\n",
       "      <td>1</td>\n",
       "      <td>1</td>\n",
       "    </tr>\n",
       "    <tr>\n",
       "      <th>2</th>\n",
       "      <td>ADALID VELIZ TORRICO</td>\n",
       "      <td>TERBOL</td>\n",
       "      <td>1</td>\n",
       "      <td>1</td>\n",
       "      <td>125</td>\n",
       "      <td>125</td>\n",
       "      <td>125</td>\n",
       "      <td>1</td>\n",
       "      <td>1</td>\n",
       "    </tr>\n",
       "    <tr>\n",
       "      <th>3</th>\n",
       "      <td>ALEX MOISES MALDONADO ROSPILLOSA</td>\n",
       "      <td>MEGALABS</td>\n",
       "      <td>1</td>\n",
       "      <td>1</td>\n",
       "      <td>67</td>\n",
       "      <td>67</td>\n",
       "      <td>67</td>\n",
       "      <td>1</td>\n",
       "      <td>1</td>\n",
       "    </tr>\n",
       "    <tr>\n",
       "      <th>4</th>\n",
       "      <td>ALEX MOISES MALDONADO ROSPILLOSA</td>\n",
       "      <td>NESTLE</td>\n",
       "      <td>1</td>\n",
       "      <td>1</td>\n",
       "      <td>100</td>\n",
       "      <td>100</td>\n",
       "      <td>100</td>\n",
       "      <td>1</td>\n",
       "      <td>1</td>\n",
       "    </tr>\n",
       "    <tr>\n",
       "      <th>...</th>\n",
       "      <td>...</td>\n",
       "      <td>...</td>\n",
       "      <td>...</td>\n",
       "      <td>...</td>\n",
       "      <td>...</td>\n",
       "      <td>...</td>\n",
       "      <td>...</td>\n",
       "      <td>...</td>\n",
       "      <td>...</td>\n",
       "    </tr>\n",
       "    <tr>\n",
       "      <th>195</th>\n",
       "      <td>WALTER SORUCO LOBO</td>\n",
       "      <td>NESTLE</td>\n",
       "      <td>1</td>\n",
       "      <td>1</td>\n",
       "      <td>38</td>\n",
       "      <td>40</td>\n",
       "      <td>38</td>\n",
       "      <td>1</td>\n",
       "      <td>1</td>\n",
       "    </tr>\n",
       "    <tr>\n",
       "      <th>196</th>\n",
       "      <td>WALTER SORUCO LOBO</td>\n",
       "      <td>TERBOL</td>\n",
       "      <td>1</td>\n",
       "      <td>1</td>\n",
       "      <td>38</td>\n",
       "      <td>40</td>\n",
       "      <td>38</td>\n",
       "      <td>1</td>\n",
       "      <td>1</td>\n",
       "    </tr>\n",
       "    <tr>\n",
       "      <th>197</th>\n",
       "      <td>WILNER HURTADO DURY</td>\n",
       "      <td>MEGALABS</td>\n",
       "      <td>1</td>\n",
       "      <td>1</td>\n",
       "      <td>18</td>\n",
       "      <td>18</td>\n",
       "      <td>18</td>\n",
       "      <td>1</td>\n",
       "      <td>1</td>\n",
       "    </tr>\n",
       "    <tr>\n",
       "      <th>198</th>\n",
       "      <td>WILNER HURTADO DURY</td>\n",
       "      <td>NESTLE</td>\n",
       "      <td>1</td>\n",
       "      <td>1</td>\n",
       "      <td>43</td>\n",
       "      <td>43</td>\n",
       "      <td>43</td>\n",
       "      <td>1</td>\n",
       "      <td>1</td>\n",
       "    </tr>\n",
       "    <tr>\n",
       "      <th>199</th>\n",
       "      <td>WILNER HURTADO DURY</td>\n",
       "      <td>TERBOL</td>\n",
       "      <td>1</td>\n",
       "      <td>1</td>\n",
       "      <td>43</td>\n",
       "      <td>43</td>\n",
       "      <td>43</td>\n",
       "      <td>1</td>\n",
       "      <td>1</td>\n",
       "    </tr>\n",
       "  </tbody>\n",
       "</table>\n",
       "<p>200 rows × 9 columns</p>\n",
       "</div>"
      ],
      "text/plain": [
       "                             VENDEDOR LABORATORIO  GERENCIA  SUPERVISOR  \\\n",
       "0                ADALID VELIZ TORRICO    MEGALABS         1           1   \n",
       "1                ADALID VELIZ TORRICO      NESTLE         1           1   \n",
       "2                ADALID VELIZ TORRICO      TERBOL         1           1   \n",
       "3    ALEX MOISES MALDONADO ROSPILLOSA    MEGALABS         1           1   \n",
       "4    ALEX MOISES MALDONADO ROSPILLOSA      NESTLE         1           1   \n",
       "..                                ...         ...       ...         ...   \n",
       "195                WALTER SORUCO LOBO      NESTLE         1           1   \n",
       "196                WALTER SORUCO LOBO      TERBOL         1           1   \n",
       "197               WILNER HURTADO DURY    MEGALABS         1           1   \n",
       "198               WILNER HURTADO DURY      NESTLE         1           1   \n",
       "199               WILNER HURTADO DURY      TERBOL         1           1   \n",
       "\n",
       "     IDCLI  IDSUC.  CLIENTE  NUMERO VENDEDOR  CORREO ELECTRONICO  \n",
       "0       80      80       80                1                   1  \n",
       "1      125     125      125                1                   1  \n",
       "2      125     125      125                1                   1  \n",
       "3       67      67       67                1                   1  \n",
       "4      100     100      100                1                   1  \n",
       "..     ...     ...      ...              ...                 ...  \n",
       "195     38      40       38                1                   1  \n",
       "196     38      40       38                1                   1  \n",
       "197     18      18       18                1                   1  \n",
       "198     43      43       43                1                   1  \n",
       "199     43      43       43                1                   1  \n",
       "\n",
       "[200 rows x 9 columns]"
      ]
     },
     "execution_count": 26,
     "metadata": {},
     "output_type": "execute_result"
    }
   ],
   "source": [
    "# No existe sucursal lab asignado mas de un vendedor\n",
    "result = df.groupby(['VENDEDOR', 'LABORATORIO'], as_index=False).nunique()\n",
    "# result = result[result['VENDEDOR']>1]\n",
    "result"
   ]
  }
 ],
 "metadata": {
  "kernelspec": {
   "display_name": "b4d_analytics-Yg60_lpz",
   "language": "python",
   "name": "python3"
  },
  "language_info": {
   "codemirror_mode": {
    "name": "ipython",
    "version": 3
   },
   "file_extension": ".py",
   "mimetype": "text/x-python",
   "name": "python",
   "nbconvert_exporter": "python",
   "pygments_lexer": "ipython3",
   "version": "3.13.0"
  }
 },
 "nbformat": 4,
 "nbformat_minor": 5
}
