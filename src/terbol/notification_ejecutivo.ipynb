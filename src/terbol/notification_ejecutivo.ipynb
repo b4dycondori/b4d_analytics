{
 "cells": [
  {
   "cell_type": "code",
   "execution_count": 11,
   "id": "b7f2004e",
   "metadata": {},
   "outputs": [
    {
     "name": "stdout",
     "output_type": "stream",
     "text": [
      "{'oHeader': {'hpesidpk': '1234', 'hpefemic': '20250611', 'hpeidcli': '100011993', 'hpeidpag': '12', 'hpeubica': '', 'hpeglosa': {'Envio': '', 'Pago': '', 'Turno': 'PM'}, 'hpeidmer': '100011993', 'hpefentr': ''}, 'lDetail': [{'dpeidlis': 'MEGALABS', 'dpeidpro': '700000143', 'dpedescr': 'TERBOCYL 6.3.3 X 1 + 1 TERB 1% 5ML x (1)', 'dpecanti': 1.0, 'dpepunit': 1.0, 'dpetbrut': 2.0, 'dpetdcto': 28.0, 'dpetneto': 0.0, 'dpeidund': 'UN'}]}\n"
     ]
    }
   ],
   "source": [
    "\n",
    "import requests\n",
    "import datetime\n",
    "\n",
    "URL = 'https://terbolnet.com/ServicioChatBot/QAS/api'\n",
    "key = '2c0fc538-1cf6-4ee9-9315-b22537a55106'\n",
    "param = \"/v1/ventas/oferta-pedido/crear\"\n",
    "headers = {\"apiKey\": key}\n",
    "\n",
    "oHeader = {\n",
    "    \"hpesidpk\": \"1234\",\n",
    "    \"hpefemic\": datetime.date.today().strftime(\"%Y%m%d\"),\n",
    "    \"hpeidcli\": \"100011993\",\n",
    "    \"hpeidpag\": \"12\",\n",
    "    \"hpeubica\": \"\",\n",
    "    \"hpeglosa\": {\n",
    "        'Envio': '',\n",
    "        'Pago': '',\n",
    "        'Turno': 'PM'\n",
    "    },\n",
    "    \"hpeidmer\": '100011993',\n",
    "    \"hpefentr\": \"\"\n",
    "}\n",
    "\n",
    "lDetail = [\n",
    "    {\n",
    "        \"dpeidlis\": 'MEGALABS',  # type: ignore\n",
    "        \"dpeidpro\": '700000143',  # type: ignore\n",
    "        \"dpedescr\": 'TERBOCYL 6.3.3 X 1 + 1 TERB 1% 5ML x (1)',  # type: ignore\n",
    "        \"dpecanti\": 1.0,\n",
    "        \"dpepunit\": 1.0,\n",
    "        \"dpetbrut\": 2.0,\n",
    "        \"dpetdcto\": 28.0,  # type: ignore\n",
    "        \"dpetneto\": 0.0,\n",
    "        \"dpeidund\": 'UN',  # type: ignore\n",
    "    }\n",
    "]\n",
    "body = {\"oHeader\": oHeader, \"lDetail\": lDetail}\n",
    "print(body)\n",
    "\n",
    "postSAP = requests.post(f\"{URL}{param}\", headers=headers, json=body)\n",
    "\n"
   ]
  },
  {
   "cell_type": "code",
   "execution_count": 12,
   "id": "03a0609d",
   "metadata": {},
   "outputs": [
    {
     "name": "stdout",
     "output_type": "stream",
     "text": [
      "<Response [500]>\n",
      "{'status': 'ERROR', 'error': {'message': 'Referencia a objeto no establecida como instancia de un objeto.'}}\n"
     ]
    }
   ],
   "source": [
    "print(postSAP)\n",
    "\n",
    "print(postSAP.json())"
   ]
  },
  {
   "cell_type": "code",
   "execution_count": 7,
   "id": "fbb4eacc",
   "metadata": {},
   "outputs": [],
   "source": [
    "sap_response_dict = {\n",
    "    \"status\": \"SUCCESS\",\n",
    "    \"message\": \"Proceso ejecutado correctamente\",\n",
    "    \"data\": [\n",
    "        {\n",
    "            \"status\": \"SUCCESS\",\n",
    "            \"message\": \"Datos guardados correctamente\",\n",
    "            \"linea\": \"TERBOL\",\n",
    "            \"nroOferta\": \"0020570278\",\n",
    "            \"nroPedido\": \"0001215651\",\n",
    "            \"condicionPago\": \"P007\",\n",
    "        },\n",
    "        {\n",
    "            \"status\": \"SUCCESS\",\n",
    "            \"message\": \"Ok. pedido registrado\",\n",
    "            \"linea\": \"ZP02 TERBOL\",\n",
    "            \"nroOferta\": \"0020570223\",\n",
    "            \"nroPedido\": \"0001215552\",\n",
    "            \"condicionPago\": \"P000\"\n",
    "        }\n",
    "    ],\n",
    "    \"errorCount\": 0,\n",
    "}\n",
    "\n",
    "webhook = {\n",
    "  \"form\": \"11aa1f2ea69b46\",\n",
    "  \"message\": \"Md3ecb9b5852941749660190\",\n",
    "  \"whatsapp\": \"+59179309830\",\n",
    "  \"order_details\": [\n",
    "    {\n",
    "      \"sku\": \"500000000-12\",\n",
    "      \"cant\": \"6.00\",\n",
    "      \"total\": \"216\",\n",
    "      \"pricing\": \"36\",\n",
    "      \"product\": \"4 DERM CREMA (10 G)\"\n",
    "    },\n",
    "    {\n",
    "      \"sku\": \"500000001-12\",\n",
    "      \"cant\": \"6.00\",\n",
    "      \"total\": \"294\",\n",
    "      \"pricing\": \"49\",\n",
    "      \"product\": \"4 DERM CREMA (20 G)\"\n",
    "    },\n",
    "    {\n",
    "      \"sku\": \"700000093-15\",\n",
    "      \"cant\": \"1.00\",\n",
    "      \"total\": \"144\",\n",
    "      \"pricing\": \"144\",\n",
    "      \"product\": \"GUMYS PRO INMUNE X 60 GOMITAS MAST. C/ET\"\n",
    "    }\n",
    "  ],\n",
    "  \"accountNumber\": \"59165864034\",\n",
    "  \"client_id\": \"500000675\",\n",
    "  \"client_name\": \"YESICA TINCURI CHOQUE\"\n",
    "}\n",
    "\n"
   ]
  },
  {
   "cell_type": "code",
   "execution_count": 13,
   "id": "376ba619",
   "metadata": {},
   "outputs": [],
   "source": [
    "number = webhook.get(\"accountNumber\")\n",
    "items_products = lDetail\n",
    "items_lines = sap_response_dict[\"data\"]\n",
    "client_id=webhook.get(\"client_id\")\n",
    "client_name=webhook.get(\"client_name\")\n",
    "\n",
    "for item in items_products:\n",
    "    # print(f\"item: {item}\")\n",
    "    item[\"dpepunit\"] = round(float(item[\"dpepunit\"]), 2) + round(float(item[\"dpetdcto\"]), 2)\n",
    "    item[\"dpetneto\"] = round(float(item[\"dpetbrut\"]), 2)\n",
    "\n",
    "key_mapping_orders = {\n",
    "    'dpeidlis': 'linea',\n",
    "    'dpeidpro': 'id producto',\n",
    "    'dpedescr': 'descripcion',\n",
    "    'dpecanti': 'cantidad',\n",
    "    'dpepunit': 'precio unidad',\n",
    "    'dpetbrut': 'precio bruto',\n",
    "    'dpetdcto': 'descuento',\n",
    "    'dpetneto': 'precio neto',\n",
    "    'dpeidund': 'medida'\n",
    "}\n",
    "# Convertir las claves usando una lista de comprensión\n",
    "items_products = [\n",
    "    {key_mapping_orders[k]: v for k, v in item.items()} for item in items_products\n",
    "]"
   ]
  },
  {
   "cell_type": "code",
   "execution_count": 14,
   "id": "a1d4c665",
   "metadata": {},
   "outputs": [
    {
     "data": {
      "text/plain": [
       "[{'linea': 'MEGALABS',\n",
       "  'id producto': '700000143',\n",
       "  'descripcion': 'TERBOCYL 6.3.3 X 1 + 1 TERB 1% 5ML x (1)',\n",
       "  'cantidad': 1.0,\n",
       "  'precio unidad': 29.0,\n",
       "  'precio bruto': 2.0,\n",
       "  'descuento': 28.0,\n",
       "  'precio neto': 2.0,\n",
       "  'medida': 'UN'}]"
      ]
     },
     "execution_count": 14,
     "metadata": {},
     "output_type": "execute_result"
    }
   ],
   "source": [
    "items_products"
   ]
  },
  {
   "cell_type": "code",
   "execution_count": 4,
   "id": "e1dcc007",
   "metadata": {},
   "outputs": [
    {
     "name": "stdout",
     "output_type": "stream",
     "text": [
      "2025-06-13\n",
      "2025-05-31\n",
      "2025-05-01\n"
     ]
    }
   ],
   "source": [
    "\n",
    "from datetime import datetime, timedelta, date\n",
    "\n",
    "current_date = date.today()\n",
    "last_day_of_prev_month = (current_date.replace(day=1) - timedelta(days=1))\n",
    "first_day_of_previous_month = (current_date.replace(day=1) - timedelta(days=1)).replace(day=1)\n",
    "\n",
    "print(f\"{current_date}\")\n",
    "print(f\"{last_day_of_prev_month}\")\n",
    "print(f\"{first_day_of_previous_month}\")"
   ]
  }
 ],
 "metadata": {
  "kernelspec": {
   "display_name": "b4d_analytics-Yg60_lpz",
   "language": "python",
   "name": "python3"
  },
  "language_info": {
   "codemirror_mode": {
    "name": "ipython",
    "version": 3
   },
   "file_extension": ".py",
   "mimetype": "text/x-python",
   "name": "python",
   "nbconvert_exporter": "python",
   "pygments_lexer": "ipython3",
   "version": "3.13.0"
  }
 },
 "nbformat": 4,
 "nbformat_minor": 5
}
