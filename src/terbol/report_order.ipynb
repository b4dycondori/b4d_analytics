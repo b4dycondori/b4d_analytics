{
 "cells": [
  {
   "cell_type": "code",
   "execution_count": 8,
   "id": "38ce6556",
   "metadata": {},
   "outputs": [],
   "source": [
    "import re\n",
    "import pandas as pd\n",
    "import numpy as np\n",
    "\n",
    "path_base = r'../../data/terbol/'\n",
    "\n",
    "file_dif = 'terbol_detalle_de_difusiones_grupo_terbol_all.xlsx'\n",
    "file_msg_1 = 'terbol_detalle_de_mensajes_0124_0724.xlsx'\n",
    "file_msg_2 = 'terbol_detalle_de_mensajes_0125_0625.xlsx'\n",
    "file_msg_3 = 'terbol_detalle_de_mensajes_0824_1224.xlsx'\n",
    "\n",
    "dif_col = ['Fecha Programada ', 'Difusión ', 'Destino ', 'Caso ID ', 'Estado de Envío ', 'Estado de Entrega ', 'Fecha de Entrega ', 'Código de Error ', 'Mensaje de Error ', 'Parámetros Extra ']\n",
    "msg_col = ['Fecha ','Tipo Mensaje', 'Asunto ', 'Contenido ', 'Caso ID ', 'Desde Cuenta ', 'A Cuenta ', 'Agente ']\n",
    "\n",
    "df_dif = pd.read_excel(path_base + file_dif, usecols=dif_col)\n",
    "df_msg_1 = pd.read_excel(path_base + file_msg_1, usecols=msg_col)\n",
    "df_msg_2 = pd.read_excel(path_base + file_msg_2, usecols=msg_col)\n",
    "df_msg_3 = pd.read_excel(path_base + file_msg_3, usecols=msg_col)\n"
   ]
  },
  {
   "cell_type": "code",
   "execution_count": 6,
   "id": "ff671b8c",
   "metadata": {},
   "outputs": [
    {
     "data": {
      "text/plain": [
       "Index(['Caso ID ', 'Fecha ', 'Canal ', 'Asunto ', 'Estado de Caso',\n",
       "       'Último Mensaje ', 'Fecha de Resolución ', 'Grupo ', 'Usuario ID ',\n",
       "       'Usuario ', 'Agente ', 'Cliente ', 'Externo ID ', 'Tipo Primer Msg',\n",
       "       'Tipo Último Msg', 'Mensajes ', 'Entrantes ', 'Salientes ', 'Privados ',\n",
       "       'Públicos ', 'Tags ', 'Caso Saliente', 'Eliminado', 'FCR '],\n",
       "      dtype='object')"
      ]
     },
     "execution_count": 6,
     "metadata": {},
     "output_type": "execute_result"
    }
   ],
   "source": [
    "df_dif.columns"
   ]
  }
 ],
 "metadata": {
  "kernelspec": {
   "display_name": "b4d_analytics-Yg60_lpz",
   "language": "python",
   "name": "python3"
  },
  "language_info": {
   "codemirror_mode": {
    "name": "ipython",
    "version": 3
   },
   "file_extension": ".py",
   "mimetype": "text/x-python",
   "name": "python",
   "nbconvert_exporter": "python",
   "pygments_lexer": "ipython3",
   "version": "3.13.0"
  }
 },
 "nbformat": 4,
 "nbformat_minor": 5
}
