{
 "cells": [
  {
   "cell_type": "code",
   "execution_count": 1,
   "id": "cf75fe1f",
   "metadata": {},
   "outputs": [],
   "source": [
    "import pandas as pd\n",
    "import re\n",
    "\n",
    "path = r'C:/Users/Usuario/Documents/b4d/data/raw/'\n",
    "file = 'gruposofia_Client_2025_04_25.xlsx'\n",
    "file_1 = 'gruposofia_Organization_2025_04_28.xlsx'\n",
    "df = pd.read_excel(path+file_1)"
   ]
  },
  {
   "cell_type": "code",
   "execution_count": null,
   "id": "9b03a87a",
   "metadata": {},
   "outputs": [],
   "source": [
    "df.columns"
   ]
  },
  {
   "cell_type": "code",
   "execution_count": null,
   "id": "3cfd661e",
   "metadata": {},
   "outputs": [],
   "source": [
    "df_1 = df[['nit','phone']]"
   ]
  },
  {
   "cell_type": "code",
   "execution_count": 16,
   "id": "ccc1b63d",
   "metadata": {},
   "outputs": [],
   "source": [
    "#regex_1 = r'[^A-Z0-9\\-]'\n",
    "\n",
    "regex_1 = r'^\\d+[A-Z]+\\-|^[A-Z]+\\d+\\-|^[A-Z]+\\-|\\-\\d+[A-Z]+$|\\-[A-Z]+\\d+$|\\-[A-Z]+$'\n",
    "#regex_2 = r'-\\d+[A-Za-z]+$'\n",
    "#regex_3 = r'[^A-Z0-9\\-]'\n",
    "\n",
    "def f_regex(data_str, regex, str_replace=''):\n",
    "    return re.sub(regex, str_replace, data_str, flags=re.IGNORECASE)\n",
    "\n",
    "df['nit_clean'] = df['nit'].apply(lambda x: f_regex(x, regex_1))\n",
    "#df['nit_clean'] = df['nit_clean'].apply(lambda x: f_regex(x, regex_2))\n",
    "#df['nit_clean'] = df['nit_clean'].apply(lambda x: f_regex(x, regex_3))\n"
   ]
  },
  {
   "cell_type": "code",
   "execution_count": 17,
   "id": "433c450f",
   "metadata": {},
   "outputs": [],
   "source": [
    "# Filtrando NIT solo numeros\n",
    "nit_numbers = df['nit'].astype(str).str.match(r'^\\d+$')\n",
    "\n",
    "nit_con_caracteres = df[~nit_numbers]\n"
   ]
  },
  {
   "cell_type": "code",
   "execution_count": null,
   "id": "e8e4687b",
   "metadata": {},
   "outputs": [],
   "source": [
    "df['nit_clean'].unique()"
   ]
  },
  {
   "cell_type": "code",
   "execution_count": null,
   "id": "dfe21289",
   "metadata": {},
   "outputs": [],
   "source": [
    "df.groupby(['nit_clean'], as_index=False)[['nit_clean']].size().query('size > 1')"
   ]
  },
  {
   "cell_type": "code",
   "execution_count": null,
   "id": "e4e327a6",
   "metadata": {},
   "outputs": [],
   "source": [
    "phones_per_nit = df.groupby('nit')['phone'].nunique().reset_index(name='phone_count')\n",
    "\n",
    "nits_with_multiple_phones = phones_per_nit[phones_per_nit['phone_count'] > 1]"
   ]
  },
  {
   "cell_type": "code",
   "execution_count": null,
   "id": "36b748f4",
   "metadata": {},
   "outputs": [],
   "source": [
    "nit_count = df.groupby('nit').size().reset_index(name='nit_count').query('nit_count > 1')\n",
    "\n",
    "nit_duplicate = phones_per_nit[phones_per_nit['nit_count'] > 1]"
   ]
  }
 ],
 "metadata": {
  "kernelspec": {
   "display_name": "sofia_s1_report-wnA8mDHA",
   "language": "python",
   "name": "python3"
  },
  "language_info": {
   "codemirror_mode": {
    "name": "ipython",
    "version": 3
   },
   "file_extension": ".py",
   "mimetype": "text/x-python",
   "name": "python",
   "nbconvert_exporter": "python",
   "pygments_lexer": "ipython3",
   "version": "3.13.0"
  }
 },
 "nbformat": 4,
 "nbformat_minor": 5
}
