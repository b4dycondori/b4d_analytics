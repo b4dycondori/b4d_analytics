{
 "cells": [
  {
   "cell_type": "code",
   "execution_count": 2,
   "id": "3cbc2e7c",
   "metadata": {},
   "outputs": [
    {
     "data": {
      "text/plain": [
       "('SILVIA MAMANI', ' - ', 'FARMACIA GISEL AYLIN -  LA GUARDIA')"
      ]
     },
     "execution_count": 2,
     "metadata": {},
     "output_type": "execute_result"
    }
   ],
   "source": [
    "name = 'SILVIA MAMANI - FARMACIA GISEL AYLIN -  LA GUARDIA'\n",
    "# name = 'RAUL CHINURI - FARMACIA ISMARI'\n",
    "parts = name.partition(' - ')\n",
    "parts"
   ]
  },
  {
   "cell_type": "code",
   "execution_count": 14,
   "id": "529d354a",
   "metadata": {},
   "outputs": [
    {
     "data": {
      "text/plain": [
       "'FARMACIA REGINA ORDOÑEZ LIRA'"
      ]
     },
     "execution_count": 14,
     "metadata": {},
     "output_type": "execute_result"
    }
   ],
   "source": [
    "result = parts[1]\n",
    "result\n",
    "# parts"
   ]
  }
 ],
 "metadata": {
  "kernelspec": {
   "display_name": "b4d_analytics-Yg60_lpz",
   "language": "python",
   "name": "python3"
  },
  "language_info": {
   "codemirror_mode": {
    "name": "ipython",
    "version": 3
   },
   "file_extension": ".py",
   "mimetype": "text/x-python",
   "name": "python",
   "nbconvert_exporter": "python",
   "pygments_lexer": "ipython3",
   "version": "3.13.0"
  }
 },
 "nbformat": 4,
 "nbformat_minor": 5
}
