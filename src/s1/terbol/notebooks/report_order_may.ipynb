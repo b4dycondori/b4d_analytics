{
 "cells": [
  {
   "cell_type": "code",
   "execution_count": null,
   "id": "c89d57f9",
   "metadata": {},
   "outputs": [],
   "source": [
    "import pandas as pd\n",
    "import re\n",
    "\n",
    "file = 'C:/Users/Usuario/Documents/b4d/data/raw/terbol_detalle_de_mensajes_0125_0625.xlsx'"
   ]
  },
  {
   "cell_type": "code",
   "execution_count": 2,
   "id": "a897595c",
   "metadata": {},
   "outputs": [
    {
     "data": {
      "text/plain": [
       "(73570, 18)"
      ]
     },
     "execution_count": 2,
     "metadata": {},
     "output_type": "execute_result"
    }
   ],
   "source": [
    "df = pd.read_excel(file)\n",
    "df.shape"
   ]
  },
  {
   "cell_type": "code",
   "execution_count": null,
   "id": "b2786368",
   "metadata": {},
   "outputs": [],
   "source": [
    "df.info()"
   ]
  },
  {
   "cell_type": "code",
   "execution_count": 14,
   "id": "137c4fc6",
   "metadata": {},
   "outputs": [
    {
     "data": {
      "text/plain": [
       "Index(['Fecha ', 'Canal ', 'Tipo Mensaje', 'Tipo Contenido', 'Asunto ',\n",
       "       'Contenido ', 'Desde Cuenta ', 'Desde Contacto ', 'A Cuenta ',\n",
       "       'A Contacto ', 'Caso ID ', 'Campaña ', 'Grupo ', 'Usuario ', 'Agente ',\n",
       "       'RT ', 'Externo ID ', 'Externo ID (origen) ', 'Month'],\n",
       "      dtype='object')"
      ]
     },
     "execution_count": 14,
     "metadata": {},
     "output_type": "execute_result"
    }
   ],
   "source": [
    "df.columns"
   ]
  },
  {
   "cell_type": "code",
   "execution_count": 3,
   "id": "b987fbc4",
   "metadata": {},
   "outputs": [],
   "source": [
    "df['Fecha '] = pd.to_datetime(df['Fecha '])\n",
    "df['Month'] = df['Fecha '].dt.month"
   ]
  },
  {
   "cell_type": "code",
   "execution_count": null,
   "id": "9af0684d",
   "metadata": {},
   "outputs": [],
   "source": [
    "df['Month'].unique()"
   ]
  },
  {
   "cell_type": "code",
   "execution_count": 4,
   "id": "cfb5a380",
   "metadata": {},
   "outputs": [
    {
     "data": {
      "text/plain": [
       "(17302, 19)"
      ]
     },
     "execution_count": 4,
     "metadata": {},
     "output_type": "execute_result"
    }
   ],
   "source": [
    "df_1 = df[df['Month']==5]\n",
    "df_1.shape"
   ]
  },
  {
   "cell_type": "code",
   "execution_count": 17,
   "id": "74741273",
   "metadata": {},
   "outputs": [
    {
     "data": {
      "text/plain": [
       "946"
      ]
     },
     "execution_count": 17,
     "metadata": {},
     "output_type": "execute_result"
    }
   ],
   "source": [
    "df_1['Caso ID '].nunique()"
   ]
  },
  {
   "cell_type": "code",
   "execution_count": 11,
   "id": "f561002f",
   "metadata": {},
   "outputs": [],
   "source": [
    "\n",
    "df_1 = df_1.sort_values(['Caso ID ', 'Fecha '])\n",
    "df_1['Contenido '] = df_1['Contenido '].astype(str)"
   ]
  },
  {
   "cell_type": "code",
   "execution_count": null,
   "id": "e04877af",
   "metadata": {},
   "outputs": [],
   "source": []
  },
  {
   "cell_type": "code",
   "execution_count": null,
   "id": "1373ebab",
   "metadata": {},
   "outputs": [
    {
     "data": {
      "application/vnd.microsoft.datawrangler.viewer.v0+json": {
       "columns": [
        {
         "name": "index",
         "rawType": "int64",
         "type": "integer"
        },
        {
         "name": "Fecha ",
         "rawType": "datetime64[ns]",
         "type": "datetime"
        },
        {
         "name": "Canal ",
         "rawType": "object",
         "type": "string"
        },
        {
         "name": "Tipo Mensaje",
         "rawType": "object",
         "type": "string"
        },
        {
         "name": "Tipo Contenido",
         "rawType": "object",
         "type": "string"
        },
        {
         "name": "Asunto ",
         "rawType": "object",
         "type": "string"
        },
        {
         "name": "Contenido ",
         "rawType": "object",
         "type": "string"
        },
        {
         "name": "Desde Cuenta ",
         "rawType": "object",
         "type": "unknown"
        },
        {
         "name": "Desde Contacto ",
         "rawType": "object",
         "type": "unknown"
        },
        {
         "name": "A Cuenta ",
         "rawType": "object",
         "type": "unknown"
        },
        {
         "name": "A Contacto ",
         "rawType": "object",
         "type": "string"
        },
        {
         "name": "Caso ID ",
         "rawType": "int64",
         "type": "integer"
        },
        {
         "name": "Campaña ",
         "rawType": "object",
         "type": "string"
        },
        {
         "name": "Grupo ",
         "rawType": "object",
         "type": "string"
        },
        {
         "name": "Usuario ",
         "rawType": "object",
         "type": "unknown"
        },
        {
         "name": "Agente ",
         "rawType": "object",
         "type": "unknown"
        },
        {
         "name": "RT ",
         "rawType": "float64",
         "type": "float"
        },
        {
         "name": "Externo ID ",
         "rawType": "object",
         "type": "string"
        },
        {
         "name": "Externo ID (origen) ",
         "rawType": "object",
         "type": "unknown"
        },
        {
         "name": "Month",
         "rawType": "int32",
         "type": "integer"
        },
        {
         "name": "Nodo",
         "rawType": "object",
         "type": "string"
        }
       ],
       "ref": "7252c174-d08a-4077-b1cb-f67d238ebf21",
       "rows": [
        [
         "52130",
         "2025-05-03 09:32:43",
         "whatsapp",
         "Entrante",
         "Privado",
         "Hola",
         "Hola",
         "59172453697",
         null,
         "a1de2976606ea696d5d1d24cb8de8398f84e9be6",
         "Terbol Consultas Nueva",
         "7015781",
         "Terbol",
         "Inbox Terbol",
         null,
         null,
         null,
         "wamid.HBgLNTkxNzI0NTM2OTcVAgASGCA1RjkzRDE1QjkyOUZCNDczRTdGRTU5NUM1Njk5NkFDRQA=",
         null,
         "5",
         "-1"
        ],
        [
         "52191",
         "2025-05-03 16:34:16",
         "whatsapp",
         "Entrante",
         "Privado",
         "Hola",
         "Hola",
         "59172453697",
         null,
         "a1de2976606ea696d5d1d24cb8de8398f84e9be6",
         "Terbol Consultas Nueva",
         "7015781",
         "Terbol",
         "Inbox Terbol",
         null,
         null,
         null,
         "wamid.HBgLNTkxNzI0NTM2OTcVAgASGCA0MDhFOTJCNDQyMUFFOEYzNDlBQTNCODUzRjZEQzZCMQA=",
         null,
         "5",
         "-1"
        ],
        [
         "51943",
         "2025-05-01 00:23:42",
         "whatsapp",
         "Saliente",
         "Privado",
         "BUENAS NOCHES CUANDO LLEGARA MI PEDIDO?",
         ":eyes: ¿Sigues ahi? :eyes:\n\n¡Retoma el proceso en cualquier momento, estamos siempre ayudarte!",
         "a1de2976606ea696d5d1d24cb8de8398f84e9be6",
         "Terbol Consultas Nueva",
         "59167420882",
         "Farmacia Win's",
         "7015837",
         "Terbol",
         "Bot Anfitrion",
         "S1",
         "S1",
         null,
         "wamid.HBgLNTkxNjc0MjA4ODIVAgARGBJEQkJCNDIyQzI5OTQzOUQ5Q0IA",
         "wamid.HBgLNTkxNjc0MjA4ODIVAgASGBQzRjc3RUYzQ0JCQjg5MTY3NkYxRgA=",
         "5",
         "-1"
        ]
       ],
       "shape": {
        "columns": 20,
        "rows": 3
       }
      },
      "text/html": [
       "<div>\n",
       "<style scoped>\n",
       "    .dataframe tbody tr th:only-of-type {\n",
       "        vertical-align: middle;\n",
       "    }\n",
       "\n",
       "    .dataframe tbody tr th {\n",
       "        vertical-align: top;\n",
       "    }\n",
       "\n",
       "    .dataframe thead th {\n",
       "        text-align: right;\n",
       "    }\n",
       "</style>\n",
       "<table border=\"1\" class=\"dataframe\">\n",
       "  <thead>\n",
       "    <tr style=\"text-align: right;\">\n",
       "      <th></th>\n",
       "      <th>Fecha</th>\n",
       "      <th>Canal</th>\n",
       "      <th>Tipo Mensaje</th>\n",
       "      <th>Tipo Contenido</th>\n",
       "      <th>Asunto</th>\n",
       "      <th>Contenido</th>\n",
       "      <th>Desde Cuenta</th>\n",
       "      <th>Desde Contacto</th>\n",
       "      <th>A Cuenta</th>\n",
       "      <th>A Contacto</th>\n",
       "      <th>Caso ID</th>\n",
       "      <th>Campaña</th>\n",
       "      <th>Grupo</th>\n",
       "      <th>Usuario</th>\n",
       "      <th>Agente</th>\n",
       "      <th>RT</th>\n",
       "      <th>Externo ID</th>\n",
       "      <th>Externo ID (origen)</th>\n",
       "      <th>Month</th>\n",
       "      <th>Nodo</th>\n",
       "    </tr>\n",
       "  </thead>\n",
       "  <tbody>\n",
       "    <tr>\n",
       "      <th>52130</th>\n",
       "      <td>2025-05-03 09:32:43</td>\n",
       "      <td>whatsapp</td>\n",
       "      <td>Entrante</td>\n",
       "      <td>Privado</td>\n",
       "      <td>Hola</td>\n",
       "      <td>Hola</td>\n",
       "      <td>59172453697</td>\n",
       "      <td>NaN</td>\n",
       "      <td>a1de2976606ea696d5d1d24cb8de8398f84e9be6</td>\n",
       "      <td>Terbol Consultas Nueva</td>\n",
       "      <td>7015781</td>\n",
       "      <td>Terbol</td>\n",
       "      <td>Inbox Terbol</td>\n",
       "      <td>NaN</td>\n",
       "      <td>NaN</td>\n",
       "      <td>NaN</td>\n",
       "      <td>wamid.HBgLNTkxNzI0NTM2OTcVAgASGCA1RjkzRDE1Qjky...</td>\n",
       "      <td>NaN</td>\n",
       "      <td>5</td>\n",
       "      <td>-1</td>\n",
       "    </tr>\n",
       "    <tr>\n",
       "      <th>52191</th>\n",
       "      <td>2025-05-03 16:34:16</td>\n",
       "      <td>whatsapp</td>\n",
       "      <td>Entrante</td>\n",
       "      <td>Privado</td>\n",
       "      <td>Hola</td>\n",
       "      <td>Hola</td>\n",
       "      <td>59172453697</td>\n",
       "      <td>NaN</td>\n",
       "      <td>a1de2976606ea696d5d1d24cb8de8398f84e9be6</td>\n",
       "      <td>Terbol Consultas Nueva</td>\n",
       "      <td>7015781</td>\n",
       "      <td>Terbol</td>\n",
       "      <td>Inbox Terbol</td>\n",
       "      <td>NaN</td>\n",
       "      <td>NaN</td>\n",
       "      <td>NaN</td>\n",
       "      <td>wamid.HBgLNTkxNzI0NTM2OTcVAgASGCA0MDhFOTJCNDQy...</td>\n",
       "      <td>NaN</td>\n",
       "      <td>5</td>\n",
       "      <td>-1</td>\n",
       "    </tr>\n",
       "    <tr>\n",
       "      <th>51943</th>\n",
       "      <td>2025-05-01 00:23:42</td>\n",
       "      <td>whatsapp</td>\n",
       "      <td>Saliente</td>\n",
       "      <td>Privado</td>\n",
       "      <td>BUENAS NOCHES CUANDO LLEGARA MI PEDIDO?</td>\n",
       "      <td>:eyes: ¿Sigues ahi? :eyes:\\n\\n¡Retoma el proce...</td>\n",
       "      <td>a1de2976606ea696d5d1d24cb8de8398f84e9be6</td>\n",
       "      <td>Terbol Consultas Nueva</td>\n",
       "      <td>59167420882</td>\n",
       "      <td>Farmacia Win's</td>\n",
       "      <td>7015837</td>\n",
       "      <td>Terbol</td>\n",
       "      <td>Bot Anfitrion</td>\n",
       "      <td>S1</td>\n",
       "      <td>S1</td>\n",
       "      <td>NaN</td>\n",
       "      <td>wamid.HBgLNTkxNjc0MjA4ODIVAgARGBJEQkJCNDIyQzI5...</td>\n",
       "      <td>wamid.HBgLNTkxNjc0MjA4ODIVAgASGBQzRjc3RUYzQ0JC...</td>\n",
       "      <td>5</td>\n",
       "      <td>-1</td>\n",
       "    </tr>\n",
       "  </tbody>\n",
       "</table>\n",
       "</div>"
      ],
      "text/plain": [
       "                   Fecha     Canal  Tipo Mensaje Tipo Contenido  \\\n",
       "52130 2025-05-03 09:32:43  whatsapp     Entrante        Privado   \n",
       "52191 2025-05-03 16:34:16  whatsapp     Entrante        Privado   \n",
       "51943 2025-05-01 00:23:42  whatsapp     Saliente        Privado   \n",
       "\n",
       "                                       Asunto   \\\n",
       "52130                                     Hola   \n",
       "52191                                     Hola   \n",
       "51943  BUENAS NOCHES CUANDO LLEGARA MI PEDIDO?   \n",
       "\n",
       "                                              Contenido   \\\n",
       "52130                                               Hola   \n",
       "52191                                               Hola   \n",
       "51943  :eyes: ¿Sigues ahi? :eyes:\\n\\n¡Retoma el proce...   \n",
       "\n",
       "                                  Desde Cuenta          Desde Contacto   \\\n",
       "52130                               59172453697                     NaN   \n",
       "52191                               59172453697                     NaN   \n",
       "51943  a1de2976606ea696d5d1d24cb8de8398f84e9be6  Terbol Consultas Nueva   \n",
       "\n",
       "                                      A Cuenta              A Contacto   \\\n",
       "52130  a1de2976606ea696d5d1d24cb8de8398f84e9be6  Terbol Consultas Nueva   \n",
       "52191  a1de2976606ea696d5d1d24cb8de8398f84e9be6  Terbol Consultas Nueva   \n",
       "51943                               59167420882          Farmacia Win's   \n",
       "\n",
       "       Caso ID  Campaña          Grupo  Usuario  Agente   RT   \\\n",
       "52130   7015781   Terbol   Inbox Terbol      NaN     NaN  NaN   \n",
       "52191   7015781   Terbol   Inbox Terbol      NaN     NaN  NaN   \n",
       "51943   7015837   Terbol  Bot Anfitrion       S1      S1  NaN   \n",
       "\n",
       "                                             Externo ID   \\\n",
       "52130  wamid.HBgLNTkxNzI0NTM2OTcVAgASGCA1RjkzRDE1Qjky...   \n",
       "52191  wamid.HBgLNTkxNzI0NTM2OTcVAgASGCA0MDhFOTJCNDQy...   \n",
       "51943  wamid.HBgLNTkxNjc0MjA4ODIVAgARGBJEQkJCNDIyQzI5...   \n",
       "\n",
       "                                    Externo ID (origen)   Month Nodo  \n",
       "52130                                                NaN      5   -1  \n",
       "52191                                                NaN      5   -1  \n",
       "51943  wamid.HBgLNTkxNjc0MjA4ODIVAgASGBQzRjc3RUYzQ0JC...      5   -1  "
      ]
     },
     "execution_count": 12,
     "metadata": {},
     "output_type": "execute_result"
    }
   ],
   "source": [
    "pattern_nodos = {\n",
    "    r'terbol.kokoinc': '1',\n",
    "    r'Realiza tu pedido desde el siguiente enlace|Realiza tu pedido presionando el boton' : '2',\n",
    "    r'se encuentran actualmente sin stock': '3',\n",
    "    r'Pedido generado correctamente|encuentra generado|Su pedido se genero correctamente': '4'\n",
    "}\n",
    "def f_regex(data, pattern_nodos):\n",
    "    for pattern, nodo in pattern_nodos.items():\n",
    "        if re.search(pattern, data, re.IGNORECASE):\n",
    "            return nodo\n",
    "    return '-1'\n",
    "\n",
    "\n",
    "df_1['Nodo'] = df_1['Contenido '].apply(lambda x: f_regex(x, pattern_nodos))\n",
    "\n",
    "df_1.head(3)"
   ]
  },
  {
   "cell_type": "code",
   "execution_count": 16,
   "id": "83a50858",
   "metadata": {},
   "outputs": [],
   "source": [
    "pivot_resultado = pd.crosstab(df_1['Caso ID '], df_1['Nodo'])\n"
   ]
  }
 ],
 "metadata": {
  "kernelspec": {
   "display_name": "b4d_analytics-Yg60_lpz",
   "language": "python",
   "name": "python3"
  },
  "language_info": {
   "codemirror_mode": {
    "name": "ipython",
    "version": 3
   },
   "file_extension": ".py",
   "mimetype": "text/x-python",
   "name": "python",
   "nbconvert_exporter": "python",
   "pygments_lexer": "ipython3",
   "version": "3.13.0"
  }
 },
 "nbformat": 4,
 "nbformat_minor": 5
}
