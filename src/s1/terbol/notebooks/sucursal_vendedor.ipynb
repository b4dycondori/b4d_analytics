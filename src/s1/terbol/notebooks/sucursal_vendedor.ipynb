{
 "cells": [
  {
   "cell_type": "code",
   "execution_count": 1,
   "id": "2c960623",
   "metadata": {},
   "outputs": [],
   "source": [
    "import pandas as pd\n",
    "import numpy as np\n",
    "import re\n",
    "\n",
    "# Path\n",
    "path_raw = r'C:/Users/Usuario/Documents/b4d/data/raw/'\n",
    "path_processed = r'C:/Users/Usuario/Documents/b4d/data/processed/'\n",
    "\n",
    "# Name of file\n",
    "file_name = 'terbol_clientes_número_ejecutivos_1'\n",
    "ext = '.xlsx'\n",
    "\n",
    "file_name_2 = 'terbol_clientes_numeros_ejecutivo_new'\n",
    "\n",
    "file_name_1 = 'terbol_SalesExecutive-2025-06-10'\n",
    "ext_1 = '.csv'\n",
    "\n",
    "file_brch = 'terbol_TerbolSucursal-2025-06-10'\n",
    "\n",
    "suffix = '_clean'"
   ]
  },
  {
   "cell_type": "code",
   "execution_count": 6,
   "id": "97c1d0fa",
   "metadata": {},
   "outputs": [
    {
     "name": "stdout",
     "output_type": "stream",
     "text": [
      "Se han identificado 304 nuevos registros.\n",
      "Se han identificado 5958 registros con cambios.\n"
     ]
    }
   ],
   "source": [
    "import pandas as pd\n",
    "\n",
    "df_antiguo = pd.read_excel(path_raw + 'terbol_clientes_número_ejecutivos_1.xlsx')\n",
    "df_nuevo = pd.read_excel(path_raw + 'terbol_clientes_numeros_ejecutivo_new.xlsx')\n",
    "\n",
    "clave_columnas = ['IDCLI', 'IDSUC.', 'CLIENTE', 'LABORATORIO']\n",
    "\n",
    "if not all(col in df_antiguo.columns and col in df_nuevo.columns for col in clave_columnas):\n",
    "    raise ValueError(\"Alguna columna de la clave no existe en los DataFrames.\")\n",
    "\n",
    "nuevos_registros = df_nuevo[~df_nuevo[clave_columnas].apply(tuple, axis=1).isin(\n",
    "    df_antiguo[clave_columnas].apply(tuple, axis=1))]\n",
    "\n",
    "comunes = pd.merge(df_antiguo, df_nuevo, on=clave_columnas, suffixes=('_antiguo', '_nuevo'))\n",
    "cambios_detallados = []\n",
    "\n",
    "for index, row in comunes.iterrows():\n",
    "    diferencias = {}\n",
    "    for col in [c for c in df_antiguo.columns if c not in clave_columnas]:\n",
    "        if pd.isna(row[f'{col}_antiguo']) and pd.isna(row[f'{col}_nuevo']):\n",
    "            continue\n",
    "        if row[f'{col}_antiguo'] != row[f'{col}_nuevo']:\n",
    "            diferencias[col] = {'antiguo': row[f'{col}_antiguo'], 'nuevo': row[f'{col}_nuevo']}\n",
    "    if diferencias:\n",
    "        for col in clave_columnas:\n",
    "            diferencias[col] = row[col]\n",
    "        cambios_detallados.append(diferencias)\n",
    "\n",
    "with pd.ExcelWriter('resultados_comparacion.xlsx') as writer:\n",
    "    if not nuevos_registros.empty:\n",
    "        nuevos_registros.to_excel(writer, sheet_name='Nuevos_Registros', index=False)\n",
    "    if cambios_detallados:\n",
    "        pd.DataFrame(cambios_detallados).to_excel(writer, sheet_name='Registros_Cambiados', index=False)\n",
    "\n",
    "print(f\"Se han identificado {len(nuevos_registros)} nuevos registros.\")\n",
    "print(f\"Se han identificado {len(cambios_detallados)} registros con cambios.\")"
   ]
  },
  {
   "cell_type": "code",
   "execution_count": 2,
   "id": "ca2f3b3d",
   "metadata": {},
   "outputs": [],
   "source": [
    "df = pd.read_excel(path_raw+file_name+ext)\n",
    "\n",
    "df_2 = pd.read_excel(path_raw+file_name_2+ext)\n"
   ]
  },
  {
   "cell_type": "code",
   "execution_count": 3,
   "id": "23d97792",
   "metadata": {},
   "outputs": [
    {
     "data": {
      "text/plain": [
       "Index(['GERENCIA', 'SUPERVISOR', 'VENDEDOR', 'IDCLI', 'IDSUC.', 'CLIENTE',\n",
       "       'LABORATORIO', 'NUMERO VENDEDOR', 'CORREO ELECTRONICO'],\n",
       "      dtype='object')"
      ]
     },
     "execution_count": 3,
     "metadata": {},
     "output_type": "execute_result"
    }
   ],
   "source": [
    "df.columns"
   ]
  },
  {
   "cell_type": "code",
   "execution_count": null,
   "id": "8d65745d",
   "metadata": {},
   "outputs": [],
   "source": [
    "\n",
    "df_se = df.copy()\n"
   ]
  },
  {
   "cell_type": "code",
   "execution_count": null,
   "id": "25a9aedf",
   "metadata": {},
   "outputs": [],
   "source": [
    "df_se['type'] = np.where(df_se['VENDEDOR'].str.contains('EXTERNO', na=False), 'EXTERNO', None)\n",
    "df_se['sales_manager_type'] = np.where(df_se['SUPERVISOR'].str.contains('EXTERNO', na=False), 'EXTERNO', None)\n",
    "\n",
    "df_se['NUMERO VENDEDOR'] = df_se['NUMERO VENDEDOR'].astype(str)\n",
    "df_se['CORREO ELECTRONICO'] = df_se['CORREO ELECTRONICO'].astype(str)\n",
    "\n",
    "df_se['NUMERO VENDEDOR'] = df_se['NUMERO VENDEDOR'].str.replace(' ','')"
   ]
  },
  {
   "cell_type": "code",
   "execution_count": null,
   "id": "eaaea223",
   "metadata": {},
   "outputs": [],
   "source": [
    "regex_1 = r'\\+591'\n",
    "regex_2 = r'\\- EXTERNO'\n",
    "\n",
    "def f_regex(data_str, regex, str_replace=''):\n",
    "    return re.sub(regex, str_replace, data_str, flags=re.IGNORECASE)\n",
    "\n",
    "\n",
    "df_se['phone_number'] = df_se['NUMERO VENDEDOR'].apply(lambda x: f_regex(x, regex_1))\n",
    "df_se['name'] = df_se['VENDEDOR'].apply(lambda x: f_regex(x, regex_2))\n",
    "df_se['sales_manager'] = df_se['SUPERVISOR'].apply(lambda x: f_regex(x, regex_2))"
   ]
  },
  {
   "cell_type": "code",
   "execution_count": 34,
   "id": "a6ce12e3",
   "metadata": {},
   "outputs": [],
   "source": [
    "df_se['phone_number'] = df_se['phone_number'].str.strip()\n",
    "df_se['name'] = df_se['name'].str.strip()\n",
    "df_se['sales_manager'] = df_se['sales_manager'].str. strip()"
   ]
  },
  {
   "cell_type": "code",
   "execution_count": 35,
   "id": "3acd7c9e",
   "metadata": {},
   "outputs": [],
   "source": [
    "# df_se['sales_manager_office'] = df_se['GERENCIA'].str.capitalize()\n",
    "df_se['phone_number'] = np.where(df_se['phone_number'] == '0', None, df_se['phone_number'])\n",
    "df_se['CORREO ELECTRONICO'] = np.where(df_se['CORREO ELECTRONICO'].str.strip() == '0', None, df_se['CORREO ELECTRONICO'])"
   ]
  },
  {
   "cell_type": "code",
   "execution_count": 36,
   "id": "2e2a53d8",
   "metadata": {},
   "outputs": [],
   "source": [
    "df_se.rename(columns={'CORREO ELECTRONICO': 'email', 'GERENCIA': 'sales_manager_office'}, inplace=True)\n",
    "df_se = df_se[['name' , 'phone_number', 'email', 'type', 'sales_manager', 'sales_manager_type', 'sales_manager_office', ]]"
   ]
  },
  {
   "cell_type": "code",
   "execution_count": 37,
   "id": "5e251242",
   "metadata": {},
   "outputs": [],
   "source": [
    "df_se.drop_duplicates(inplace=True)"
   ]
  },
  {
   "cell_type": "code",
   "execution_count": 38,
   "id": "cf33d520",
   "metadata": {},
   "outputs": [],
   "source": [
    "\n",
    "df_se['created_data'] = pd.Timestamp.now()\n",
    "df_se['updated_data'] = pd.Timestamp.now()\n",
    "df_se['updated_data'] = df_se['updated_data'].dt.strftime('%d/%m/%Y %H:%M')\n",
    "df_se['created_data'] = df_se['created_data'].dt.strftime('%d/%m/%Y %H:%M')"
   ]
  },
  {
   "cell_type": "code",
   "execution_count": null,
   "id": "46f39c75",
   "metadata": {},
   "outputs": [],
   "source": [
    "df_se.to_excel(path_processed+'terbol_clientes_número_ejecutivos_1' + suffix+'.xlsx', index=False)"
   ]
  },
  {
   "cell_type": "code",
   "execution_count": null,
   "id": "17b60416",
   "metadata": {},
   "outputs": [],
   "source": [
    "result = df.groupby('CLIENTE', as_index=False)['VENDEDOR'].nunique()\n",
    "result"
   ]
  },
  {
   "cell_type": "markdown",
   "id": "65e23f8d",
   "metadata": {},
   "source": []
  },
  {
   "cell_type": "code",
   "execution_count": null,
   "id": "9e64a776",
   "metadata": {},
   "outputs": [],
   "source": [
    "df_sucursal_new = df.copy()\n",
    "df_sucursal_new.columns"
   ]
  },
  {
   "cell_type": "code",
   "execution_count": null,
   "id": "f6de3b54",
   "metadata": {},
   "outputs": [],
   "source": [
    "df_sucursal_new = df_sucursal_new[['IDCLI', 'IDSUC.', 'CLIENTE']]"
   ]
  },
  {
   "cell_type": "code",
   "execution_count": null,
   "id": "b6cee6ce",
   "metadata": {},
   "outputs": [],
   "source": [
    "df_sucursal_new['razon_social'] = np.where(\n",
    "    df_sucursal_new['CLIENTE'].str.split(' - ').str[0].str.contains('FARMACIA'),\n",
    "    None, \n",
    "    df_sucursal_new['CLIENTE'].str.split(' - ').str[0]\n",
    ")\n",
    "df_sucursal_new['nombre_comercial'] = np.where(\n",
    "    df_sucursal_new['CLIENTE'].str.split(' - ').str[1].isna(), \n",
    "    np.where(\n",
    "        df_sucursal_new['CLIENTE'].str.split(' - ').str[0].str.contains('FARMACIA'),\n",
    "        df_sucursal_new['CLIENTE'].str.split(' - ').str[0],\n",
    "        None\n",
    "    ),\n",
    "    df_sucursal_new['CLIENTE'].str.split(' - ').str[1]\n",
    ")"
   ]
  },
  {
   "cell_type": "code",
   "execution_count": null,
   "id": "2be91c89",
   "metadata": {},
   "outputs": [],
   "source": [
    "df_sucursal_new['gestion_megalabs'] = False\n",
    "df_sucursal_new['gestion_tecnofarma'] = False\n",
    "df_sucursal_new['created_data'] = pd.Timestamp.now()\n",
    "df_sucursal_new['updated_data'] = pd.Timestamp.now()"
   ]
  },
  {
   "cell_type": "code",
   "execution_count": null,
   "id": "266382b8",
   "metadata": {},
   "outputs": [],
   "source": [
    "df_sucursal_new.columns"
   ]
  },
  {
   "cell_type": "code",
   "execution_count": null,
   "id": "4cfce409",
   "metadata": {},
   "outputs": [],
   "source": [
    "df_sucursal_new.rename(columns={'IDCLI':'cod_cliente', 'IDSUC.':'cod_sucursal'}, inplace=True)"
   ]
  },
  {
   "cell_type": "code",
   "execution_count": null,
   "id": "4005ad6c",
   "metadata": {},
   "outputs": [],
   "source": [
    "df_sucursal_new = df_sucursal_new[['cod_cliente', 'cod_sucursal', 'razon_social', 'nombre_comercial',\n",
    "       'gestion_megalabs', 'gestion_tecnofarma', 'created_data',\n",
    "       'updated_data']]"
   ]
  },
  {
   "cell_type": "code",
   "execution_count": null,
   "id": "0116e762",
   "metadata": {},
   "outputs": [],
   "source": [
    "df_sucursal_new.drop_duplicates(inplace=True)"
   ]
  },
  {
   "cell_type": "code",
   "execution_count": null,
   "id": "9971d513",
   "metadata": {},
   "outputs": [],
   "source": [
    "\n",
    "df_branch = pd.read_csv(path_raw + file_brch + ext_1)\n",
    "df_sucursal_new = df_sucursal_new.merge(df_branch, right_on=['cod_cliente', 'cod_sucursal'], left_on=['cod_cliente', 'cod_sucursal'], how='left', suffixes=('','_b'))\n",
    "df_sucursal_new = df_sucursal_new[df_sucursal_new['id'].isna()]\n"
   ]
  },
  {
   "cell_type": "code",
   "execution_count": null,
   "id": "b6000e9d",
   "metadata": {},
   "outputs": [],
   "source": [
    "df_sucursal_new = df_sucursal_new[['cod_cliente', 'cod_sucursal', 'razon_social', 'nombre_comercial',\n",
    "       'gestion_megalabs', 'gestion_tecnofarma', 'created_data',\n",
    "       'updated_data']]"
   ]
  },
  {
   "cell_type": "code",
   "execution_count": null,
   "id": "dbf26f14",
   "metadata": {},
   "outputs": [],
   "source": [
    "df_sucursal_new.to_csv(path_processed + 'new_sucursales' + suffix + ext_1, index=False)"
   ]
  },
  {
   "cell_type": "markdown",
   "id": "4866dc8f",
   "metadata": {},
   "source": [
    "##\n",
    "##"
   ]
  },
  {
   "cell_type": "code",
   "execution_count": 60,
   "id": "cfcfb584",
   "metadata": {},
   "outputs": [
    {
     "data": {
      "text/plain": [
       "Index(['GERENCIA', 'SUPERVISOR', 'VENDEDOR', 'IDCLI', 'IDSUC.', 'CLIENTE',\n",
       "       'LABORATORIO', 'NUMERO VENDEDOR', 'CORREO ELECTRONICO'],\n",
       "      dtype='object')"
      ]
     },
     "execution_count": 60,
     "metadata": {},
     "output_type": "execute_result"
    }
   ],
   "source": [
    "df_bse = df.copy()\n",
    "df_bse.columns"
   ]
  },
  {
   "cell_type": "code",
   "execution_count": 61,
   "id": "8ac63968",
   "metadata": {},
   "outputs": [],
   "source": [
    "# \n",
    "df_se_id = pd.read_csv(path_raw + file_name_1 + ext_1)\n",
    "df_branch = pd.read_csv(path_raw + file_brch + ext_1)\n"
   ]
  },
  {
   "cell_type": "code",
   "execution_count": 62,
   "id": "30119919",
   "metadata": {},
   "outputs": [
    {
     "data": {
      "text/plain": [
       "Index(['id', 'cod_cliente', 'cod_sucursal', 'nit', 'razon_social',\n",
       "       'nombre_comercial', 'direccion', 'oficina', 'municipio', 'provincia',\n",
       "       'canal', 'gerencia', 'cond_pago_mlb', 'atencion_mlb',\n",
       "       'gestion_megalabs', 'gestion_tecnofarma', 'created_data',\n",
       "       'updated_data'],\n",
       "      dtype='object')"
      ]
     },
     "execution_count": 62,
     "metadata": {},
     "output_type": "execute_result"
    }
   ],
   "source": [
    "df_branch.columns"
   ]
  },
  {
   "cell_type": "code",
   "execution_count": 63,
   "id": "3a1a2e6b",
   "metadata": {},
   "outputs": [
    {
     "data": {
      "text/plain": [
       "(13606, 27)"
      ]
     },
     "execution_count": 63,
     "metadata": {},
     "output_type": "execute_result"
    }
   ],
   "source": [
    "df_bse = df_bse.merge(df_branch, left_on=['IDCLI','IDSUC.'], right_on=['cod_cliente', 'cod_sucursal'], how='left')\n",
    "df_bse.shape"
   ]
  },
  {
   "cell_type": "code",
   "execution_count": 64,
   "id": "e20b2029",
   "metadata": {},
   "outputs": [],
   "source": [
    "# separamos los sucursal terbol que no tiene id \n",
    "df_bse = df_bse[df_bse['id'].notna()]\n"
   ]
  },
  {
   "cell_type": "code",
   "execution_count": 65,
   "id": "f0c7b8e7",
   "metadata": {},
   "outputs": [
    {
     "data": {
      "text/plain": [
       "(13606, 27)"
      ]
     },
     "execution_count": 65,
     "metadata": {},
     "output_type": "execute_result"
    }
   ],
   "source": [
    "df_bse.shape"
   ]
  },
  {
   "cell_type": "code",
   "execution_count": 66,
   "id": "d927f29f",
   "metadata": {},
   "outputs": [],
   "source": [
    "\n",
    "regex_2 = r'\\- EXTERNO'\n",
    "\n",
    "def f_regex(data_str, regex, str_replace=''):\n",
    "    return re.sub(regex, str_replace, data_str, flags=re.IGNORECASE)\n",
    "\n",
    "df_bse['name_cleaned'] = df_bse['VENDEDOR'].apply(lambda x: f_regex(x, regex_2))\n",
    "df_bse['name_cleaned'] = df_bse['name_cleaned'].str.strip()"
   ]
  },
  {
   "cell_type": "code",
   "execution_count": 67,
   "id": "231de911",
   "metadata": {},
   "outputs": [
    {
     "data": {
      "text/plain": [
       "(13606, 38)"
      ]
     },
     "execution_count": 67,
     "metadata": {},
     "output_type": "execute_result"
    }
   ],
   "source": [
    "df_bse = df_bse.merge(df_se_id, left_on='name_cleaned', right_on='name', how='left')\n",
    "df_bse.shape"
   ]
  },
  {
   "cell_type": "code",
   "execution_count": 47,
   "id": "6dbc7ecc",
   "metadata": {},
   "outputs": [
    {
     "data": {
      "text/plain": [
       "Index(['GERENCIA', 'SUPERVISOR', 'VENDEDOR', 'IDCLI', 'IDSUC.', 'CLIENTE',\n",
       "       'LABORATORIO', 'NUMERO VENDEDOR', 'CORREO ELECTRONICO', 'id_x',\n",
       "       'cod_cliente', 'cod_sucursal', 'nit', 'razon_social',\n",
       "       'nombre_comercial', 'direccion', 'oficina', 'municipio', 'provincia',\n",
       "       'canal', 'gerencia', 'cond_pago_mlb', 'atencion_mlb',\n",
       "       'gestion_megalabs', 'gestion_tecnofarma', 'created_data',\n",
       "       'updated_data', 'name_cleaned', 'id_y', 'name', 'phone_number', 'email',\n",
       "       'type', 'sales_manager', 'sales_manager_type', 'sales_manager_office',\n",
       "       'created_date', 'updated_date'],\n",
       "      dtype='object')"
      ]
     },
     "execution_count": 47,
     "metadata": {},
     "output_type": "execute_result"
    }
   ],
   "source": [
    "df_bse.columns"
   ]
  },
  {
   "cell_type": "code",
   "execution_count": 68,
   "id": "92caea20",
   "metadata": {},
   "outputs": [],
   "source": [
    "df_bse['created_data'] = pd.Timestamp.now(tz=\"UTC\")\n",
    "df_bse['updated_data'] = pd.Timestamp.now(tz=\"UTC\")\n",
    "\n",
    "\n",
    "df_bse['created_data'] = df_bse['created_data'].dt.strftime('%d/%m/%Y %H:%M')\n",
    "df_bse['updated_data'] = df_bse['updated_data'].dt.strftime('%d/%m/%Y %H:%M')"
   ]
  },
  {
   "cell_type": "code",
   "execution_count": null,
   "id": "36552abf",
   "metadata": {},
   "outputs": [],
   "source": [
    "df_bse.info()"
   ]
  },
  {
   "cell_type": "code",
   "execution_count": 69,
   "id": "3265944a",
   "metadata": {},
   "outputs": [],
   "source": [
    "\n",
    "df_bse.rename(columns={'id_x': 'terbol_sucursal', 'id_y': 'sales_executive', 'cod_sucursal':'branch_cod', 'LABORATORIO': 'laboratory_name'}, inplace=True)"
   ]
  },
  {
   "cell_type": "code",
   "execution_count": 70,
   "id": "996b010d",
   "metadata": {},
   "outputs": [],
   "source": [
    "df_bse = df_bse[['branch_cod', 'laboratory_name', 'created_data', 'updated_data', 'sales_executive', 'terbol_sucursal']]"
   ]
  },
  {
   "cell_type": "code",
   "execution_count": 72,
   "id": "4ac4f3e6",
   "metadata": {},
   "outputs": [],
   "source": [
    "df_bse['terbol_sucursal'] = df_bse['terbol_sucursal'].astype(int)\n",
    "df_bse['sales_executive'] = df_bse['sales_executive'].astype(int) \n",
    "df_bse['branch_cod'] = df_bse['branch_cod'].astype(int) "
   ]
  },
  {
   "cell_type": "code",
   "execution_count": 73,
   "id": "d7d2c135",
   "metadata": {},
   "outputs": [
    {
     "data": {
      "application/vnd.microsoft.datawrangler.viewer.v0+json": {
       "columns": [
        {
         "name": "index",
         "rawType": "int64",
         "type": "integer"
        },
        {
         "name": "branch_cod",
         "rawType": "int64",
         "type": "integer"
        },
        {
         "name": "laboratory_name",
         "rawType": "object",
         "type": "string"
        },
        {
         "name": "created_data",
         "rawType": "object",
         "type": "string"
        },
        {
         "name": "updated_data",
         "rawType": "object",
         "type": "string"
        },
        {
         "name": "sales_executive",
         "rawType": "int64",
         "type": "integer"
        },
        {
         "name": "terbol_sucursal",
         "rawType": "int64",
         "type": "integer"
        }
       ],
       "ref": "7a06a666-e733-4605-bec1-6401165e00f0",
       "rows": [
        [
         "0",
         "100004110",
         "MEGALABS",
         "10/06/2025 13:38",
         "10/06/2025 13:38",
         "65",
         "9823"
        ]
       ],
       "shape": {
        "columns": 6,
        "rows": 1
       }
      },
      "text/html": [
       "<div>\n",
       "<style scoped>\n",
       "    .dataframe tbody tr th:only-of-type {\n",
       "        vertical-align: middle;\n",
       "    }\n",
       "\n",
       "    .dataframe tbody tr th {\n",
       "        vertical-align: top;\n",
       "    }\n",
       "\n",
       "    .dataframe thead th {\n",
       "        text-align: right;\n",
       "    }\n",
       "</style>\n",
       "<table border=\"1\" class=\"dataframe\">\n",
       "  <thead>\n",
       "    <tr style=\"text-align: right;\">\n",
       "      <th></th>\n",
       "      <th>branch_cod</th>\n",
       "      <th>laboratory_name</th>\n",
       "      <th>created_data</th>\n",
       "      <th>updated_data</th>\n",
       "      <th>sales_executive</th>\n",
       "      <th>terbol_sucursal</th>\n",
       "    </tr>\n",
       "  </thead>\n",
       "  <tbody>\n",
       "    <tr>\n",
       "      <th>0</th>\n",
       "      <td>100004110</td>\n",
       "      <td>MEGALABS</td>\n",
       "      <td>10/06/2025 13:38</td>\n",
       "      <td>10/06/2025 13:38</td>\n",
       "      <td>65</td>\n",
       "      <td>9823</td>\n",
       "    </tr>\n",
       "  </tbody>\n",
       "</table>\n",
       "</div>"
      ],
      "text/plain": [
       "   branch_cod laboratory_name      created_data      updated_data  \\\n",
       "0   100004110        MEGALABS  10/06/2025 13:38  10/06/2025 13:38   \n",
       "\n",
       "   sales_executive  terbol_sucursal  \n",
       "0               65             9823  "
      ]
     },
     "execution_count": 73,
     "metadata": {},
     "output_type": "execute_result"
    }
   ],
   "source": [
    "df_bse_1 = df_bse[:1]\n",
    "df_bse_1"
   ]
  },
  {
   "cell_type": "code",
   "execution_count": 75,
   "id": "feba73e1",
   "metadata": {},
   "outputs": [],
   "source": [
    "df_bse.to_excel(path_processed + 'new_branch_sucursales_prod' + suffix + ext, index=False)\n",
    "\n",
    "# df_bse_1.to_csv(path_processed + 'new_branch_sucursales_prod' + suffix + ext_1, index=False)"
   ]
  },
  {
   "cell_type": "code",
   "execution_count": null,
   "id": "e684f838",
   "metadata": {},
   "outputs": [],
   "source": [
    "result = result[result['VENDEDOR']>1]\n",
    "result"
   ]
  },
  {
   "cell_type": "code",
   "execution_count": null,
   "id": "a9151160",
   "metadata": {},
   "outputs": [],
   "source": [
    "# Un Id sucursal no tiene mas de un cliente\n",
    "result = df.groupby('IDSUC.', as_index=False)['CLIENTE'].nunique()\n",
    "result = result[result['CLIENTE']>1]\n",
    "result"
   ]
  },
  {
   "cell_type": "code",
   "execution_count": null,
   "id": "6adfa5bd",
   "metadata": {},
   "outputs": [],
   "source": [
    "# No existe sucursal lab asignado mas de un vendedor\n",
    "result = df.groupby(['IDSUC.', 'LABORATORIO'], as_index=False)['VENDEDOR'].nunique()\n",
    "result = result[result['VENDEDOR']>1]\n",
    "result"
   ]
  },
  {
   "cell_type": "code",
   "execution_count": null,
   "id": "b75db2b3",
   "metadata": {},
   "outputs": [],
   "source": [
    "# No existe sucursal lab asignado mas de un vendedor\n",
    "result = df.groupby(['VENDEDOR', 'LABORATORIO'], as_index=False).nunique()\n",
    "# result = result[result['VENDEDOR']>1]\n",
    "result"
   ]
  },
  {
   "cell_type": "code",
   "execution_count": null,
   "id": "538b9b47",
   "metadata": {},
   "outputs": [],
   "source": []
  }
 ],
 "metadata": {
  "kernelspec": {
   "display_name": "b4d_analytics-Yg60_lpz",
   "language": "python",
   "name": "python3"
  },
  "language_info": {
   "codemirror_mode": {
    "name": "ipython",
    "version": 3
   },
   "file_extension": ".py",
   "mimetype": "text/x-python",
   "name": "python",
   "nbconvert_exporter": "python",
   "pygments_lexer": "ipython3",
   "version": "3.13.0"
  }
 },
 "nbformat": 4,
 "nbformat_minor": 5
}
