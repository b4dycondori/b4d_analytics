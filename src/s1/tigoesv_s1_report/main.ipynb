{
 "cells": [
  {
   "cell_type": "code",
   "execution_count": null,
   "metadata": {},
   "outputs": [
    {
     "data": {
      "text/plain": [
       "Index(['Fecha Programada ', 'Difusión '], dtype='object')"
      ]
     },
     "execution_count": 1,
     "metadata": {},
     "output_type": "execute_result"
    }
   ],
   "source": [
    "import re\n",
    "import pandas as pd\n",
    "import numpy as np\n",
    "\n",
    "cols_dif = ['Fecha Programada ', 'Difusión ']\n",
    "df_dif = pd.read_csv(r'C:\\Users\\Usuario\\Documents\\b4d\\tigo\\esv\\tigo_esv\\data\\difusiones.csv', usecols = cols_dif)\n",
    "\n",
    "df_dif.columns"
   ]
  },
  {
   "cell_type": "code",
   "execution_count": 2,
   "metadata": {},
   "outputs": [
    {
     "data": {
      "text/plain": [
       "Index(['scheduled_date', 'difusion_name'], dtype='object')"
      ]
     },
     "execution_count": 2,
     "metadata": {},
     "output_type": "execute_result"
    }
   ],
   "source": [
    "# rename columns\n",
    "df_dif.rename(columns={'Fecha Programada ': 'scheduled_date', 'Difusión ': 'difusion_name'}, inplace=True)\n",
    "df_dif.columns"
   ]
  },
  {
   "cell_type": "code",
   "execution_count": 3,
   "metadata": {},
   "outputs": [
    {
     "data": {
      "text/plain": [
       "Index(['scheduled_date', 'difusion_name', 'difusion_name_base'], dtype='object')"
      ]
     },
     "execution_count": 3,
     "metadata": {},
     "output_type": "execute_result"
    }
   ],
   "source": [
    "\n",
    "def f_classification_difussions(data_str):\n",
    "    match data_str:\n",
    "        case \"Primer envio de Producci'on\":\n",
    "            return \"Primera Base\"\n",
    "        case \"Base II - Tigo EV\" | \"Base II - Tigo EV Envio 2\" | \"Base II - Tigo EV - Envio 3\":\n",
    "            return \"Segunda Base 120824 1200\"\n",
    "        case \"BASE III - Envio 1 AM\" | \"BASE III - Envio 2 AM\" | \"BASE III - Envio 3 - pm\" | \"BASE III - Envio 4 AM\":\n",
    "            return \"Tercera base\"\n",
    "        case \"Enivo III - Producción\" | \"Envio III - Producción AM\" | \"Envio III - Envio AM 2\" | \"Prueba IV\":\n",
    "            return \"Fijo Personas Natural\"\n",
    "        case \"Envio 6 | Natural Fijo\":\n",
    "            return \"Natural Juridico 141024\"\n",
    "        case \"difusiones prueba cambio plan natural movil\" | \"RE: difusion_tigoev_natural_movil_prueba_281124\" | \"difusion pruebas tigo ev redireccion\":\n",
    "            return \"Cambio Plan Movil 051224\"\n",
    "        case \"difusion_1230_lote1\" | \"difusion_movil_1230_lote2\" | \"difusion_movil_1230_lote3\" | \"difusion_movil_1230_lote4\" | \"difusion_movil_1230_lote5\":\n",
    "            return \"Base 210125 1230\"\n",
    "        case \"difusion_grupo_1700_lote1\" | \"difusion_1700_movil_lote2\" | \"difusion_1700_movil_lote3\" | \"difusion_1700_movil_lote4\" | \"difusion_lote_1700_lote5\":\n",
    "            return \"Base 210125 1700\"\n",
    "        case _:\n",
    "            return 'Pruebas'\n",
    "\n",
    "\n",
    "df_dif['difusion_name_base'] = df_dif['difusion_name'].apply(lambda x: f_classification_difussions(x))\n",
    "df_dif.columns"
   ]
  },
  {
   "cell_type": "code",
   "execution_count": 4,
   "metadata": {},
   "outputs": [
    {
     "data": {
      "text/plain": [
       "(1817, 3)"
      ]
     },
     "execution_count": 4,
     "metadata": {},
     "output_type": "execute_result"
    }
   ],
   "source": [
    "# \n",
    "df_dif['scheduled_date'] = df_dif.groupby(['difusion_name_base'])['scheduled_date'].transform('first')\n",
    "df_dif.shape"
   ]
  },
  {
   "cell_type": "code",
   "execution_count": 5,
   "metadata": {},
   "outputs": [
    {
     "data": {
      "text/plain": [
       "(40, 3)"
      ]
     },
     "execution_count": 5,
     "metadata": {},
     "output_type": "execute_result"
    }
   ],
   "source": [
    "df_dif = df_dif.drop_duplicates()\n",
    "df_dif.shape"
   ]
  },
  {
   "cell_type": "markdown",
   "metadata": {},
   "source": [
    "### Difusiones unicas"
   ]
  },
  {
   "cell_type": "code",
   "execution_count": 6,
   "metadata": {},
   "outputs": [
    {
     "data": {
      "text/plain": [
       "Index(['scheduled_date', 'difusion_name_base'], dtype='object')"
      ]
     },
     "execution_count": 6,
     "metadata": {},
     "output_type": "execute_result"
    }
   ],
   "source": [
    "# drop difusion name column  \n",
    "df_dif_unq = df_dif.drop(columns=['difusion_name'])\n",
    "df_dif_unq.columns"
   ]
  },
  {
   "cell_type": "code",
   "execution_count": 7,
   "metadata": {},
   "outputs": [
    {
     "data": {
      "text/plain": [
       "(9, 2)"
      ]
     },
     "execution_count": 7,
     "metadata": {},
     "output_type": "execute_result"
    }
   ],
   "source": [
    "# drop duplicates\n",
    "df_dif_unq.drop_duplicates(inplace=True)\n",
    "df_dif_unq.shape"
   ]
  },
  {
   "cell_type": "code",
   "execution_count": 8,
   "metadata": {},
   "outputs": [],
   "source": [
    "# change type data scheduled_date\n",
    "df_dif_unq['scheduled_date'] = pd.to_datetime(df_dif_unq['scheduled_date'])\n",
    "df_dif_unq['date'] = df_dif_unq['scheduled_date'].dt.date\n",
    "df_dif_unq['hour'] = df_dif_unq['scheduled_date'].dt.hour\n",
    "df_dif_unq['minute'] = df_dif_unq['scheduled_date'].dt.minute"
   ]
  },
  {
   "cell_type": "code",
   "execution_count": 9,
   "metadata": {},
   "outputs": [
    {
     "data": {
      "text/plain": [
       "(9, 5)"
      ]
     },
     "execution_count": 9,
     "metadata": {},
     "output_type": "execute_result"
    }
   ],
   "source": [
    "# relocation difusion\n",
    "df_difusion_unq = df_dif_unq[['difusion_name_base', 'scheduled_date', 'date', 'hour', 'minute']]\n",
    "df_difusion_unq.shape"
   ]
  },
  {
   "cell_type": "code",
   "execution_count": 10,
   "metadata": {},
   "outputs": [
    {
     "data": {
      "application/vnd.microsoft.datawrangler.viewer.v0+json": {
       "columns": [
        {
         "name": "index",
         "rawType": "int64",
         "type": "integer"
        },
        {
         "name": "difusion_name_base",
         "rawType": "object",
         "type": "string"
        },
        {
         "name": "scheduled_date",
         "rawType": "datetime64[ns]",
         "type": "datetime"
        },
        {
         "name": "date",
         "rawType": "object",
         "type": "unknown"
        },
        {
         "name": "hour",
         "rawType": "int32",
         "type": "integer"
        },
        {
         "name": "minute",
         "rawType": "int32",
         "type": "integer"
        }
       ],
       "conversionMethod": "pd.DataFrame",
       "ref": "7532126c-d027-4b14-bd3a-bc3446cab9e5",
       "rows": [
        [
         "0",
         "Pruebas",
         "2024-07-04 13:33:00",
         "2024-07-04",
         "13",
         "33"
        ],
        [
         "16",
         "Primera Base",
         "2024-07-15 08:28:01",
         "2024-07-15",
         "8",
         "28"
        ],
        [
         "101",
         "Segunda Base 120824 1200",
         "2024-08-12 10:00:00",
         "2024-08-12",
         "10",
         "0"
        ]
       ],
       "shape": {
        "columns": 5,
        "rows": 3
       }
      },
      "text/html": [
       "<div>\n",
       "<style scoped>\n",
       "    .dataframe tbody tr th:only-of-type {\n",
       "        vertical-align: middle;\n",
       "    }\n",
       "\n",
       "    .dataframe tbody tr th {\n",
       "        vertical-align: top;\n",
       "    }\n",
       "\n",
       "    .dataframe thead th {\n",
       "        text-align: right;\n",
       "    }\n",
       "</style>\n",
       "<table border=\"1\" class=\"dataframe\">\n",
       "  <thead>\n",
       "    <tr style=\"text-align: right;\">\n",
       "      <th></th>\n",
       "      <th>difusion_name_base</th>\n",
       "      <th>scheduled_date</th>\n",
       "      <th>date</th>\n",
       "      <th>hour</th>\n",
       "      <th>minute</th>\n",
       "    </tr>\n",
       "  </thead>\n",
       "  <tbody>\n",
       "    <tr>\n",
       "      <th>0</th>\n",
       "      <td>Pruebas</td>\n",
       "      <td>2024-07-04 13:33:00</td>\n",
       "      <td>2024-07-04</td>\n",
       "      <td>13</td>\n",
       "      <td>33</td>\n",
       "    </tr>\n",
       "    <tr>\n",
       "      <th>16</th>\n",
       "      <td>Primera Base</td>\n",
       "      <td>2024-07-15 08:28:01</td>\n",
       "      <td>2024-07-15</td>\n",
       "      <td>8</td>\n",
       "      <td>28</td>\n",
       "    </tr>\n",
       "    <tr>\n",
       "      <th>101</th>\n",
       "      <td>Segunda Base 120824 1200</td>\n",
       "      <td>2024-08-12 10:00:00</td>\n",
       "      <td>2024-08-12</td>\n",
       "      <td>10</td>\n",
       "      <td>0</td>\n",
       "    </tr>\n",
       "  </tbody>\n",
       "</table>\n",
       "</div>"
      ],
      "text/plain": [
       "           difusion_name_base      scheduled_date        date  hour  minute\n",
       "0                     Pruebas 2024-07-04 13:33:00  2024-07-04    13      33\n",
       "16               Primera Base 2024-07-15 08:28:01  2024-07-15     8      28\n",
       "101  Segunda Base 120824 1200 2024-08-12 10:00:00  2024-08-12    10       0"
      ]
     },
     "execution_count": 10,
     "metadata": {},
     "output_type": "execute_result"
    }
   ],
   "source": [
    "df_difusion_unq.head(3)"
   ]
  },
  {
   "cell_type": "code",
   "execution_count": null,
   "metadata": {},
   "outputs": [],
   "source": [
    "# export to csv to load table"
   ]
  },
  {
   "cell_type": "markdown",
   "metadata": {},
   "source": [
    "# Associated difusion with caso id"
   ]
  },
  {
   "cell_type": "code",
   "execution_count": 11,
   "metadata": {},
   "outputs": [],
   "source": [
    "# difusiones con casos id\n",
    "cols_dif_caso = ['Difusión ', 'Caso ID ', 'Código de Error ', 'Mensaje de Error ', 'Parámetros Extra ']\n",
    "df_dif_caso = pd.read_csv(r'C:\\Users\\Usuario\\Documents\\b4d\\tigo\\esv\\tigo_esv\\data\\difusiones.csv', usecols = cols_dif_caso)"
   ]
  },
  {
   "cell_type": "code",
   "execution_count": 12,
   "metadata": {},
   "outputs": [
    {
     "data": {
      "text/plain": [
       "Index(['difusion_name', 'caso_id', 'error_code', 'error_msg', 'params_extra'], dtype='object')"
      ]
     },
     "execution_count": 12,
     "metadata": {},
     "output_type": "execute_result"
    }
   ],
   "source": [
    "# rename columns\n",
    "df_dif_caso.rename(columns={'Difusión ': 'difusion_name', 'Caso ID ': 'caso_id', 'Código de Error ': 'error_code', 'Mensaje de Error ': 'error_msg', 'Parámetros Extra ': 'params_extra'}, inplace=True)\n",
    "df_dif_caso.columns"
   ]
  },
  {
   "cell_type": "code",
   "execution_count": 13,
   "metadata": {},
   "outputs": [
    {
     "data": {
      "text/plain": [
       "Index(['difusion_name', 'caso_id', 'error_code', 'error_msg', 'params_extra',\n",
       "       'scheduled_date', 'difusion_name_base'],\n",
       "      dtype='object')"
      ]
     },
     "execution_count": 13,
     "metadata": {},
     "output_type": "execute_result"
    }
   ],
   "source": [
    "# merge difusiones unicos y casos, para crear difusion base\n",
    "df_difusion_base = df_dif_caso.merge(df_dif, on='difusion_name', how='inner')\n",
    "df_difusion_base.columns"
   ]
  },
  {
   "cell_type": "code",
   "execution_count": 14,
   "metadata": {},
   "outputs": [
    {
     "data": {
      "text/plain": [
       "Index(['difusion_name', 'difusion_name_base', 'caso_id', 'scheduled_date',\n",
       "       'error_code', 'error_msg', 'params_extra'],\n",
       "      dtype='object')"
      ]
     },
     "execution_count": 14,
     "metadata": {},
     "output_type": "execute_result"
    }
   ],
   "source": [
    "df_difusion_base = df_difusion_base[['difusion_name', 'difusion_name_base', 'caso_id', 'scheduled_date','error_code', 'error_msg', 'params_extra']]\n",
    "df_difusion_base.columns"
   ]
  },
  {
   "cell_type": "code",
   "execution_count": 15,
   "metadata": {},
   "outputs": [
    {
     "data": {
      "text/plain": [
       "(1817, 7)"
      ]
     },
     "execution_count": 15,
     "metadata": {},
     "output_type": "execute_result"
    }
   ],
   "source": [
    "df_difusion_base.shape"
   ]
  },
  {
   "cell_type": "code",
   "execution_count": 16,
   "metadata": {},
   "outputs": [
    {
     "data": {
      "application/vnd.microsoft.datawrangler.viewer.v0+json": {
       "columns": [
        {
         "name": "index",
         "rawType": "int64",
         "type": "integer"
        },
        {
         "name": "difusion_name",
         "rawType": "object",
         "type": "string"
        },
        {
         "name": "difusion_name_base",
         "rawType": "object",
         "type": "string"
        },
        {
         "name": "caso_id",
         "rawType": "int64",
         "type": "integer"
        },
        {
         "name": "scheduled_date",
         "rawType": "object",
         "type": "string"
        },
        {
         "name": "error_code",
         "rawType": "int64",
         "type": "integer"
        },
        {
         "name": "error_msg",
         "rawType": "object",
         "type": "unknown"
        },
        {
         "name": "params_extra",
         "rawType": "object",
         "type": "string"
        }
       ],
       "conversionMethod": "pd.DataFrame",
       "ref": "fcbb09a1-3f15-4b9c-9ed4-76bd82e6f56f",
       "rows": [
        [
         "0",
         "Nicolas Martinez - B4D",
         "Pruebas",
         "7008182",
         "2024-07-04 13:33:00",
         "0",
         null,
         "{\"first_name\":\"Nicolas\",\"last_name\":\"Martinez\",\"extra_param_1\":\"Nicolas Martinez\"}"
        ],
        [
         "1",
         "Prueba Melvin",
         "Pruebas",
         "7008183",
         "2024-07-04 13:33:00",
         "0",
         null,
         "{\"first_name\":\"Melvin\",\"last_name\":\"Velasquez\",\"extra_param_1\":\"Melvin\"}"
        ],
        [
         "2",
         "RE: Prueba Melvin",
         "Pruebas",
         "7008184",
         "2024-07-04 13:33:00",
         "0",
         null,
         "{\"first_name\":\"Melvin\",\"last_name\":\"Velasquez\",\"extra_param_1\":\"Melvin\"}"
        ]
       ],
       "shape": {
        "columns": 7,
        "rows": 3
       }
      },
      "text/html": [
       "<div>\n",
       "<style scoped>\n",
       "    .dataframe tbody tr th:only-of-type {\n",
       "        vertical-align: middle;\n",
       "    }\n",
       "\n",
       "    .dataframe tbody tr th {\n",
       "        vertical-align: top;\n",
       "    }\n",
       "\n",
       "    .dataframe thead th {\n",
       "        text-align: right;\n",
       "    }\n",
       "</style>\n",
       "<table border=\"1\" class=\"dataframe\">\n",
       "  <thead>\n",
       "    <tr style=\"text-align: right;\">\n",
       "      <th></th>\n",
       "      <th>difusion_name</th>\n",
       "      <th>difusion_name_base</th>\n",
       "      <th>caso_id</th>\n",
       "      <th>scheduled_date</th>\n",
       "      <th>error_code</th>\n",
       "      <th>error_msg</th>\n",
       "      <th>params_extra</th>\n",
       "    </tr>\n",
       "  </thead>\n",
       "  <tbody>\n",
       "    <tr>\n",
       "      <th>0</th>\n",
       "      <td>Nicolas Martinez - B4D</td>\n",
       "      <td>Pruebas</td>\n",
       "      <td>7008182</td>\n",
       "      <td>2024-07-04 13:33:00</td>\n",
       "      <td>0</td>\n",
       "      <td>NaN</td>\n",
       "      <td>{\"first_name\":\"Nicolas\",\"last_name\":\"Martinez\"...</td>\n",
       "    </tr>\n",
       "    <tr>\n",
       "      <th>1</th>\n",
       "      <td>Prueba Melvin</td>\n",
       "      <td>Pruebas</td>\n",
       "      <td>7008183</td>\n",
       "      <td>2024-07-04 13:33:00</td>\n",
       "      <td>0</td>\n",
       "      <td>NaN</td>\n",
       "      <td>{\"first_name\":\"Melvin\",\"last_name\":\"Velasquez\"...</td>\n",
       "    </tr>\n",
       "    <tr>\n",
       "      <th>2</th>\n",
       "      <td>RE: Prueba Melvin</td>\n",
       "      <td>Pruebas</td>\n",
       "      <td>7008184</td>\n",
       "      <td>2024-07-04 13:33:00</td>\n",
       "      <td>0</td>\n",
       "      <td>NaN</td>\n",
       "      <td>{\"first_name\":\"Melvin\",\"last_name\":\"Velasquez\"...</td>\n",
       "    </tr>\n",
       "  </tbody>\n",
       "</table>\n",
       "</div>"
      ],
      "text/plain": [
       "            difusion_name difusion_name_base  caso_id       scheduled_date  \\\n",
       "0  Nicolas Martinez - B4D            Pruebas  7008182  2024-07-04 13:33:00   \n",
       "1           Prueba Melvin            Pruebas  7008183  2024-07-04 13:33:00   \n",
       "2       RE: Prueba Melvin            Pruebas  7008184  2024-07-04 13:33:00   \n",
       "\n",
       "   error_code error_msg                                       params_extra  \n",
       "0           0       NaN  {\"first_name\":\"Nicolas\",\"last_name\":\"Martinez\"...  \n",
       "1           0       NaN  {\"first_name\":\"Melvin\",\"last_name\":\"Velasquez\"...  \n",
       "2           0       NaN  {\"first_name\":\"Melvin\",\"last_name\":\"Velasquez\"...  "
      ]
     },
     "execution_count": 16,
     "metadata": {},
     "output_type": "execute_result"
    }
   ],
   "source": [
    "df_difusion_base.head(3)"
   ]
  },
  {
   "cell_type": "markdown",
   "metadata": {},
   "source": [
    "# Associated with messages"
   ]
  },
  {
   "cell_type": "code",
   "execution_count": 17,
   "metadata": {},
   "outputs": [
    {
     "data": {
      "text/plain": [
       "(4460, 18)"
      ]
     },
     "execution_count": 17,
     "metadata": {},
     "output_type": "execute_result"
    }
   ],
   "source": [
    "# Initialize\n",
    "#cols_msg = ['Fecha ','Tipo Mensaje', 'Asunto ','Grupo ', 'Contenido ', 'Caso ID ']\n",
    "\n",
    "df_msg = pd.read_csv(r'C:\\Users\\Usuario\\Documents\\b4d\\tigo\\esv\\tigo_esv\\data\\message.csv')\n",
    "df_msg.shape"
   ]
  },
  {
   "cell_type": "code",
   "execution_count": 18,
   "metadata": {},
   "outputs": [
    {
     "data": {
      "text/plain": [
       "Index(['Fecha ', 'Canal ', 'Tipo Mensaje', 'Tipo Contenido', 'Asunto ',\n",
       "       'Contenido ', 'Desde Cuenta ', 'Desde Contacto ', 'A Cuenta ',\n",
       "       'A Contacto ', 'Caso ID ', 'Campaña ', 'Grupo ', 'Usuario ', 'Agente ',\n",
       "       'RT ', 'Externo ID ', 'Externo ID (origen) '],\n",
       "      dtype='object')"
      ]
     },
     "execution_count": 18,
     "metadata": {},
     "output_type": "execute_result"
    }
   ],
   "source": [
    "df_msg.columns"
   ]
  },
  {
   "cell_type": "code",
   "execution_count": 19,
   "metadata": {},
   "outputs": [
    {
     "data": {
      "text/plain": [
       "Index(['msg_datetime', 'Canal ', 'msg_tp', 'Tipo Contenido', 'msg_subject ',\n",
       "       'msg_content', 'from_acc', 'Desde Contacto ', 'to_acc', 'A Contacto ',\n",
       "       'caso_id', 'Campaña ', 'msg_group', 'Usuario ', 'Agente ', 'RT ',\n",
       "       'Externo ID ', 'Externo ID (origen) '],\n",
       "      dtype='object')"
      ]
     },
     "execution_count": 19,
     "metadata": {},
     "output_type": "execute_result"
    }
   ],
   "source": [
    "# rename columns\n",
    "df_msg.rename(columns={'Fecha ': 'msg_datetime', 'Tipo Mensaje': 'msg_tp', 'Asunto ': 'msg_subject ', 'Contenido ': 'msg_content', 'Caso ID ': 'caso_id', 'Grupo ': 'msg_group', 'Desde Cuenta ': 'from_acc',\n",
    "                       'A Cuenta ': 'to_acc'}, inplace=True)\n",
    "df_msg.columns"
   ]
  },
  {
   "cell_type": "code",
   "execution_count": 20,
   "metadata": {},
   "outputs": [
    {
     "data": {
      "text/plain": [
       "(4460, 10)"
      ]
     },
     "execution_count": 20,
     "metadata": {},
     "output_type": "execute_result"
    }
   ],
   "source": [
    "# only difusion message\n",
    "df_msg = df_msg.merge(df_difusion_base, how='left', on='caso_id')[['difusion_name_base', 'msg_datetime', 'msg_tp', 'msg_subject ', 'msg_content', 'caso_id', 'msg_group', 'error_msg' ,'from_acc', 'to_acc']]\n",
    "df_msg.shape"
   ]
  },
  {
   "cell_type": "code",
   "execution_count": 21,
   "metadata": {},
   "outputs": [
    {
     "data": {
      "text/plain": [
       "Index(['difusion_name_base', 'msg_datetime', 'msg_tp', 'msg_subject ',\n",
       "       'msg_content', 'caso_id', 'msg_group', 'error_msg', 'from_acc',\n",
       "       'to_acc'],\n",
       "      dtype='object')"
      ]
     },
     "execution_count": 21,
     "metadata": {},
     "output_type": "execute_result"
    }
   ],
   "source": [
    "df_msg.columns"
   ]
  },
  {
   "cell_type": "code",
   "execution_count": 22,
   "metadata": {},
   "outputs": [
    {
     "data": {
      "text/plain": [
       "(4460, 11)"
      ]
     },
     "execution_count": 22,
     "metadata": {},
     "output_type": "execute_result"
    }
   ],
   "source": [
    "# change datatype\n",
    "df_msg['msg_datetime'] = pd.to_datetime(df_msg['msg_datetime'])\n",
    "\n",
    "df_msg['msg_date'] = df_msg['msg_datetime'].dt.date\n",
    "\n",
    "# filtramos solo difusiones\n",
    "# Ya no filtramos por que si un usuario responde despues del tiempo configurado, se cuenta como un nuevo caso\n",
    "#df_msg = df_msg[df_msg['msg_group']=='Bot Anfitrion']\n",
    "\n",
    "df_msg.shape"
   ]
  },
  {
   "cell_type": "code",
   "execution_count": 23,
   "metadata": {},
   "outputs": [
    {
     "data": {
      "text/plain": [
       "(4451, 11)"
      ]
     },
     "execution_count": 23,
     "metadata": {},
     "output_type": "execute_result"
    }
   ],
   "source": [
    "\n",
    "# filtramos solo salientes\n",
    "#df_msg = df_msg[df_msg['msg_tp']=='Saliente']\n",
    "\n",
    "# Quitando la columna contenidos null\n",
    "df_msg = df_msg[df_msg['msg_content'].notna()]\n",
    "\n",
    "# change datatype \n",
    "df_msg['error_msg'] = df_msg['error_msg'].astype(str)\n",
    "\n",
    "# change datatype\n",
    "df_msg['msg_content'] = df_msg['msg_content'].astype(str)\n",
    "\n",
    "df_msg.shape"
   ]
  },
  {
   "cell_type": "code",
   "execution_count": 24,
   "metadata": {},
   "outputs": [
    {
     "data": {
      "text/plain": [
       "(4451, 12)"
      ]
     },
     "execution_count": 24,
     "metadata": {},
     "output_type": "execute_result"
    }
   ],
   "source": [
    "\n",
    "# poblar new column to get customer number\n",
    "df_msg['cstmr_nmbr'] = np.where(df_msg['msg_tp'] == 'Entrante', df_msg['from_acc'], df_msg['to_acc'])\n",
    "df_msg.shape"
   ]
  },
  {
   "cell_type": "code",
   "execution_count": 25,
   "metadata": {},
   "outputs": [
    {
     "data": {
      "application/vnd.microsoft.datawrangler.viewer.v0+json": {
       "columns": [
        {
         "name": "index",
         "rawType": "int64",
         "type": "integer"
        },
        {
         "name": "difusion_name_base",
         "rawType": "object",
         "type": "unknown"
        },
        {
         "name": "msg_datetime",
         "rawType": "datetime64[ns]",
         "type": "datetime"
        },
        {
         "name": "msg_tp",
         "rawType": "object",
         "type": "string"
        },
        {
         "name": "msg_subject ",
         "rawType": "object",
         "type": "string"
        },
        {
         "name": "msg_content",
         "rawType": "object",
         "type": "string"
        },
        {
         "name": "caso_id",
         "rawType": "int64",
         "type": "integer"
        },
        {
         "name": "msg_group",
         "rawType": "object",
         "type": "string"
        },
        {
         "name": "error_msg",
         "rawType": "object",
         "type": "string"
        },
        {
         "name": "from_acc",
         "rawType": "object",
         "type": "string"
        },
        {
         "name": "to_acc",
         "rawType": "object",
         "type": "string"
        },
        {
         "name": "msg_date",
         "rawType": "object",
         "type": "unknown"
        },
        {
         "name": "cstmr_nmbr",
         "rawType": "object",
         "type": "string"
        }
       ],
       "conversionMethod": "pd.DataFrame",
       "ref": "df182991-e6a3-45d2-8039-d85f1a07f425",
       "rows": [
        [
         "4455",
         null,
         "2025-02-10 12:26:04",
         "Entrante",
         "Hola buen día",
         "Hola buen día",
         "7010045",
         "Inbox Tigo SV",
         "nan",
         "50360178359",
         "f3fffb210f29649ae4ae76abe92d90fff3545f40",
         "2025-02-10",
         "50360178359"
        ],
        [
         "4456",
         null,
         "2025-02-10 12:26:27",
         "Entrante",
         "Necesito ayuda  con mi linea",
         "Necesito ayuda  con mi linea",
         "7010045",
         "Inbox Tigo SV",
         "nan",
         "50360178359",
         "f3fffb210f29649ae4ae76abe92d90fff3545f40",
         "2025-02-10",
         "50360178359"
        ],
        [
         "4459",
         null,
         "2025-02-17 13:27:54",
         "Entrante",
         "Buen día",
         "Buen día",
         "7010046",
         "Inbox Tigo SV",
         "nan",
         "50372409987",
         "f3fffb210f29649ae4ae76abe92d90fff3545f40",
         "2025-02-17",
         "50372409987"
        ]
       ],
       "shape": {
        "columns": 12,
        "rows": 3
       }
      },
      "text/html": [
       "<div>\n",
       "<style scoped>\n",
       "    .dataframe tbody tr th:only-of-type {\n",
       "        vertical-align: middle;\n",
       "    }\n",
       "\n",
       "    .dataframe tbody tr th {\n",
       "        vertical-align: top;\n",
       "    }\n",
       "\n",
       "    .dataframe thead th {\n",
       "        text-align: right;\n",
       "    }\n",
       "</style>\n",
       "<table border=\"1\" class=\"dataframe\">\n",
       "  <thead>\n",
       "    <tr style=\"text-align: right;\">\n",
       "      <th></th>\n",
       "      <th>difusion_name_base</th>\n",
       "      <th>msg_datetime</th>\n",
       "      <th>msg_tp</th>\n",
       "      <th>msg_subject</th>\n",
       "      <th>msg_content</th>\n",
       "      <th>caso_id</th>\n",
       "      <th>msg_group</th>\n",
       "      <th>error_msg</th>\n",
       "      <th>from_acc</th>\n",
       "      <th>to_acc</th>\n",
       "      <th>msg_date</th>\n",
       "      <th>cstmr_nmbr</th>\n",
       "    </tr>\n",
       "  </thead>\n",
       "  <tbody>\n",
       "    <tr>\n",
       "      <th>4455</th>\n",
       "      <td>NaN</td>\n",
       "      <td>2025-02-10 12:26:04</td>\n",
       "      <td>Entrante</td>\n",
       "      <td>Hola buen día</td>\n",
       "      <td>Hola buen día</td>\n",
       "      <td>7010045</td>\n",
       "      <td>Inbox Tigo SV</td>\n",
       "      <td>nan</td>\n",
       "      <td>50360178359</td>\n",
       "      <td>f3fffb210f29649ae4ae76abe92d90fff3545f40</td>\n",
       "      <td>2025-02-10</td>\n",
       "      <td>50360178359</td>\n",
       "    </tr>\n",
       "    <tr>\n",
       "      <th>4456</th>\n",
       "      <td>NaN</td>\n",
       "      <td>2025-02-10 12:26:27</td>\n",
       "      <td>Entrante</td>\n",
       "      <td>Necesito ayuda  con mi linea</td>\n",
       "      <td>Necesito ayuda  con mi linea</td>\n",
       "      <td>7010045</td>\n",
       "      <td>Inbox Tigo SV</td>\n",
       "      <td>nan</td>\n",
       "      <td>50360178359</td>\n",
       "      <td>f3fffb210f29649ae4ae76abe92d90fff3545f40</td>\n",
       "      <td>2025-02-10</td>\n",
       "      <td>50360178359</td>\n",
       "    </tr>\n",
       "    <tr>\n",
       "      <th>4459</th>\n",
       "      <td>NaN</td>\n",
       "      <td>2025-02-17 13:27:54</td>\n",
       "      <td>Entrante</td>\n",
       "      <td>Buen día</td>\n",
       "      <td>Buen día</td>\n",
       "      <td>7010046</td>\n",
       "      <td>Inbox Tigo SV</td>\n",
       "      <td>nan</td>\n",
       "      <td>50372409987</td>\n",
       "      <td>f3fffb210f29649ae4ae76abe92d90fff3545f40</td>\n",
       "      <td>2025-02-17</td>\n",
       "      <td>50372409987</td>\n",
       "    </tr>\n",
       "  </tbody>\n",
       "</table>\n",
       "</div>"
      ],
      "text/plain": [
       "     difusion_name_base        msg_datetime    msg_tp  \\\n",
       "4455                NaN 2025-02-10 12:26:04  Entrante   \n",
       "4456                NaN 2025-02-10 12:26:27  Entrante   \n",
       "4459                NaN 2025-02-17 13:27:54  Entrante   \n",
       "\n",
       "                      msg_subject                    msg_content  caso_id  \\\n",
       "4455                 Hola buen día                 Hola buen día  7010045   \n",
       "4456  Necesito ayuda  con mi linea  Necesito ayuda  con mi linea  7010045   \n",
       "4459                      Buen día                      Buen día  7010046   \n",
       "\n",
       "          msg_group error_msg     from_acc  \\\n",
       "4455  Inbox Tigo SV       nan  50360178359   \n",
       "4456  Inbox Tigo SV       nan  50360178359   \n",
       "4459  Inbox Tigo SV       nan  50372409987   \n",
       "\n",
       "                                        to_acc    msg_date   cstmr_nmbr  \n",
       "4455  f3fffb210f29649ae4ae76abe92d90fff3545f40  2025-02-10  50360178359  \n",
       "4456  f3fffb210f29649ae4ae76abe92d90fff3545f40  2025-02-10  50360178359  \n",
       "4459  f3fffb210f29649ae4ae76abe92d90fff3545f40  2025-02-17  50372409987  "
      ]
     },
     "execution_count": 25,
     "metadata": {},
     "output_type": "execute_result"
    }
   ],
   "source": [
    "df_msg.tail(3)"
   ]
  },
  {
   "cell_type": "code",
   "execution_count": 26,
   "metadata": {},
   "outputs": [
    {
     "data": {
      "text/plain": [
       "Index(['difusion_name_base', 'msg_datetime', 'msg_tp', 'msg_subject ',\n",
       "       'msg_content', 'caso_id', 'msg_group', 'error_msg', 'from_acc',\n",
       "       'to_acc', 'msg_date', 'cstmr_nmbr'],\n",
       "      dtype='object')"
      ]
     },
     "execution_count": 26,
     "metadata": {},
     "output_type": "execute_result"
    }
   ],
   "source": [
    "df_msg.columns"
   ]
  },
  {
   "cell_type": "code",
   "execution_count": 27,
   "metadata": {},
   "outputs": [],
   "source": [
    "# Quitando la columna contenidos null\n",
    "df_msg[df_msg['difusion_name_base']==\"\"] = np.nan"
   ]
  },
  {
   "cell_type": "code",
   "execution_count": null,
   "metadata": {},
   "outputs": [],
   "source": [
    "# quitando las que son null\n",
    "#df_msg_1 = df_msg[df_msg['count'].notna()]"
   ]
  },
  {
   "cell_type": "code",
   "execution_count": 28,
   "metadata": {},
   "outputs": [
    {
     "data": {
      "application/vnd.microsoft.datawrangler.viewer.v0+json": {
       "columns": [
        {
         "name": "index",
         "rawType": "int64",
         "type": "integer"
        },
        {
         "name": "difusion_name_base",
         "rawType": "object",
         "type": "unknown"
        },
        {
         "name": "msg_datetime",
         "rawType": "datetime64[ns]",
         "type": "datetime"
        },
        {
         "name": "msg_tp",
         "rawType": "object",
         "type": "string"
        },
        {
         "name": "msg_subject ",
         "rawType": "object",
         "type": "string"
        },
        {
         "name": "msg_content",
         "rawType": "object",
         "type": "string"
        },
        {
         "name": "caso_id",
         "rawType": "int64",
         "type": "integer"
        },
        {
         "name": "msg_group",
         "rawType": "object",
         "type": "string"
        },
        {
         "name": "error_msg",
         "rawType": "object",
         "type": "string"
        },
        {
         "name": "from_acc",
         "rawType": "object",
         "type": "string"
        },
        {
         "name": "to_acc",
         "rawType": "object",
         "type": "string"
        },
        {
         "name": "msg_date",
         "rawType": "object",
         "type": "unknown"
        },
        {
         "name": "cstmr_nmbr",
         "rawType": "object",
         "type": "string"
        }
       ],
       "conversionMethod": "pd.DataFrame",
       "ref": "fd71b586-89b2-4544-80ba-0e13c5b1223a",
       "rows": [
        [
         "4454",
         null,
         "2025-02-10 04:04:20",
         "Entrante",
         "Hola",
         "Hola",
         "7010044",
         "Inbox Tigo SV",
         "nan",
         "34623156993",
         "f3fffb210f29649ae4ae76abe92d90fff3545f40",
         "2025-02-10",
         "34623156993"
        ],
        [
         "3270",
         "Base 210125 1700",
         "2025-01-21 17:00:31",
         "Saliente",
         "¡hola NAPOLEON ANTONIO BIGIT AHUES  :tada:! En Tigo valoramos tu lealtad y queremos que disfrutes más beneficios. :loudspeaker: Te ofrecemos una mejora de la oferta actual de servicio movil de 10 GB adicionales  ¿Te gustaría conocer más opciones para mejo",
         "¡hola NAPOLEON ANTONIO BIGIT AHUES  :tada:!\nEn Tigo valoramos tu lealtad y queremos que disfrutes más beneficios.\n\n:loudspeaker: Te ofrecemos una mejora de la oferta actual de servicio movil de 10 GB adicionales \n\n¿Te gustaría conocer más opciones para mejorar tu plan?\n:point_right: Responde: 09:54Si, estoy interesadoNo estoy interesado\n      \n      \n      \n      false",
         "7009700",
         "Bot Anfitrion",
         "nan",
         "f3fffb210f29649ae4ae76abe92d90fff3545f40",
         "50360000532",
         "2025-01-21",
         "50360000532"
        ],
        [
         "4446",
         null,
         "2025-01-28 16:08:54",
         "Entrante",
         "No estoy interesado",
         "No estoy interesado",
         "7010038",
         "Inbox Tigo SV",
         "nan",
         "50360000532",
         "f3fffb210f29649ae4ae76abe92d90fff3545f40",
         "2025-01-28",
         "50360000532"
        ]
       ],
       "shape": {
        "columns": 12,
        "rows": 3
       }
      },
      "text/html": [
       "<div>\n",
       "<style scoped>\n",
       "    .dataframe tbody tr th:only-of-type {\n",
       "        vertical-align: middle;\n",
       "    }\n",
       "\n",
       "    .dataframe tbody tr th {\n",
       "        vertical-align: top;\n",
       "    }\n",
       "\n",
       "    .dataframe thead th {\n",
       "        text-align: right;\n",
       "    }\n",
       "</style>\n",
       "<table border=\"1\" class=\"dataframe\">\n",
       "  <thead>\n",
       "    <tr style=\"text-align: right;\">\n",
       "      <th></th>\n",
       "      <th>difusion_name_base</th>\n",
       "      <th>msg_datetime</th>\n",
       "      <th>msg_tp</th>\n",
       "      <th>msg_subject</th>\n",
       "      <th>msg_content</th>\n",
       "      <th>caso_id</th>\n",
       "      <th>msg_group</th>\n",
       "      <th>error_msg</th>\n",
       "      <th>from_acc</th>\n",
       "      <th>to_acc</th>\n",
       "      <th>msg_date</th>\n",
       "      <th>cstmr_nmbr</th>\n",
       "    </tr>\n",
       "  </thead>\n",
       "  <tbody>\n",
       "    <tr>\n",
       "      <th>4454</th>\n",
       "      <td>NaN</td>\n",
       "      <td>2025-02-10 04:04:20</td>\n",
       "      <td>Entrante</td>\n",
       "      <td>Hola</td>\n",
       "      <td>Hola</td>\n",
       "      <td>7010044</td>\n",
       "      <td>Inbox Tigo SV</td>\n",
       "      <td>nan</td>\n",
       "      <td>34623156993</td>\n",
       "      <td>f3fffb210f29649ae4ae76abe92d90fff3545f40</td>\n",
       "      <td>2025-02-10</td>\n",
       "      <td>34623156993</td>\n",
       "    </tr>\n",
       "    <tr>\n",
       "      <th>3270</th>\n",
       "      <td>Base 210125 1700</td>\n",
       "      <td>2025-01-21 17:00:31</td>\n",
       "      <td>Saliente</td>\n",
       "      <td>¡hola NAPOLEON ANTONIO BIGIT AHUES  :tada:! En...</td>\n",
       "      <td>¡hola NAPOLEON ANTONIO BIGIT AHUES  :tada:!\\nE...</td>\n",
       "      <td>7009700</td>\n",
       "      <td>Bot Anfitrion</td>\n",
       "      <td>nan</td>\n",
       "      <td>f3fffb210f29649ae4ae76abe92d90fff3545f40</td>\n",
       "      <td>50360000532</td>\n",
       "      <td>2025-01-21</td>\n",
       "      <td>50360000532</td>\n",
       "    </tr>\n",
       "    <tr>\n",
       "      <th>4446</th>\n",
       "      <td>NaN</td>\n",
       "      <td>2025-01-28 16:08:54</td>\n",
       "      <td>Entrante</td>\n",
       "      <td>No estoy interesado</td>\n",
       "      <td>No estoy interesado</td>\n",
       "      <td>7010038</td>\n",
       "      <td>Inbox Tigo SV</td>\n",
       "      <td>nan</td>\n",
       "      <td>50360000532</td>\n",
       "      <td>f3fffb210f29649ae4ae76abe92d90fff3545f40</td>\n",
       "      <td>2025-01-28</td>\n",
       "      <td>50360000532</td>\n",
       "    </tr>\n",
       "  </tbody>\n",
       "</table>\n",
       "</div>"
      ],
      "text/plain": [
       "     difusion_name_base        msg_datetime    msg_tp  \\\n",
       "4454                NaN 2025-02-10 04:04:20  Entrante   \n",
       "3270   Base 210125 1700 2025-01-21 17:00:31  Saliente   \n",
       "4446                NaN 2025-01-28 16:08:54  Entrante   \n",
       "\n",
       "                                           msg_subject   \\\n",
       "4454                                               Hola   \n",
       "3270  ¡hola NAPOLEON ANTONIO BIGIT AHUES  :tada:! En...   \n",
       "4446                                No estoy interesado   \n",
       "\n",
       "                                            msg_content  caso_id  \\\n",
       "4454                                               Hola  7010044   \n",
       "3270  ¡hola NAPOLEON ANTONIO BIGIT AHUES  :tada:!\\nE...  7009700   \n",
       "4446                                No estoy interesado  7010038   \n",
       "\n",
       "          msg_group error_msg                                  from_acc  \\\n",
       "4454  Inbox Tigo SV       nan                               34623156993   \n",
       "3270  Bot Anfitrion       nan  f3fffb210f29649ae4ae76abe92d90fff3545f40   \n",
       "4446  Inbox Tigo SV       nan                               50360000532   \n",
       "\n",
       "                                        to_acc    msg_date   cstmr_nmbr  \n",
       "4454  f3fffb210f29649ae4ae76abe92d90fff3545f40  2025-02-10  34623156993  \n",
       "3270                               50360000532  2025-01-21  50360000532  \n",
       "4446  f3fffb210f29649ae4ae76abe92d90fff3545f40  2025-01-28  50360000532  "
      ]
     },
     "execution_count": 28,
     "metadata": {},
     "output_type": "execute_result"
    }
   ],
   "source": [
    "# Ordenamos por numero customer, campaign name base y fecha\n",
    "df_msg.sort_values(by=['cstmr_nmbr', 'difusion_name_base', 'msg_datetime'], inplace=True)\n",
    "df_msg.head(3)"
   ]
  },
  {
   "cell_type": "code",
   "execution_count": 29,
   "metadata": {},
   "outputs": [],
   "source": [
    "# fill column 'difusion_name_base' para usuarios que iniciarion como nuevo caso\n",
    "df_msg['difusion_name_base'] = df_msg['difusion_name_base'].ffill()"
   ]
  },
  {
   "cell_type": "code",
   "execution_count": 30,
   "metadata": {},
   "outputs": [
    {
     "data": {
      "text/plain": [
       "difusion_name_base            object\n",
       "msg_datetime          datetime64[ns]\n",
       "msg_tp                        object\n",
       "msg_subject                   object\n",
       "msg_content                   object\n",
       "caso_id                        int64\n",
       "msg_group                     object\n",
       "error_msg                     object\n",
       "from_acc                      object\n",
       "to_acc                        object\n",
       "msg_date                      object\n",
       "cstmr_nmbr                    object\n",
       "error_tp                      object\n",
       "dtype: object"
      ]
     },
     "execution_count": 30,
     "metadata": {},
     "output_type": "execute_result"
    }
   ],
   "source": [
    "# map errores\n",
    "map_error = {\n",
    "    r'Undeliverable|undeliverable' : 'No entregable',\n",
    "    r'experiment'                  : 'Experimento'\n",
    "}\n",
    "\n",
    "\n",
    "def f_mapeo_error(response):\n",
    "    for pattern, nodo in map_error.items():\n",
    "        if re.search(pattern, response, re.IGNORECASE):\n",
    "            return nodo\n",
    "    return '-1'\n",
    "\n",
    "df_msg['error_tp'] = df_msg['error_msg'].apply(lambda x: f_mapeo_error(x))\n",
    "\n",
    "df_msg.dtypes"
   ]
  },
  {
   "cell_type": "code",
   "execution_count": 31,
   "metadata": {},
   "outputs": [
    {
     "data": {
      "text/plain": [
       "difusion_name_base            object\n",
       "msg_datetime          datetime64[ns]\n",
       "msg_tp                        object\n",
       "msg_subject                   object\n",
       "msg_content                   object\n",
       "caso_id                        int64\n",
       "msg_group                     object\n",
       "error_msg                     object\n",
       "from_acc                      object\n",
       "to_acc                        object\n",
       "msg_date                      object\n",
       "cstmr_nmbr                    object\n",
       "error_tp                      object\n",
       "nodo                          object\n",
       "dtype: object"
      ]
     },
     "execution_count": 31,
     "metadata": {},
     "output_type": "execute_result"
    }
   ],
   "source": [
    "# Mapeo nodos\n",
    "nodos_res = {\n",
    "    r'^\\¡En Tigo Business impulsamos|^\\¡hola'   : '1', # Esta interesado\n",
    "    r'^Aumenta los beneficios|\\¡Excelente'      : '2',\n",
    "    r'^Elige el plan que sea|:one:*Op'          : '2',\n",
    "    r'^Yo|^recibe'                              : '3', # Primera condicion\n",
    "    r'Favor ingresar su numero|^:gift:'         : '4', # Segunda condicion  \n",
    "    r'^\\¡GRACIAS POR CONFIAR EN NOSOTROS|^\\¡Gracias|en las próximas':'5',\n",
    "    r'^Servicio al Cliente Tigo Business|^Todo listo|en las próximas':'6',\n",
    "    r'^\\¿Estas seguro'       : '51',\n",
    "    r'^Recuerda que'        : '52',\n",
    "    r'^Aún estas'           : '53',\n",
    "    r'^Por favor, continua con el proceso': '61',\n",
    "    r'^\\*\\¡Estamos para'       : '71',    # Ayuda\n",
    "    r'^DUI ingresado incorrecto': '72', # DUI inconrrecto\n",
    "}\n",
    "\n",
    "def f_mapeo_nodo(response, map_data):\n",
    "    for pattern, nodo in map_data.items():\n",
    "        if re.search(pattern, response, re.IGNORECASE):\n",
    "            return nodo\n",
    "    return '-1'\n",
    "\n",
    "df_msg['nodo'] = df_msg['msg_content'].apply(lambda x: f_mapeo_nodo(x, nodos_res))\n",
    "\n",
    "df_msg.dtypes"
   ]
  },
  {
   "cell_type": "code",
   "execution_count": null,
   "metadata": {},
   "outputs": [],
   "source": [
    "df_msg_nodo = df_msg.groupby('nodo', as_index=False).size()"
   ]
  },
  {
   "cell_type": "code",
   "execution_count": 33,
   "metadata": {},
   "outputs": [
    {
     "data": {
      "application/vnd.microsoft.datawrangler.viewer.v0+json": {
       "columns": [
        {
         "name": "index",
         "rawType": "int64",
         "type": "integer"
        },
        {
         "name": "difusion_name_base",
         "rawType": "object",
         "type": "unknown"
        },
        {
         "name": "msg_datetime",
         "rawType": "datetime64[ns]",
         "type": "datetime"
        },
        {
         "name": "msg_tp",
         "rawType": "object",
         "type": "string"
        },
        {
         "name": "msg_subject ",
         "rawType": "object",
         "type": "string"
        },
        {
         "name": "msg_content",
         "rawType": "object",
         "type": "string"
        },
        {
         "name": "caso_id",
         "rawType": "int64",
         "type": "integer"
        },
        {
         "name": "msg_group",
         "rawType": "object",
         "type": "string"
        },
        {
         "name": "error_msg",
         "rawType": "object",
         "type": "string"
        },
        {
         "name": "from_acc",
         "rawType": "object",
         "type": "string"
        },
        {
         "name": "to_acc",
         "rawType": "object",
         "type": "string"
        },
        {
         "name": "msg_date",
         "rawType": "object",
         "type": "unknown"
        },
        {
         "name": "cstmr_nmbr",
         "rawType": "object",
         "type": "string"
        },
        {
         "name": "error_tp",
         "rawType": "object",
         "type": "string"
        },
        {
         "name": "nodo",
         "rawType": "object",
         "type": "string"
        }
       ],
       "conversionMethod": "pd.DataFrame",
       "ref": "c19ca11c-edc9-4c20-a254-de073ee58592",
       "rows": [
        [
         "4454",
         null,
         "2025-02-10 04:04:20",
         "Entrante",
         "Hola",
         "Hola",
         "7010044",
         "Inbox Tigo SV",
         "nan",
         "34623156993",
         "f3fffb210f29649ae4ae76abe92d90fff3545f40",
         "2025-02-10",
         "34623156993",
         "-1",
         "-1"
        ],
        [
         "3270",
         "Base 210125 1700",
         "2025-01-21 17:00:31",
         "Saliente",
         "¡hola NAPOLEON ANTONIO BIGIT AHUES  :tada:! En Tigo valoramos tu lealtad y queremos que disfrutes más beneficios. :loudspeaker: Te ofrecemos una mejora de la oferta actual de servicio movil de 10 GB adicionales  ¿Te gustaría conocer más opciones para mejo",
         "¡hola NAPOLEON ANTONIO BIGIT AHUES  :tada:!\nEn Tigo valoramos tu lealtad y queremos que disfrutes más beneficios.\n\n:loudspeaker: Te ofrecemos una mejora de la oferta actual de servicio movil de 10 GB adicionales \n\n¿Te gustaría conocer más opciones para mejorar tu plan?\n:point_right: Responde: 09:54Si, estoy interesadoNo estoy interesado\n      \n      \n      \n      false",
         "7009700",
         "Bot Anfitrion",
         "nan",
         "f3fffb210f29649ae4ae76abe92d90fff3545f40",
         "50360000532",
         "2025-01-21",
         "50360000532",
         "-1",
         "1"
        ],
        [
         "4446",
         "Base 210125 1700",
         "2025-01-28 16:08:54",
         "Entrante",
         "No estoy interesado",
         "No estoy interesado",
         "7010038",
         "Inbox Tigo SV",
         "nan",
         "50360000532",
         "f3fffb210f29649ae4ae76abe92d90fff3545f40",
         "2025-01-28",
         "50360000532",
         "-1",
         "-1"
        ]
       ],
       "shape": {
        "columns": 14,
        "rows": 3
       }
      },
      "text/html": [
       "<div>\n",
       "<style scoped>\n",
       "    .dataframe tbody tr th:only-of-type {\n",
       "        vertical-align: middle;\n",
       "    }\n",
       "\n",
       "    .dataframe tbody tr th {\n",
       "        vertical-align: top;\n",
       "    }\n",
       "\n",
       "    .dataframe thead th {\n",
       "        text-align: right;\n",
       "    }\n",
       "</style>\n",
       "<table border=\"1\" class=\"dataframe\">\n",
       "  <thead>\n",
       "    <tr style=\"text-align: right;\">\n",
       "      <th></th>\n",
       "      <th>difusion_name_base</th>\n",
       "      <th>msg_datetime</th>\n",
       "      <th>msg_tp</th>\n",
       "      <th>msg_subject</th>\n",
       "      <th>msg_content</th>\n",
       "      <th>caso_id</th>\n",
       "      <th>msg_group</th>\n",
       "      <th>error_msg</th>\n",
       "      <th>from_acc</th>\n",
       "      <th>to_acc</th>\n",
       "      <th>msg_date</th>\n",
       "      <th>cstmr_nmbr</th>\n",
       "      <th>error_tp</th>\n",
       "      <th>nodo</th>\n",
       "    </tr>\n",
       "  </thead>\n",
       "  <tbody>\n",
       "    <tr>\n",
       "      <th>4454</th>\n",
       "      <td>NaN</td>\n",
       "      <td>2025-02-10 04:04:20</td>\n",
       "      <td>Entrante</td>\n",
       "      <td>Hola</td>\n",
       "      <td>Hola</td>\n",
       "      <td>7010044</td>\n",
       "      <td>Inbox Tigo SV</td>\n",
       "      <td>nan</td>\n",
       "      <td>34623156993</td>\n",
       "      <td>f3fffb210f29649ae4ae76abe92d90fff3545f40</td>\n",
       "      <td>2025-02-10</td>\n",
       "      <td>34623156993</td>\n",
       "      <td>-1</td>\n",
       "      <td>-1</td>\n",
       "    </tr>\n",
       "    <tr>\n",
       "      <th>3270</th>\n",
       "      <td>Base 210125 1700</td>\n",
       "      <td>2025-01-21 17:00:31</td>\n",
       "      <td>Saliente</td>\n",
       "      <td>¡hola NAPOLEON ANTONIO BIGIT AHUES  :tada:! En...</td>\n",
       "      <td>¡hola NAPOLEON ANTONIO BIGIT AHUES  :tada:!\\nE...</td>\n",
       "      <td>7009700</td>\n",
       "      <td>Bot Anfitrion</td>\n",
       "      <td>nan</td>\n",
       "      <td>f3fffb210f29649ae4ae76abe92d90fff3545f40</td>\n",
       "      <td>50360000532</td>\n",
       "      <td>2025-01-21</td>\n",
       "      <td>50360000532</td>\n",
       "      <td>-1</td>\n",
       "      <td>1</td>\n",
       "    </tr>\n",
       "    <tr>\n",
       "      <th>4446</th>\n",
       "      <td>Base 210125 1700</td>\n",
       "      <td>2025-01-28 16:08:54</td>\n",
       "      <td>Entrante</td>\n",
       "      <td>No estoy interesado</td>\n",
       "      <td>No estoy interesado</td>\n",
       "      <td>7010038</td>\n",
       "      <td>Inbox Tigo SV</td>\n",
       "      <td>nan</td>\n",
       "      <td>50360000532</td>\n",
       "      <td>f3fffb210f29649ae4ae76abe92d90fff3545f40</td>\n",
       "      <td>2025-01-28</td>\n",
       "      <td>50360000532</td>\n",
       "      <td>-1</td>\n",
       "      <td>-1</td>\n",
       "    </tr>\n",
       "  </tbody>\n",
       "</table>\n",
       "</div>"
      ],
      "text/plain": [
       "     difusion_name_base        msg_datetime    msg_tp  \\\n",
       "4454                NaN 2025-02-10 04:04:20  Entrante   \n",
       "3270   Base 210125 1700 2025-01-21 17:00:31  Saliente   \n",
       "4446   Base 210125 1700 2025-01-28 16:08:54  Entrante   \n",
       "\n",
       "                                           msg_subject   \\\n",
       "4454                                               Hola   \n",
       "3270  ¡hola NAPOLEON ANTONIO BIGIT AHUES  :tada:! En...   \n",
       "4446                                No estoy interesado   \n",
       "\n",
       "                                            msg_content  caso_id  \\\n",
       "4454                                               Hola  7010044   \n",
       "3270  ¡hola NAPOLEON ANTONIO BIGIT AHUES  :tada:!\\nE...  7009700   \n",
       "4446                                No estoy interesado  7010038   \n",
       "\n",
       "          msg_group error_msg                                  from_acc  \\\n",
       "4454  Inbox Tigo SV       nan                               34623156993   \n",
       "3270  Bot Anfitrion       nan  f3fffb210f29649ae4ae76abe92d90fff3545f40   \n",
       "4446  Inbox Tigo SV       nan                               50360000532   \n",
       "\n",
       "                                        to_acc    msg_date   cstmr_nmbr  \\\n",
       "4454  f3fffb210f29649ae4ae76abe92d90fff3545f40  2025-02-10  34623156993   \n",
       "3270                               50360000532  2025-01-21  50360000532   \n",
       "4446  f3fffb210f29649ae4ae76abe92d90fff3545f40  2025-01-28  50360000532   \n",
       "\n",
       "     error_tp nodo  \n",
       "4454       -1   -1  \n",
       "3270       -1    1  \n",
       "4446       -1   -1  "
      ]
     },
     "execution_count": 33,
     "metadata": {},
     "output_type": "execute_result"
    }
   ],
   "source": [
    "df_msg.head(3)"
   ]
  },
  {
   "cell_type": "code",
   "execution_count": 34,
   "metadata": {},
   "outputs": [
    {
     "data": {
      "text/plain": [
       "(3478, 14)"
      ]
     },
     "execution_count": 34,
     "metadata": {},
     "output_type": "execute_result"
    }
   ],
   "source": [
    "df_msg_bot = df_msg[df_msg['msg_tp']=='Saliente']\n",
    "df_msg_bot.shape"
   ]
  },
  {
   "cell_type": "code",
   "execution_count": 35,
   "metadata": {},
   "outputs": [
    {
     "name": "stderr",
     "output_type": "stream",
     "text": [
      "C:\\Users\\Usuario\\AppData\\Local\\Temp\\ipykernel_16360\\2630239149.py:1: SettingWithCopyWarning: \n",
      "A value is trying to be set on a copy of a slice from a DataFrame.\n",
      "Try using .loc[row_indexer,col_indexer] = value instead\n",
      "\n",
      "See the caveats in the documentation: https://pandas.pydata.org/pandas-docs/stable/user_guide/indexing.html#returning-a-view-versus-a-copy\n",
      "  df_msg_bot['msg_date_init'] = df_msg_bot.groupby(['cstmr_nmbr', 'difusion_name_base'], as_index=False)['msg_datetime'].transform('first')\n",
      "C:\\Users\\Usuario\\AppData\\Local\\Temp\\ipykernel_16360\\2630239149.py:2: SettingWithCopyWarning: \n",
      "A value is trying to be set on a copy of a slice from a DataFrame.\n",
      "Try using .loc[row_indexer,col_indexer] = value instead\n",
      "\n",
      "See the caveats in the documentation: https://pandas.pydata.org/pandas-docs/stable/user_guide/indexing.html#returning-a-view-versus-a-copy\n",
      "  df_msg_bot['msg_date_last'] = df_msg_bot.groupby(['cstmr_nmbr', 'difusion_name_base'], as_index=False)['msg_datetime'].transform('last')\n"
     ]
    }
   ],
   "source": [
    "df_msg_bot['msg_date_init'] = df_msg_bot.groupby(['cstmr_nmbr', 'difusion_name_base'], as_index=False)['msg_datetime'].transform('first') \n",
    "df_msg_bot['msg_date_last'] = df_msg_bot.groupby(['cstmr_nmbr', 'difusion_name_base'], as_index=False)['msg_datetime'].transform('last') "
   ]
  },
  {
   "cell_type": "code",
   "execution_count": 36,
   "metadata": {},
   "outputs": [
    {
     "name": "stderr",
     "output_type": "stream",
     "text": [
      "C:\\Users\\Usuario\\AppData\\Local\\Temp\\ipykernel_16360\\3117895906.py:2: SettingWithCopyWarning: \n",
      "A value is trying to be set on a copy of a slice from a DataFrame.\n",
      "Try using .loc[row_indexer,col_indexer] = value instead\n",
      "\n",
      "See the caveats in the documentation: https://pandas.pydata.org/pandas-docs/stable/user_guide/indexing.html#returning-a-view-versus-a-copy\n",
      "  df_msg_bot['caso_id'] = df_msg_bot['caso_id'].astype(str)\n"
     ]
    }
   ],
   "source": [
    "# Set column nodo flow\n",
    "df_msg_bot['caso_id'] = df_msg_bot['caso_id'].astype(str)\n",
    "\n",
    "df_msg_tmp = df_msg_bot.groupby(['cstmr_nmbr', 'difusion_name_base','msg_date_init', 'msg_date_last','error_tp'], as_index=False).agg({'nodo':lambda x: list(x), 'caso_id': lambda x: '_'.join(set(x))})\n",
    "#df_msg_tmp.rename(columns={'nodo': 'nodo_flow'}, inplace=True)\n",
    "\n",
    "#df_msg_tmp.head(3)"
   ]
  },
  {
   "cell_type": "code",
   "execution_count": 37,
   "metadata": {},
   "outputs": [
    {
     "data": {
      "text/plain": [
       "(1800, 7)"
      ]
     },
     "execution_count": 37,
     "metadata": {},
     "output_type": "execute_result"
    }
   ],
   "source": [
    "df_msg_tmp.shape"
   ]
  },
  {
   "cell_type": "code",
   "execution_count": 38,
   "metadata": {},
   "outputs": [
    {
     "data": {
      "text/plain": [
       "(973, 14)"
      ]
     },
     "execution_count": 38,
     "metadata": {},
     "output_type": "execute_result"
    }
   ],
   "source": [
    "df_msg_user = df_msg[df_msg['msg_tp']=='Entrante']\n",
    "df_msg_user.shape"
   ]
  },
  {
   "cell_type": "code",
   "execution_count": 40,
   "metadata": {},
   "outputs": [
    {
     "name": "stderr",
     "output_type": "stream",
     "text": [
      "C:\\Users\\Usuario\\AppData\\Local\\Temp\\ipykernel_16360\\657035730.py:21: SettingWithCopyWarning: \n",
      "A value is trying to be set on a copy of a slice from a DataFrame.\n",
      "Try using .loc[row_indexer,col_indexer] = value instead\n",
      "\n",
      "See the caveats in the documentation: https://pandas.pydata.org/pandas-docs/stable/user_guide/indexing.html#returning-a-view-versus-a-copy\n",
      "  df_msg_user['answer'] = df_msg_user['msg_content'].apply(lambda x: f_mapeo_nodo_1(x, nodos_response))\n"
     ]
    }
   ],
   "source": [
    "# Mapeo respuestas\n",
    "nodos_response = {\n",
    "    r'Si, estoy interesado'   : '1',\n",
    "    r'No estoy Interesado|No estoy interesado'    : '2',\n",
    "    r'monto|iva|costo|barato|precio' : '3',\n",
    "    r'nombre|mal nombre|papa' : '4',\n",
    "    r'necesito| solo necesito': '5',\n",
    "    r'no necesito': '6',\n",
    "    r'\\d+': '7',\n",
    "    r'Opción 1' : '21',\n",
    "    r'Opción 2' : '22',\n",
    "    r'Opción 3' : '23',\n",
    "}\n",
    "\n",
    "def f_mapeo_nodo_1(response, map_data):\n",
    "    for pattern, nodo in map_data.items():\n",
    "        if re.search(pattern, response, re.IGNORECASE):\n",
    "            return nodo\n",
    "    return '-1'\n",
    "\n",
    "df_msg_user['answer'] = df_msg_user['msg_content'].apply(lambda x: f_mapeo_nodo_1(x, nodos_response))\n",
    "\n",
    "df_msg_user.shape\n",
    "\n",
    "df_msg['answer'] = df_msg['msg_content'].apply(lambda x: f_mapeo_nodo_1(x, nodos_response))\n"
   ]
  },
  {
   "cell_type": "code",
   "execution_count": 41,
   "metadata": {},
   "outputs": [
    {
     "name": "stderr",
     "output_type": "stream",
     "text": [
      "C:\\Users\\Usuario\\AppData\\Local\\Temp\\ipykernel_16360\\302551598.py:1: SettingWithCopyWarning: \n",
      "A value is trying to be set on a copy of a slice from a DataFrame.\n",
      "Try using .loc[row_indexer,col_indexer] = value instead\n",
      "\n",
      "See the caveats in the documentation: https://pandas.pydata.org/pandas-docs/stable/user_guide/indexing.html#returning-a-view-versus-a-copy\n",
      "  df_msg_user['msg_date_init'] = df_msg_user.groupby(['cstmr_nmbr', 'difusion_name_base'], as_index=False)['msg_datetime'].transform('first')\n",
      "C:\\Users\\Usuario\\AppData\\Local\\Temp\\ipykernel_16360\\302551598.py:2: SettingWithCopyWarning: \n",
      "A value is trying to be set on a copy of a slice from a DataFrame.\n",
      "Try using .loc[row_indexer,col_indexer] = value instead\n",
      "\n",
      "See the caveats in the documentation: https://pandas.pydata.org/pandas-docs/stable/user_guide/indexing.html#returning-a-view-versus-a-copy\n",
      "  df_msg_user['msg_date_last'] = df_msg_user.groupby(['cstmr_nmbr', 'difusion_name_base'], as_index=False)['msg_datetime'].transform('last')\n"
     ]
    }
   ],
   "source": [
    "df_msg_user['msg_date_init'] = df_msg_user.groupby(['cstmr_nmbr', 'difusion_name_base'], as_index=False)['msg_datetime'].transform('first') \n",
    "df_msg_user['msg_date_last'] = df_msg_user.groupby(['cstmr_nmbr', 'difusion_name_base'], as_index=False)['msg_datetime'].transform('last') "
   ]
  },
  {
   "cell_type": "code",
   "execution_count": 42,
   "metadata": {},
   "outputs": [
    {
     "name": "stderr",
     "output_type": "stream",
     "text": [
      "C:\\Users\\Usuario\\AppData\\Local\\Temp\\ipykernel_16360\\3935126414.py:2: SettingWithCopyWarning: \n",
      "A value is trying to be set on a copy of a slice from a DataFrame.\n",
      "Try using .loc[row_indexer,col_indexer] = value instead\n",
      "\n",
      "See the caveats in the documentation: https://pandas.pydata.org/pandas-docs/stable/user_guide/indexing.html#returning-a-view-versus-a-copy\n",
      "  df_msg_user['caso_id'] = df_msg_user['caso_id'].astype(str)\n"
     ]
    },
    {
     "data": {
      "application/vnd.microsoft.datawrangler.viewer.v0+json": {
       "columns": [
        {
         "name": "index",
         "rawType": "int64",
         "type": "integer"
        },
        {
         "name": "cstmr_nmbr",
         "rawType": "object",
         "type": "string"
        },
        {
         "name": "difusion_name_base",
         "rawType": "object",
         "type": "string"
        },
        {
         "name": "msg_date_init",
         "rawType": "datetime64[ns]",
         "type": "datetime"
        },
        {
         "name": "msg_date_last",
         "rawType": "datetime64[ns]",
         "type": "datetime"
        },
        {
         "name": "error_tp",
         "rawType": "object",
         "type": "string"
        },
        {
         "name": "answer_flow",
         "rawType": "object",
         "type": "unknown"
        },
        {
         "name": "caso_id",
         "rawType": "object",
         "type": "string"
        }
       ],
       "conversionMethod": "pd.DataFrame",
       "ref": "cd2a9796-ce15-4c24-b4f1-a67631e0ab77",
       "rows": [
        [
         "0",
         "50360000532",
         "Base 210125 1700",
         "2025-01-28 16:08:54",
         "2025-01-28 16:08:54",
         "-1",
         "['2']",
         "7010038"
        ],
        [
         "1",
         "50360005350",
         "Segunda Base 120824 1200",
         "2024-08-13 10:00:27",
         "2024-08-13 10:00:28",
         "-1",
         "['-1', '-1']",
         "7008399"
        ],
        [
         "2",
         "50360023149",
         "Segunda Base 120824 1200",
         "2024-08-14 18:51:44",
         "2024-08-14 18:51:44",
         "-1",
         "['-1']",
         "7008513"
        ]
       ],
       "shape": {
        "columns": 7,
        "rows": 3
       }
      },
      "text/html": [
       "<div>\n",
       "<style scoped>\n",
       "    .dataframe tbody tr th:only-of-type {\n",
       "        vertical-align: middle;\n",
       "    }\n",
       "\n",
       "    .dataframe tbody tr th {\n",
       "        vertical-align: top;\n",
       "    }\n",
       "\n",
       "    .dataframe thead th {\n",
       "        text-align: right;\n",
       "    }\n",
       "</style>\n",
       "<table border=\"1\" class=\"dataframe\">\n",
       "  <thead>\n",
       "    <tr style=\"text-align: right;\">\n",
       "      <th></th>\n",
       "      <th>cstmr_nmbr</th>\n",
       "      <th>difusion_name_base</th>\n",
       "      <th>msg_date_init</th>\n",
       "      <th>msg_date_last</th>\n",
       "      <th>error_tp</th>\n",
       "      <th>answer_flow</th>\n",
       "      <th>caso_id</th>\n",
       "    </tr>\n",
       "  </thead>\n",
       "  <tbody>\n",
       "    <tr>\n",
       "      <th>0</th>\n",
       "      <td>50360000532</td>\n",
       "      <td>Base 210125 1700</td>\n",
       "      <td>2025-01-28 16:08:54</td>\n",
       "      <td>2025-01-28 16:08:54</td>\n",
       "      <td>-1</td>\n",
       "      <td>[2]</td>\n",
       "      <td>7010038</td>\n",
       "    </tr>\n",
       "    <tr>\n",
       "      <th>1</th>\n",
       "      <td>50360005350</td>\n",
       "      <td>Segunda Base 120824 1200</td>\n",
       "      <td>2024-08-13 10:00:27</td>\n",
       "      <td>2024-08-13 10:00:28</td>\n",
       "      <td>-1</td>\n",
       "      <td>[-1, -1]</td>\n",
       "      <td>7008399</td>\n",
       "    </tr>\n",
       "    <tr>\n",
       "      <th>2</th>\n",
       "      <td>50360023149</td>\n",
       "      <td>Segunda Base 120824 1200</td>\n",
       "      <td>2024-08-14 18:51:44</td>\n",
       "      <td>2024-08-14 18:51:44</td>\n",
       "      <td>-1</td>\n",
       "      <td>[-1]</td>\n",
       "      <td>7008513</td>\n",
       "    </tr>\n",
       "  </tbody>\n",
       "</table>\n",
       "</div>"
      ],
      "text/plain": [
       "    cstmr_nmbr        difusion_name_base       msg_date_init  \\\n",
       "0  50360000532          Base 210125 1700 2025-01-28 16:08:54   \n",
       "1  50360005350  Segunda Base 120824 1200 2024-08-13 10:00:27   \n",
       "2  50360023149  Segunda Base 120824 1200 2024-08-14 18:51:44   \n",
       "\n",
       "        msg_date_last error_tp answer_flow  caso_id  \n",
       "0 2025-01-28 16:08:54       -1         [2]  7010038  \n",
       "1 2024-08-13 10:00:28       -1    [-1, -1]  7008399  \n",
       "2 2024-08-14 18:51:44       -1        [-1]  7008513  "
      ]
     },
     "execution_count": 42,
     "metadata": {},
     "output_type": "execute_result"
    }
   ],
   "source": [
    "# \n",
    "df_msg_user['caso_id'] = df_msg_user['caso_id'].astype(str)\n",
    "\n",
    "df_msg_tmp_1 = df_msg_user.groupby(['cstmr_nmbr', 'difusion_name_base','msg_date_init', 'msg_date_last', 'error_tp'], as_index=False).agg({'answer':lambda x: list(x), 'caso_id': lambda x: '_'.join(set(x))})\n",
    "df_msg_tmp_1.rename(columns={'answer': 'answer_flow'}, inplace=True)\n",
    "\n",
    "df_msg_tmp_1.head(3)"
   ]
  },
  {
   "cell_type": "code",
   "execution_count": 43,
   "metadata": {},
   "outputs": [
    {
     "data": {
      "text/plain": [
       "Index(['cstmr_nmbr', 'difusion_name_base', 'user_msg_date_init',\n",
       "       'user_msg_date_last', 'user_error_tp', 'answer_flow', 'caso_id'],\n",
       "      dtype='object')"
      ]
     },
     "execution_count": 43,
     "metadata": {},
     "output_type": "execute_result"
    }
   ],
   "source": [
    "# Inner join \n",
    "#df_msg = df_msg.merge(df_msg_tmp, on=['cstmr_nmbr', 'difusion_name_base'], how='left')\n",
    "#df_msg.shape\n",
    "df_msg_tmp_1.columns = ['cstmr_nmbr', 'difusion_name_base', 'user_msg_date_init', 'user_msg_date_last', 'user_error_tp', 'answer_flow', 'caso_id']\n",
    "df_msg_tmp_1.columns"
   ]
  },
  {
   "cell_type": "code",
   "execution_count": 44,
   "metadata": {},
   "outputs": [
    {
     "data": {
      "text/plain": [
       "(1800, 10)"
      ]
     },
     "execution_count": 44,
     "metadata": {},
     "output_type": "execute_result"
    }
   ],
   "source": [
    "df_msg_fct = df_msg_tmp.merge(df_msg_tmp_1[['cstmr_nmbr', 'difusion_name_base', 'user_msg_date_init', 'user_msg_date_last',\n",
    "    'answer_flow', 'caso_id']], on=['cstmr_nmbr', 'difusion_name_base', 'caso_id'], how='left')\n",
    "df_msg_fct.shape"
   ]
  },
  {
   "cell_type": "code",
   "execution_count": 45,
   "metadata": {},
   "outputs": [
    {
     "data": {
      "application/vnd.microsoft.datawrangler.viewer.v0+json": {
       "columns": [
        {
         "name": "index",
         "rawType": "int64",
         "type": "integer"
        },
        {
         "name": "cstmr_nmbr",
         "rawType": "object",
         "type": "string"
        },
        {
         "name": "difusion_name_base",
         "rawType": "object",
         "type": "string"
        },
        {
         "name": "msg_date_init",
         "rawType": "datetime64[ns]",
         "type": "datetime"
        },
        {
         "name": "msg_date_last",
         "rawType": "datetime64[ns]",
         "type": "datetime"
        },
        {
         "name": "error_tp",
         "rawType": "object",
         "type": "string"
        },
        {
         "name": "nodo",
         "rawType": "object",
         "type": "unknown"
        },
        {
         "name": "caso_id",
         "rawType": "object",
         "type": "string"
        },
        {
         "name": "user_msg_date_init",
         "rawType": "datetime64[ns]",
         "type": "datetime"
        },
        {
         "name": "user_msg_date_last",
         "rawType": "datetime64[ns]",
         "type": "datetime"
        },
        {
         "name": "answer_flow",
         "rawType": "object",
         "type": "unknown"
        }
       ],
       "conversionMethod": "pd.DataFrame",
       "ref": "37f57029-629c-492d-812c-8714d7aff0f9",
       "rows": [
        [
         "0",
         "50360000532",
         "Base 210125 1700",
         "2025-01-21 17:00:31",
         "2025-01-21 17:00:31",
         "-1",
         "['1']",
         "7009700",
         null,
         null,
         null
        ],
        [
         "1",
         "50360001100",
         "Base 210125 1230",
         "2025-01-21 12:39:17",
         "2025-01-21 12:39:17",
         "-1",
         "['1']",
         "7009273",
         null,
         null,
         null
        ],
        [
         "2",
         "50360001165",
         "Segunda Base 120824 1200",
         "2024-08-13 10:00:31",
         "2024-08-13 10:00:31",
         "-1",
         "['1']",
         "7008434",
         null,
         null,
         null
        ]
       ],
       "shape": {
        "columns": 10,
        "rows": 3
       }
      },
      "text/html": [
       "<div>\n",
       "<style scoped>\n",
       "    .dataframe tbody tr th:only-of-type {\n",
       "        vertical-align: middle;\n",
       "    }\n",
       "\n",
       "    .dataframe tbody tr th {\n",
       "        vertical-align: top;\n",
       "    }\n",
       "\n",
       "    .dataframe thead th {\n",
       "        text-align: right;\n",
       "    }\n",
       "</style>\n",
       "<table border=\"1\" class=\"dataframe\">\n",
       "  <thead>\n",
       "    <tr style=\"text-align: right;\">\n",
       "      <th></th>\n",
       "      <th>cstmr_nmbr</th>\n",
       "      <th>difusion_name_base</th>\n",
       "      <th>msg_date_init</th>\n",
       "      <th>msg_date_last</th>\n",
       "      <th>error_tp</th>\n",
       "      <th>nodo</th>\n",
       "      <th>caso_id</th>\n",
       "      <th>user_msg_date_init</th>\n",
       "      <th>user_msg_date_last</th>\n",
       "      <th>answer_flow</th>\n",
       "    </tr>\n",
       "  </thead>\n",
       "  <tbody>\n",
       "    <tr>\n",
       "      <th>0</th>\n",
       "      <td>50360000532</td>\n",
       "      <td>Base 210125 1700</td>\n",
       "      <td>2025-01-21 17:00:31</td>\n",
       "      <td>2025-01-21 17:00:31</td>\n",
       "      <td>-1</td>\n",
       "      <td>[1]</td>\n",
       "      <td>7009700</td>\n",
       "      <td>NaT</td>\n",
       "      <td>NaT</td>\n",
       "      <td>NaN</td>\n",
       "    </tr>\n",
       "    <tr>\n",
       "      <th>1</th>\n",
       "      <td>50360001100</td>\n",
       "      <td>Base 210125 1230</td>\n",
       "      <td>2025-01-21 12:39:17</td>\n",
       "      <td>2025-01-21 12:39:17</td>\n",
       "      <td>-1</td>\n",
       "      <td>[1]</td>\n",
       "      <td>7009273</td>\n",
       "      <td>NaT</td>\n",
       "      <td>NaT</td>\n",
       "      <td>NaN</td>\n",
       "    </tr>\n",
       "    <tr>\n",
       "      <th>2</th>\n",
       "      <td>50360001165</td>\n",
       "      <td>Segunda Base 120824 1200</td>\n",
       "      <td>2024-08-13 10:00:31</td>\n",
       "      <td>2024-08-13 10:00:31</td>\n",
       "      <td>-1</td>\n",
       "      <td>[1]</td>\n",
       "      <td>7008434</td>\n",
       "      <td>NaT</td>\n",
       "      <td>NaT</td>\n",
       "      <td>NaN</td>\n",
       "    </tr>\n",
       "  </tbody>\n",
       "</table>\n",
       "</div>"
      ],
      "text/plain": [
       "    cstmr_nmbr        difusion_name_base       msg_date_init  \\\n",
       "0  50360000532          Base 210125 1700 2025-01-21 17:00:31   \n",
       "1  50360001100          Base 210125 1230 2025-01-21 12:39:17   \n",
       "2  50360001165  Segunda Base 120824 1200 2024-08-13 10:00:31   \n",
       "\n",
       "        msg_date_last error_tp nodo  caso_id user_msg_date_init  \\\n",
       "0 2025-01-21 17:00:31       -1  [1]  7009700                NaT   \n",
       "1 2025-01-21 12:39:17       -1  [1]  7009273                NaT   \n",
       "2 2024-08-13 10:00:31       -1  [1]  7008434                NaT   \n",
       "\n",
       "  user_msg_date_last answer_flow  \n",
       "0                NaT         NaN  \n",
       "1                NaT         NaN  \n",
       "2                NaT         NaN  "
      ]
     },
     "execution_count": 45,
     "metadata": {},
     "output_type": "execute_result"
    }
   ],
   "source": [
    "df_msg_fct.head(3)"
   ]
  },
  {
   "cell_type": "code",
   "execution_count": null,
   "metadata": {},
   "outputs": [],
   "source": [
    "df_msg_fct.columns"
   ]
  },
  {
   "cell_type": "code",
   "execution_count": 46,
   "metadata": {},
   "outputs": [],
   "source": [
    "df_msg_fct.columns = ['cstmr_nmbr', 'difusion_name_base', 'msg_date_init', 'msg_date_last',\n",
    "       'error_tp', 'nodo_flow', 'caso_id', 'user_msg_date_init',\n",
    "       'user_msg_date_last', 'answer_flow']"
   ]
  },
  {
   "cell_type": "code",
   "execution_count": 47,
   "metadata": {},
   "outputs": [
    {
     "data": {
      "application/vnd.microsoft.datawrangler.viewer.v0+json": {
       "columns": [
        {
         "name": "index",
         "rawType": "int64",
         "type": "integer"
        },
        {
         "name": "cstmr_nmbr",
         "rawType": "object",
         "type": "string"
        },
        {
         "name": "difusion_name_base",
         "rawType": "object",
         "type": "string"
        },
        {
         "name": "msg_date_init",
         "rawType": "datetime64[ns]",
         "type": "datetime"
        },
        {
         "name": "msg_date_last",
         "rawType": "datetime64[ns]",
         "type": "datetime"
        },
        {
         "name": "error_tp",
         "rawType": "object",
         "type": "string"
        },
        {
         "name": "nodo_flow",
         "rawType": "object",
         "type": "unknown"
        },
        {
         "name": "caso_id",
         "rawType": "object",
         "type": "string"
        },
        {
         "name": "user_msg_date_init",
         "rawType": "datetime64[ns]",
         "type": "datetime"
        },
        {
         "name": "user_msg_date_last",
         "rawType": "datetime64[ns]",
         "type": "datetime"
        },
        {
         "name": "answer_flow",
         "rawType": "object",
         "type": "unknown"
        },
        {
         "name": "scene",
         "rawType": "object",
         "type": "string"
        }
       ],
       "conversionMethod": "pd.DataFrame",
       "ref": "11a854b4-aec9-4cfe-aa9f-3982183e5849",
       "rows": [
        [
         "0",
         "50360000532",
         "Base 210125 1700",
         "2025-01-21 17:00:31",
         "2025-01-21 17:00:31",
         "-1",
         "['1']",
         "7009700",
         null,
         null,
         null,
         "No inicio el proceso"
        ],
        [
         "1",
         "50360001100",
         "Base 210125 1230",
         "2025-01-21 12:39:17",
         "2025-01-21 12:39:17",
         "-1",
         "['1']",
         "7009273",
         null,
         null,
         null,
         "No inicio el proceso"
        ],
        [
         "2",
         "50360001165",
         "Segunda Base 120824 1200",
         "2024-08-13 10:00:31",
         "2024-08-13 10:00:31",
         "-1",
         "['1']",
         "7008434",
         null,
         null,
         null,
         "No inicio el proceso"
        ]
       ],
       "shape": {
        "columns": 11,
        "rows": 3
       }
      },
      "text/html": [
       "<div>\n",
       "<style scoped>\n",
       "    .dataframe tbody tr th:only-of-type {\n",
       "        vertical-align: middle;\n",
       "    }\n",
       "\n",
       "    .dataframe tbody tr th {\n",
       "        vertical-align: top;\n",
       "    }\n",
       "\n",
       "    .dataframe thead th {\n",
       "        text-align: right;\n",
       "    }\n",
       "</style>\n",
       "<table border=\"1\" class=\"dataframe\">\n",
       "  <thead>\n",
       "    <tr style=\"text-align: right;\">\n",
       "      <th></th>\n",
       "      <th>cstmr_nmbr</th>\n",
       "      <th>difusion_name_base</th>\n",
       "      <th>msg_date_init</th>\n",
       "      <th>msg_date_last</th>\n",
       "      <th>error_tp</th>\n",
       "      <th>nodo_flow</th>\n",
       "      <th>caso_id</th>\n",
       "      <th>user_msg_date_init</th>\n",
       "      <th>user_msg_date_last</th>\n",
       "      <th>answer_flow</th>\n",
       "      <th>scene</th>\n",
       "    </tr>\n",
       "  </thead>\n",
       "  <tbody>\n",
       "    <tr>\n",
       "      <th>0</th>\n",
       "      <td>50360000532</td>\n",
       "      <td>Base 210125 1700</td>\n",
       "      <td>2025-01-21 17:00:31</td>\n",
       "      <td>2025-01-21 17:00:31</td>\n",
       "      <td>-1</td>\n",
       "      <td>[1]</td>\n",
       "      <td>7009700</td>\n",
       "      <td>NaT</td>\n",
       "      <td>NaT</td>\n",
       "      <td>NaN</td>\n",
       "      <td>No inicio el proceso</td>\n",
       "    </tr>\n",
       "    <tr>\n",
       "      <th>1</th>\n",
       "      <td>50360001100</td>\n",
       "      <td>Base 210125 1230</td>\n",
       "      <td>2025-01-21 12:39:17</td>\n",
       "      <td>2025-01-21 12:39:17</td>\n",
       "      <td>-1</td>\n",
       "      <td>[1]</td>\n",
       "      <td>7009273</td>\n",
       "      <td>NaT</td>\n",
       "      <td>NaT</td>\n",
       "      <td>NaN</td>\n",
       "      <td>No inicio el proceso</td>\n",
       "    </tr>\n",
       "    <tr>\n",
       "      <th>2</th>\n",
       "      <td>50360001165</td>\n",
       "      <td>Segunda Base 120824 1200</td>\n",
       "      <td>2024-08-13 10:00:31</td>\n",
       "      <td>2024-08-13 10:00:31</td>\n",
       "      <td>-1</td>\n",
       "      <td>[1]</td>\n",
       "      <td>7008434</td>\n",
       "      <td>NaT</td>\n",
       "      <td>NaT</td>\n",
       "      <td>NaN</td>\n",
       "      <td>No inicio el proceso</td>\n",
       "    </tr>\n",
       "  </tbody>\n",
       "</table>\n",
       "</div>"
      ],
      "text/plain": [
       "    cstmr_nmbr        difusion_name_base       msg_date_init  \\\n",
       "0  50360000532          Base 210125 1700 2025-01-21 17:00:31   \n",
       "1  50360001100          Base 210125 1230 2025-01-21 12:39:17   \n",
       "2  50360001165  Segunda Base 120824 1200 2024-08-13 10:00:31   \n",
       "\n",
       "        msg_date_last error_tp nodo_flow  caso_id user_msg_date_init  \\\n",
       "0 2025-01-21 17:00:31       -1       [1]  7009700                NaT   \n",
       "1 2025-01-21 12:39:17       -1       [1]  7009273                NaT   \n",
       "2 2024-08-13 10:00:31       -1       [1]  7008434                NaT   \n",
       "\n",
       "  user_msg_date_last answer_flow                 scene  \n",
       "0                NaT         NaN  No inicio el proceso  \n",
       "1                NaT         NaN  No inicio el proceso  \n",
       "2                NaT         NaN  No inicio el proceso  "
      ]
     },
     "execution_count": 47,
     "metadata": {},
     "output_type": "execute_result"
    }
   ],
   "source": [
    "def f_scene(data):\n",
    "    if '5' in data:\n",
    "        return 'Conversion'\n",
    "    elif '5' not in data and len(data) > 1:\n",
    "        return 'No termino el proceso'\n",
    "    return 'No inicio el proceso'\n",
    "\n",
    "\n",
    "df_msg_fct['scene'] = df_msg_fct['nodo_flow'].map(lambda x: f_scene(x))\n",
    "\n",
    "df_msg_fct.head(3)"
   ]
  },
  {
   "cell_type": "code",
   "execution_count": 48,
   "metadata": {},
   "outputs": [
    {
     "data": {
      "application/vnd.microsoft.datawrangler.viewer.v0+json": {
       "columns": [
        {
         "name": "index",
         "rawType": "int64",
         "type": "integer"
        },
        {
         "name": "cstmr_nmbr",
         "rawType": "object",
         "type": "string"
        },
        {
         "name": "difusion_name_base",
         "rawType": "object",
         "type": "string"
        },
        {
         "name": "msg_date_init",
         "rawType": "datetime64[ns]",
         "type": "datetime"
        },
        {
         "name": "msg_date_last",
         "rawType": "datetime64[ns]",
         "type": "datetime"
        },
        {
         "name": "error_tp",
         "rawType": "object",
         "type": "string"
        },
        {
         "name": "nodo_flow",
         "rawType": "object",
         "type": "unknown"
        },
        {
         "name": "caso_id",
         "rawType": "object",
         "type": "string"
        },
        {
         "name": "user_msg_date_init",
         "rawType": "datetime64[ns]",
         "type": "datetime"
        },
        {
         "name": "user_msg_date_last",
         "rawType": "datetime64[ns]",
         "type": "datetime"
        },
        {
         "name": "answer_flow",
         "rawType": "object",
         "type": "unknown"
        },
        {
         "name": "scene",
         "rawType": "object",
         "type": "string"
        },
        {
         "name": "last_nodo",
         "rawType": "object",
         "type": "string"
        }
       ],
       "conversionMethod": "pd.DataFrame",
       "ref": "dd1e72ef-25ba-4560-aa38-c95ea7c61d16",
       "rows": [
        [
         "0",
         "50360000532",
         "Base 210125 1700",
         "2025-01-21 17:00:31",
         "2025-01-21 17:00:31",
         "-1",
         "['1']",
         "7009700",
         null,
         null,
         null,
         "No inicio el proceso",
         "1 - No inicio"
        ],
        [
         "1",
         "50360001100",
         "Base 210125 1230",
         "2025-01-21 12:39:17",
         "2025-01-21 12:39:17",
         "-1",
         "['1']",
         "7009273",
         null,
         null,
         null,
         "No inicio el proceso",
         "1 - No inicio"
        ],
        [
         "2",
         "50360001165",
         "Segunda Base 120824 1200",
         "2024-08-13 10:00:31",
         "2024-08-13 10:00:31",
         "-1",
         "['1']",
         "7008434",
         null,
         null,
         null,
         "No inicio el proceso",
         "1 - No inicio"
        ]
       ],
       "shape": {
        "columns": 12,
        "rows": 3
       }
      },
      "text/html": [
       "<div>\n",
       "<style scoped>\n",
       "    .dataframe tbody tr th:only-of-type {\n",
       "        vertical-align: middle;\n",
       "    }\n",
       "\n",
       "    .dataframe tbody tr th {\n",
       "        vertical-align: top;\n",
       "    }\n",
       "\n",
       "    .dataframe thead th {\n",
       "        text-align: right;\n",
       "    }\n",
       "</style>\n",
       "<table border=\"1\" class=\"dataframe\">\n",
       "  <thead>\n",
       "    <tr style=\"text-align: right;\">\n",
       "      <th></th>\n",
       "      <th>cstmr_nmbr</th>\n",
       "      <th>difusion_name_base</th>\n",
       "      <th>msg_date_init</th>\n",
       "      <th>msg_date_last</th>\n",
       "      <th>error_tp</th>\n",
       "      <th>nodo_flow</th>\n",
       "      <th>caso_id</th>\n",
       "      <th>user_msg_date_init</th>\n",
       "      <th>user_msg_date_last</th>\n",
       "      <th>answer_flow</th>\n",
       "      <th>scene</th>\n",
       "      <th>last_nodo</th>\n",
       "    </tr>\n",
       "  </thead>\n",
       "  <tbody>\n",
       "    <tr>\n",
       "      <th>0</th>\n",
       "      <td>50360000532</td>\n",
       "      <td>Base 210125 1700</td>\n",
       "      <td>2025-01-21 17:00:31</td>\n",
       "      <td>2025-01-21 17:00:31</td>\n",
       "      <td>-1</td>\n",
       "      <td>[1]</td>\n",
       "      <td>7009700</td>\n",
       "      <td>NaT</td>\n",
       "      <td>NaT</td>\n",
       "      <td>NaN</td>\n",
       "      <td>No inicio el proceso</td>\n",
       "      <td>1 - No inicio</td>\n",
       "    </tr>\n",
       "    <tr>\n",
       "      <th>1</th>\n",
       "      <td>50360001100</td>\n",
       "      <td>Base 210125 1230</td>\n",
       "      <td>2025-01-21 12:39:17</td>\n",
       "      <td>2025-01-21 12:39:17</td>\n",
       "      <td>-1</td>\n",
       "      <td>[1]</td>\n",
       "      <td>7009273</td>\n",
       "      <td>NaT</td>\n",
       "      <td>NaT</td>\n",
       "      <td>NaN</td>\n",
       "      <td>No inicio el proceso</td>\n",
       "      <td>1 - No inicio</td>\n",
       "    </tr>\n",
       "    <tr>\n",
       "      <th>2</th>\n",
       "      <td>50360001165</td>\n",
       "      <td>Segunda Base 120824 1200</td>\n",
       "      <td>2024-08-13 10:00:31</td>\n",
       "      <td>2024-08-13 10:00:31</td>\n",
       "      <td>-1</td>\n",
       "      <td>[1]</td>\n",
       "      <td>7008434</td>\n",
       "      <td>NaT</td>\n",
       "      <td>NaT</td>\n",
       "      <td>NaN</td>\n",
       "      <td>No inicio el proceso</td>\n",
       "      <td>1 - No inicio</td>\n",
       "    </tr>\n",
       "  </tbody>\n",
       "</table>\n",
       "</div>"
      ],
      "text/plain": [
       "    cstmr_nmbr        difusion_name_base       msg_date_init  \\\n",
       "0  50360000532          Base 210125 1700 2025-01-21 17:00:31   \n",
       "1  50360001100          Base 210125 1230 2025-01-21 12:39:17   \n",
       "2  50360001165  Segunda Base 120824 1200 2024-08-13 10:00:31   \n",
       "\n",
       "        msg_date_last error_tp nodo_flow  caso_id user_msg_date_init  \\\n",
       "0 2025-01-21 17:00:31       -1       [1]  7009700                NaT   \n",
       "1 2025-01-21 12:39:17       -1       [1]  7009273                NaT   \n",
       "2 2024-08-13 10:00:31       -1       [1]  7008434                NaT   \n",
       "\n",
       "  user_msg_date_last answer_flow                 scene      last_nodo  \n",
       "0                NaT         NaN  No inicio el proceso  1 - No inicio  \n",
       "1                NaT         NaN  No inicio el proceso  1 - No inicio  \n",
       "2                NaT         NaN  No inicio el proceso  1 - No inicio  "
      ]
     },
     "execution_count": 48,
     "metadata": {},
     "output_type": "execute_result"
    }
   ],
   "source": [
    "def f_last_nodo(data):\n",
    "    if '5' in data and len(data) > 1:\n",
    "        return '5 - Conversion'\n",
    "    elif '4' in data and len(data) > 1:\n",
    "        return '4 - Problema con DUI'\n",
    "    elif '3' in data and len(data) > 1:\n",
    "        return '3 - No confirma'\n",
    "    elif '2' in data and len(data) > 1:\n",
    "        return '2 - No elige opcion'\n",
    "    elif '1' in data and len(data) < 2:\n",
    "        return '1 - No inicio'\n",
    "    return '8 - No termino'\n",
    "\n",
    "df_msg_fct['last_nodo'] = df_msg_fct['nodo_flow'].map(lambda x: f_last_nodo(x))\n",
    "df_msg_fct.head(3)"
   ]
  },
  {
   "cell_type": "code",
   "execution_count": null,
   "metadata": {},
   "outputs": [],
   "source": [
    "df_temp12 = df_msg_fct.groupby('last_nodo').size()"
   ]
  },
  {
   "cell_type": "code",
   "execution_count": 49,
   "metadata": {},
   "outputs": [],
   "source": [
    "# Interesado column\n",
    "df_msg_fct['interest'] = df_msg_fct['answer_flow'].apply(lambda x: '1' in x if isinstance(x, list) else False) \n",
    "\n",
    "# Clientes que pudieron pasar del nodo 2 a nodo 3\n",
    "df_msg_fct['nodo_1_to_2'] = df_msg_fct['nodo_flow'].apply(lambda x: '1' and '2' in x if isinstance(x, list) else False) \n",
    "\n",
    "# Clientes que pudieron pasar del nodo 3 a nodo 4\n",
    "df_msg_fct['nodo_2_to_3'] = df_msg_fct['nodo_flow'].apply(lambda x: '2' and '3' in x if isinstance(x, list) else False) \n",
    "\n",
    "# Clientes que pudieron pasar del nodo 4 a nodo 5\n",
    "df_msg_fct['nodo_3_to_4'] = df_msg_fct['nodo_flow'].apply(lambda x: '3' and '4' in x if isinstance(x, list) else False) \n",
    "\n",
    "# Clientes que pudieron pasar del nodo 5 a nodo 6\n",
    "df_msg_fct['nodo_4_to_5'] = df_msg_fct['nodo_flow'].apply(lambda x: '4' and '5' in x if isinstance(x, list) else False) \n",
    "\n",
    "# Clientes que pudieron pasar del nodo 5 a nodo 6\n",
    "df_msg_fct['nodo_5_to_6'] = df_msg_fct['nodo_flow'].apply(lambda x: '5' and '6' in x if isinstance(x, list) else False) "
   ]
  },
  {
   "cell_type": "code",
   "execution_count": 50,
   "metadata": {},
   "outputs": [],
   "source": [
    "df_msg_fct['msg_date_answer_days'] = (df_msg_fct['user_msg_date_init'] - df_msg_fct['msg_date_init']).dt.total_seconds() / (24 * 3600)"
   ]
  },
  {
   "cell_type": "code",
   "execution_count": 51,
   "metadata": {},
   "outputs": [],
   "source": [
    "def clasificar_tiempo(diferencia_dias):\n",
    "    if diferencia_dias < 0:\n",
    "        return 'Respuesta antes del envío'\n",
    "    elif diferencia_dias == 0:\n",
    "        return 'Mismo día'\n",
    "    elif diferencia_dias < 1:\n",
    "        return '< 1 día'\n",
    "    elif diferencia_dias < 2:\n",
    "        return '< 2 días'\n",
    "    elif diferencia_dias < 3:\n",
    "        return '< 3 días'\n",
    "    else:\n",
    "        return '> 3 días o más'"
   ]
  },
  {
   "cell_type": "code",
   "execution_count": 52,
   "metadata": {},
   "outputs": [],
   "source": [
    "# Tiempo muerto\n",
    "df_msg_fct['tiempo_muerto'] = df_msg_fct['msg_date_answer_days'].apply(clasificar_tiempo)"
   ]
  },
  {
   "cell_type": "code",
   "execution_count": 53,
   "metadata": {},
   "outputs": [],
   "source": [
    "# Ayuda column\n",
    "df_msg_fct['ayuda'] = df_msg_fct['nodo_flow'].apply(lambda x: '71' in x if isinstance(x, list) else False) "
   ]
  },
  {
   "cell_type": "code",
   "execution_count": null,
   "metadata": {},
   "outputs": [],
   "source": [
    "# reorder columns \n",
    "df_dif = df_dif[['difusion_name', 'difusion_name_base', 'scheduled_date']]\n",
    "df_dif['scheduled_date'] = pd.to_datetime(df_dif['scheduled_date'])\n",
    "df_dif.columns\n",
    "df_dif.to_csv('data/tigo_esv_dif_dim.csv')"
   ]
  },
  {
   "cell_type": "code",
   "execution_count": null,
   "metadata": {},
   "outputs": [],
   "source": [
    "df_difusion_unq['date'] = pd.to_datetime(df_difusion_unq['date'])\n",
    "df_difusion_unq.to_csv('data/tigo_esv_dif_grp_dim.csv')"
   ]
  },
  {
   "cell_type": "code",
   "execution_count": null,
   "metadata": {},
   "outputs": [],
   "source": [
    "df_difusion_base.columns\n",
    "# reorder\n",
    "df_difusion_base = df_difusion_base[['caso_id', 'difusion_name', 'difusion_name_base', 'scheduled_date', 'error_code', 'error_msg', 'params_extra']]\n",
    "\n",
    "df_difusion_base['scheduled_date'] = pd.to_datetime(df_difusion_base['scheduled_date'])\n",
    "\n",
    "df_difusion_base.to_csv('data/tigo_esv_caso_dim.csv')"
   ]
  },
  {
   "cell_type": "code",
   "execution_count": 54,
   "metadata": {},
   "outputs": [],
   "source": [
    "df_msg.columns\n",
    "\n",
    "df_msg.rename(columns={'msg_subject ': 'msg_subject'}, inplace=True)\n",
    "# reorder\n",
    "df_msg = df_msg[['caso_id', 'difusion_name_base', 'msg_datetime', 'msg_date', 'msg_tp', 'msg_subject', 'msg_content', 'msg_group', 'error_msg', 'cstmr_nmbr', 'error_tp', 'nodo', 'answer']]\n",
    "df_msg['msg_date'] = pd.to_datetime(df_msg['msg_date'])\n",
    "df_msg.to_csv('data/tigo_esv_caso_msg_dtl.csv')"
   ]
  },
  {
   "cell_type": "code",
   "execution_count": null,
   "metadata": {},
   "outputs": [],
   "source": [
    "df_msg.shape"
   ]
  },
  {
   "cell_type": "code",
   "execution_count": 56,
   "metadata": {},
   "outputs": [],
   "source": [
    "df_msg_fct.dtypes\n",
    "df_msg_fct.to_csv('data/tigo_esv_caso_msg_fct.csv')\n"
   ]
  }
 ],
 "metadata": {
  "kernelspec": {
   "display_name": "tigo_esv-BcvVsddv",
   "language": "python",
   "name": "python3"
  },
  "language_info": {
   "codemirror_mode": {
    "name": "ipython",
    "version": 3
   },
   "file_extension": ".py",
   "mimetype": "text/x-python",
   "name": "python",
   "nbconvert_exporter": "python",
   "pygments_lexer": "ipython3",
   "version": "3.13.0"
  }
 },
 "nbformat": 4,
 "nbformat_minor": 2
}
