{
 "cells": [
  {
   "cell_type": "code",
   "execution_count": 2,
   "id": "2f796af8",
   "metadata": {},
   "outputs": [
    {
     "name": "stdout",
     "output_type": "stream",
     "text": [
      "before to clean \n",
      "\n",
      "\n",
      "\n",
      "\n",
      "\n",
      "\n",
      "\n",
      "\n",
      "\n",
      "\n",
      "Principio Activo:Meropenem 1000 mg\n",
      "Accion Terapéutica:Antibiótico Betalactámico\n",
      "\n"
     ]
    }
   ],
   "source": [
    "import re\n",
    "\n",
    "texto = \"\"\"\n",
    "Inventario General\n",
    "• La Paz: 700 unidades ✅  Fecha vencimiento no disponible\n",
    "• Santa Cruz: 0 unidades 🚨  Vence 2027-06-30\n",
    "• Potosí: 0 unidades 🚨  Vence 2027-06-30\n",
    "• Oruro: 0 unidades 🚨  Vence 2027-06-30\n",
    "• Sucre: 0 unidades 🚨  Vence 2027-06-30\n",
    "• Tarija: 0 unidades 🚨  Vence 2027-06-30\n",
    "• Cochabamba: 0 unidades 🚨  Vence 2027-06-30\n",
    "• Trinidad: 0 unidades 🚨  Vence 2027-06-30\n",
    "\n",
    "\n",
    "\n",
    "\n",
    "\n",
    "\n",
    "\n",
    "\n",
    "\n",
    "Principio Activo:Meropenem 1000 mg\n",
    "Accion Terapéutica:Antibiótico Betalactámico\n",
    "\"\"\"\n",
    "\n",
    "pattern = r'Inventario General([\\s\\S]*?)(?:Vence \\d{4}\\-\\d{2}\\-\\d{2}|Fecha vencimiento no disponible)(?=\\s*\\n\\w+|\\s*?$)'\n",
    "\n",
    "inventario = re.sub(pattern, \"\", texto, flags=re.DOTALL)\n",
    "\n",
    "print(f\"before to clean {inventario}\")\n",
    "\n",
    "# if inventario:\n",
    "#     print(inventario.group(0).strip())"
   ]
  }
 ],
 "metadata": {
  "kernelspec": {
   "display_name": "s1_analytics-AbeV10Aj",
   "language": "python",
   "name": "python3"
  },
  "language_info": {
   "codemirror_mode": {
    "name": "ipython",
    "version": 3
   },
   "file_extension": ".py",
   "mimetype": "text/x-python",
   "name": "python",
   "nbconvert_exporter": "python",
   "pygments_lexer": "ipython3",
   "version": "3.13.0"
  }
 },
 "nbformat": 4,
 "nbformat_minor": 5
}
